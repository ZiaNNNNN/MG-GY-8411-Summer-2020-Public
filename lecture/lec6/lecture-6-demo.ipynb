{
 "cells": [
  {
   "cell_type": "markdown",
   "metadata": {},
   "source": [
    "## Lecture 6\n",
    "\n",
    "In this demonstration, we will explore some components of clustering. Using a dataset about employee surveys, we will divide records into clusters based on shared attributes. "
   ]
  },
  {
   "cell_type": "code",
   "execution_count": 15,
   "metadata": {},
   "outputs": [],
   "source": [
    "# importing packages \n",
    "\n",
    "import pandas as pd\n",
    "import numpy as np\n",
    "\n",
    "import matplotlib.pyplot as plt\n",
    "\n",
    "from sklearn import cluster \n",
    "from sklearn.metrics import pairwise_distances\n",
    "from sklearn import metrics\n",
    "\n",
    "# changing some settings\n",
    "\n",
    "import warnings\n",
    "warnings.filterwarnings(\"ignore\")\n",
    "pd.set_option('display.max_rows', 10)\n",
    "pd.set_option('display.max_columns', 8)\n",
    "plt.rcParams['figure.figsize'] = (8,6)"
   ]
  },
  {
   "cell_type": "markdown",
   "metadata": {},
   "source": [
    "We will look at two approaches to clustering\n",
    "\n",
    "- partitioning\n",
    "- hierarchical \n",
    "\n",
    "Each approach will allow us to determine shared attributes of records. We will work with the dataset about employee surveys from Lecture 2. The survey asks employees to rank themselves on a scale of 1 to 10 in each of the following areas \n",
    "\n",
    "- Visualization \n",
    "- Computer Science\n",
    "- Math \n",
    "- Statistics\n",
    "- Machine Learning \n",
    "- Business\n",
    "- Communication\n"
   ]
  },
  {
   "cell_type": "code",
   "execution_count": 35,
   "metadata": {
    "collapsed": false
   },
   "outputs": [
    {
     "data": {
      "image/png": "[encoded data removed]",
      "text/plain": [
       "<Figure size 1440x720 with 7 Axes>"
      ]
     },
     "metadata": {
      "needs_background": "light"
     },
     "output_type": "display_data"
    }
   ],
   "source": [
    "d = pd.read_csv(\"survey.csv\")\n",
    "dpro = d[['profile_{}'.format(k + 1) for k in range(7)]]\n",
    "dpro.columns = ['Viz', 'CS', 'Math', 'Stats', 'ML', 'Bus', 'Com']\n",
    "\n",
    "fig = plt.figure(figsize = (20, 10))\n",
    "for i in range(7):\n",
    "    plt.subplot(3, 4, i + 1)\n",
    "    plt.hist(dpro[dpro.columns.values[i]])\n",
    "    plt.title(dpro.columns.values[i])\n",
    "\n",
    "fig.tight_layout()\n",
    "\n",
    "plt.show()"
   ]
  },
  {
   "cell_type": "markdown",
   "metadata": {},
   "source": [
    "We can examine the correlation between skills."
   ]
  },
  {
   "cell_type": "code",
   "execution_count": 3,
   "metadata": {
    "collapsed": false
   },
   "outputs": [
    {
     "data": {
      "image/png": "[encoded data removed]",
      "text/plain": [
       "<Figure size 432x288 with 1 Axes>"
      ]
     },
     "metadata": {
      "needs_background": "light"
     },
     "output_type": "display_data"
    },
    {
     "data": {
      "text/html": [
       "<div>\n",
       "<style scoped>\n",
       "    .dataframe tbody tr th:only-of-type {\n",
       "        vertical-align: middle;\n",
       "    }\n",
       "\n",
       "    .dataframe tbody tr th {\n",
       "        vertical-align: top;\n",
       "    }\n",
       "\n",
       "    .dataframe thead th {\n",
       "        text-align: right;\n",
       "    }\n",
       "</style>\n",
       "<table border=\"1\" class=\"dataframe\">\n",
       "  <thead>\n",
       "    <tr style=\"text-align: right;\">\n",
       "      <th></th>\n",
       "      <th>Viz</th>\n",
       "      <th>CS</th>\n",
       "      <th>Math</th>\n",
       "      <th>Stats</th>\n",
       "      <th>ML</th>\n",
       "      <th>Bus</th>\n",
       "      <th>Com</th>\n",
       "    </tr>\n",
       "  </thead>\n",
       "  <tbody>\n",
       "    <tr>\n",
       "      <th>Viz</th>\n",
       "      <td>0.000000</td>\n",
       "      <td>0.282906</td>\n",
       "      <td>0.015144</td>\n",
       "      <td>0.270820</td>\n",
       "      <td>0.328538</td>\n",
       "      <td>0.437584</td>\n",
       "      <td>0.368496</td>\n",
       "    </tr>\n",
       "    <tr>\n",
       "      <th>CS</th>\n",
       "      <td>0.282906</td>\n",
       "      <td>0.000000</td>\n",
       "      <td>0.215316</td>\n",
       "      <td>0.101657</td>\n",
       "      <td>0.481906</td>\n",
       "      <td>0.107712</td>\n",
       "      <td>0.185016</td>\n",
       "    </tr>\n",
       "    <tr>\n",
       "      <th>Math</th>\n",
       "      <td>0.015144</td>\n",
       "      <td>0.215316</td>\n",
       "      <td>0.000000</td>\n",
       "      <td>0.670016</td>\n",
       "      <td>0.272858</td>\n",
       "      <td>-0.044132</td>\n",
       "      <td>-0.037995</td>\n",
       "    </tr>\n",
       "    <tr>\n",
       "      <th>Stats</th>\n",
       "      <td>0.270820</td>\n",
       "      <td>0.101657</td>\n",
       "      <td>0.670016</td>\n",
       "      <td>0.000000</td>\n",
       "      <td>0.321812</td>\n",
       "      <td>0.201824</td>\n",
       "      <td>0.114225</td>\n",
       "    </tr>\n",
       "    <tr>\n",
       "      <th>ML</th>\n",
       "      <td>0.328538</td>\n",
       "      <td>0.481906</td>\n",
       "      <td>0.272858</td>\n",
       "      <td>0.321812</td>\n",
       "      <td>0.000000</td>\n",
       "      <td>0.117302</td>\n",
       "      <td>0.083175</td>\n",
       "    </tr>\n",
       "    <tr>\n",
       "      <th>Bus</th>\n",
       "      <td>0.437584</td>\n",
       "      <td>0.107712</td>\n",
       "      <td>-0.044132</td>\n",
       "      <td>0.201824</td>\n",
       "      <td>0.117302</td>\n",
       "      <td>0.000000</td>\n",
       "      <td>0.589699</td>\n",
       "    </tr>\n",
       "    <tr>\n",
       "      <th>Com</th>\n",
       "      <td>0.368496</td>\n",
       "      <td>0.185016</td>\n",
       "      <td>-0.037995</td>\n",
       "      <td>0.114225</td>\n",
       "      <td>0.083175</td>\n",
       "      <td>0.589699</td>\n",
       "      <td>0.000000</td>\n",
       "    </tr>\n",
       "  </tbody>\n",
       "</table>\n",
       "</div>"
      ],
      "text/plain": [
       "            Viz        CS      Math     Stats        ML       Bus       Com\n",
       "Viz    0.000000  0.282906  0.015144  0.270820  0.328538  0.437584  0.368496\n",
       "CS     0.282906  0.000000  0.215316  0.101657  0.481906  0.107712  0.185016\n",
       "Math   0.015144  0.215316  0.000000  0.670016  0.272858 -0.044132 -0.037995\n",
       "Stats  0.270820  0.101657  0.670016  0.000000  0.321812  0.201824  0.114225\n",
       "ML     0.328538  0.481906  0.272858  0.321812  0.000000  0.117302  0.083175\n",
       "Bus    0.437584  0.107712 -0.044132  0.201824  0.117302  0.000000  0.589699\n",
       "Com    0.368496  0.185016 -0.037995  0.114225  0.083175  0.589699  0.000000"
      ]
     },
     "execution_count": 3,
     "metadata": {},
     "output_type": "execute_result"
    }
   ],
   "source": [
    "#Get correlation and 0 out the diagonal (for plotting purposes)\n",
    "c_mat = dpro.corr()\n",
    "for i in range(c_mat.shape[0]):\n",
    "    c_mat.iloc[i,i] = 0\n",
    "\n",
    "fig, ax = plt.subplots()\n",
    "heatmap = ax.pcolor(c_mat, cmap=plt.cm.RdBu)\n",
    "\n",
    "#Set the tick labels and center them\n",
    "ax.set_xticks(np.arange(c_mat.shape[0])+0.5, minor=False)\n",
    "ax.set_yticks(np.arange(c_mat.shape[1])+0.5, minor=False)\n",
    "ax.set_xticklabels(c_mat.index.values, minor=False)\n",
    "ax.set_yticklabels(c_mat.index.values, minor=False)\n",
    "plt.show()\n",
    "c_mat"
   ]
  },
  {
   "cell_type": "markdown",
   "metadata": {},
   "source": [
    "We find different correlations. For example we see a relationship are between \"business/communication\" and \"math/stats.\" These two groups of correlated features are uncorrelated with each other. So we could have found distinct segments of the employees.\n",
    "\n",
    "#### Partitioning\n",
    "\n",
    "We can try a partitioning approach to cluster the employees."
   ]
  },
  {
   "cell_type": "code",
   "execution_count": 37,
   "metadata": {
    "collapsed": false
   },
   "outputs": [
    {
     "data": {
      "text/plain": [
       "KMeans(algorithm='auto', copy_x=True, init='k-means++', max_iter=300,\n",
       "    n_clusters=2, n_init=10, n_jobs=None, precompute_distances='auto',\n",
       "    random_state=42, tol=0.0001, verbose=0)"
      ]
     },
     "execution_count": 37,
     "metadata": {},
     "output_type": "execute_result"
    }
   ],
   "source": [
    "km = cluster.KMeans(n_clusters = 2, random_state=42)\n",
    "km.fit(dpro)"
   ]
  },
  {
   "cell_type": "markdown",
   "metadata": {},
   "source": [
    "We can fit the data to a model with the `scikit-learn` package. Note that we have to determine the number of clusters $k$."
   ]
  },
  {
   "cell_type": "code",
   "execution_count": 38,
   "metadata": {
    "collapsed": false
   },
   "outputs": [
    {
     "data": {
      "image/png": "[encoded data removed]",
      "text/plain": [
       "<Figure size 1080x648 with 2 Axes>"
      ]
     },
     "metadata": {
      "needs_background": "light"
     },
     "output_type": "display_data"
    }
   ],
   "source": [
    "inert_k = []\n",
    "sil_k = []\n",
    "\n",
    "for k in range(2, 20):\n",
    "    km = cluster.KMeans(n_clusters = k)\n",
    "    km.fit(dpro)\n",
    "    inert_k.append(km.inertia_)\n",
    "    sil_k.append(metrics.silhouette_score(dpro, km.labels_, metric = 'euclidean'))    \n",
    "\n",
    "fix = plt.figure(figsize = (15, 9))\n",
    "ax1 = plt.subplot(211)\n",
    "plt.bar(range(2,20), inert_k, 0.35)\n",
    "plt.title('Inertia by k')\n",
    "plt.tick_params(axis='x',which='both',bottom=False,top=False,labelbottom=False)\n",
    "ax1 = plt.subplot(212)\n",
    "plt.bar(range(2,20), sil_k, 0.35)\n",
    "plt.title('Silhoette Coefficient by k')\n",
    "\n",
    "plt.show()"
   ]
  },
  {
   "cell_type": "markdown",
   "metadata": {},
   "source": [
    "We can determine the number $k$ through a study of metrics. Here we have inertia and silhouette scores. We can see that increasing $k$ tends to decrease the inertia. However silhouette score does not increase. \n",
    "\n",
    "One method for determining a value of $k$ is called elbow method. We look at the chart for inertia. We choose $k$ where the values start to become flat. "
   ]
  },
  {
   "cell_type": "code",
   "execution_count": 40,
   "metadata": {
    "collapsed": false
   },
   "outputs": [
    {
     "data": {
      "image/png": "[encoded data removed]",
      "text/plain": [
       "<Figure size 864x648 with 6 Axes>"
      ]
     },
     "metadata": {
      "needs_background": "light"
     },
     "output_type": "display_data"
    }
   ],
   "source": [
    "fig = plt.figure(figsize = (12, 9))\n",
    "for k in range(2, 8):\n",
    "    km = cluster.KMeans(n_clusters = k, init = 'k-means++', n_init = 5)\n",
    "    km.fit(dpro)\n",
    "    ax = fig.add_subplot(3, 2 , k - 1)\n",
    "    plt.hist(km.labels_)\n",
    "    plt.title('k={}'.format(k))\n",
    "\n",
    "fig.tight_layout()\n",
    "\n",
    "plt.show()"
   ]
  },
  {
   "cell_type": "markdown",
   "metadata": {},
   "source": [
    "Here we have the distortion. We see that the clusters are balanced for all values of $k$. \n",
    "\n",
    "Now we can examine the centers of the clusters."
   ]
  },
  {
   "cell_type": "code",
   "execution_count": 43,
   "metadata": {
    "collapsed": false
   },
   "outputs": [],
   "source": [
    "#Clustering on original X space\n",
    "km = cluster.KMeans(n_clusters = 4)\n",
    "km.fit(dpro)\n",
    "cols = ['r', 'y', 'b', 'g']"
   ]
  },
  {
   "cell_type": "code",
   "execution_count": 27,
   "metadata": {
    "collapsed": false
   },
   "outputs": [
    {
     "data": {
      "image/png": "[encoded data removed]",
      "text/plain": [
       "<Figure size 864x360 with 1 Axes>"
      ]
     },
     "metadata": {
      "needs_background": "light"
     },
     "output_type": "display_data"
    }
   ],
   "source": [
    "dpro_copy = dpro.copy()\n",
    "dpro_copy[\"label\"] = km.labels_\n",
    "\n",
    "fig = plt.figure(figsize = (12, 5))\n",
    "for i, cc in enumerate(km.cluster_centers_):\n",
    "    w = 0.15\n",
    "    ax = fig.add_subplot(1, 1, 1)\n",
    "    plt.bar(np.arange(len(cc)) + i*w, cc - dpro.mean(), w, color = cols[i], label='Cluster {}'.format(i))\n",
    "    ax.set_xticklabels(dpro.columns.values)\n",
    "    ax.set_xticks(np.arange(len(cc))+2*w)\n",
    "\n",
    "plt.ylabel('Mean Adjusted Score')\n",
    "plt.title('Mean Adjusted Score')\n",
    "plt.legend(loc = 3, ncol = 4, prop={'size':9});"
   ]
  },
  {
   "cell_type": "markdown",
   "metadata": {},
   "source": [
    "In the above we chose $k=4$. Let's assume we did this because we want to assign employees to groups of 4 to work together on the task. Our goal would be to maximize the skill diversity of each group, so we would cluster into 4 clusters and assign one employee per cluster into each group. If we look at the above plots, we can get a sense of how the average person within each group differs from the average employee on the team. \n",
    "\n",
    "<b><u>Employee Profiles</u></b>\n",
    "<ul>\n",
    "    <li><u>Cluster 0</u> appears to be strongest in business, communication and vizualization. </li>\n",
    "    <li><u>Cluster 1</u> in general is the group that tends to rate itself low on all dimensions </li>\n",
    "    <li><u>Cluster 2</u> in general is the group that tends to be very confident on all technical subjects </li>\n",
    "    <li><u>Cluster 3</u> is the math/stats group</li>\n",
    "    </ul>\n",
    "</p>\n",
    "\n",
    "#### Hierarchical \n",
    "\n",
    "In the above we showed how to compute and evaluate K-Means, and we also came up with a use case for the clustering. \n",
    "\n",
    "The above use case (i.e., putting employees into groups of size 4) essentially dictated the choice of $k$. In a more general use case, we might not have such an application specific best $k$. One way we can be more general is to use hiearchical clustering. \n",
    "\n",
    "In this type of clustering, the individual clusters are embedded in a taxonomy. We can use this taxonomy to see if there are any natural values of $k$ that make the most sense. We can also use it to ensure that each final cluster we choose is well balanced in size. Additionally, we can use this to get a sense of any outlier clusters (those with very small counts).\n",
    "\n",
    "Using Scipy isn't as straightforward as using Sklearn, but again, scipy has a good procedure for displaying the dendrogram."
   ]
  },
  {
   "cell_type": "code",
   "execution_count": 46,
   "metadata": {
    "collapsed": false
   },
   "outputs": [
    {
     "data": {
      "image/png": "[encoded data removed]",
      "text/plain": [
       "<Figure size 864x432 with 1 Axes>"
      ]
     },
     "metadata": {
      "needs_background": "light"
     },
     "output_type": "display_data"
    }
   ],
   "source": [
    "from scipy.spatial.distance import pdist, squareform\n",
    "from scipy.cluster.hierarchy import linkage, dendrogram\n",
    "\n",
    "#This function gets pairwise distances between observations in n-dimensional space.\n",
    "dists = pdist(dpro)\n",
    "\n",
    "#This function performs hierarchical/agglomerative clustering on the condensed distance matrix y.\n",
    "links = linkage(dists)\n",
    "\n",
    "p = 46\n",
    "#Now we want to plot the dendrogram\n",
    "fig = plt.figure(figsize = (12, 6))\n",
    "den = dendrogram(links, truncate_mode = 'lastp', p = p)\n",
    "plt.xlabel('Samples')\n",
    "plt.ylabel('Distance')\n",
    "plt.suptitle('Samples clustering', fontweight='bold', fontsize=14);\n",
    "\n",
    "plt.show()"
   ]
  },
  {
   "cell_type": "markdown",
   "metadata": {},
   "source": [
    "<p>Let's try to understand the output of the linkage function. The first few records look like:\n",
    "</p>"
   ]
  },
  {
   "cell_type": "code",
   "execution_count": 30,
   "metadata": {
    "collapsed": false
   },
   "outputs": [
    {
     "data": {
      "text/plain": [
       "array([[ 16.        , 121.        ,   1.73205081,   2.        ],\n",
       "       [ 93.        , 110.        ,   1.73205081,   2.        ],\n",
       "       [ 13.        , 159.        ,   1.73205081,   3.        ],\n",
       "       [ 35.        , 157.        ,   1.73205081,   2.        ],\n",
       "       [ 92.        , 130.        ,   1.73205081,   2.        ]])"
      ]
     },
     "execution_count": 30,
     "metadata": {},
     "output_type": "execute_result"
    }
   ],
   "source": [
    "links[:5,:]"
   ]
  },
  {
   "cell_type": "markdown",
   "metadata": {},
   "source": [
    "<p>The way we read this is as follows:\n",
    "<ul>\n",
    "    <li>At the lowest level, each record is assigned to its own cluster, and the cluster number is just its original index.</li>\n",
    "    <li>The linkage function returns an (n-1) by 4 matrix where:</li>\n",
    "        <ul>\n",
    "            <li>The ith row corresponds to a new cluster, whose id=n+i</li>\n",
    "            <li>The L[i,0] and L[i,1] columns are the two clusters that are joined to make cluster (n+i)</li>\n",
    "            <li>The column L[i, 2] is the distance between L[i,0] and L[i,1]</li>\n",
    "            <li>The last column is the final size of cluster (n+i)</li>\n",
    "        </ul>\n",
    "</ul><br>\n",
    "In the above few rows, we see that user 19 and 30 were combined to make cluster 46. Then, we see in the 5th row that this cluster 46 was joined with user 0 to make cluster 50. If we look up at the dendrogram we can see these 3 students being combined into a single cluster.\n",
    "\n",
    "</p>"
   ]
  },
  {
   "cell_type": "code",
   "execution_count": 47,
   "metadata": {
    "collapsed": false
   },
   "outputs": [
    {
     "data": {
      "text/plain": [
       "AgglomerativeClustering(affinity='euclidean', compute_full_tree='auto',\n",
       "            connectivity=None, linkage='ward', memory=None, n_clusters=4,\n",
       "            pooling_func='deprecated')"
      ]
     },
     "execution_count": 47,
     "metadata": {},
     "output_type": "execute_result"
    }
   ],
   "source": [
    "ka = cluster.AgglomerativeClustering(n_clusters = 4)\n",
    "ka.fit(dpro)"
   ]
  },
  {
   "cell_type": "markdown",
   "metadata": {},
   "source": [
    "<p>Let's do another plot of mean adjusted centroids to get a sense of what each cluster represents. Sklearn.cluster.Ward does not return the centroids, so we'll have to compute this step ourselves.\n",
    "</p>"
   ]
  },
  {
   "cell_type": "code",
   "execution_count": 48,
   "metadata": {
    "collapsed": false
   },
   "outputs": [
    {
     "data": {
      "image/png": "[encoded data removed]",
      "text/plain": [
       "<Figure size 864x360 with 1 Axes>"
      ]
     },
     "metadata": {
      "needs_background": "light"
     },
     "output_type": "display_data"
    }
   ],
   "source": [
    "#Clustering on original X space using Hierarchical clustering\n",
    "\n",
    "cols = ['r','y','b','g']\n",
    "\n",
    "fig = plt.figure(figsize = (12, 5))\n",
    "for i in range(4):\n",
    "    w = 0.15\n",
    "    ax = fig.add_subplot(1,1,1)\n",
    "    cc = dpro[(ka.labels_==i)].mean()\n",
    "    plt.bar(np.arange(len(cc))+i*w, cc - dpro.mean(), w, color = cols[i], label='Cluster {}'.format(i))\n",
    "    ax.set_xticklabels(dpro.columns.values)\n",
    "    ax.set_xticks(np.arange(len(cc))+2*w)\n",
    "\n",
    "plt.ylabel('Mean Adjusted Score')\n",
    "plt.title('Avg Scores by Cluster')\n",
    "plt.legend(loc = 3, ncol = 4, prop={'size':9})\n",
    "\n",
    "plt.show()\n",
    "   "
   ]
  },
  {
   "cell_type": "markdown",
   "metadata": {},
   "source": [
    "<p>When we plot the 4 clusters using hierarchical clustering, we get similar conceptual groupings as we did with k-means. However, I find this latter plot more easy to interpret (remember, this is a bit subjective).\n",
    "<br><br>\n",
    "<b><u>Employee Profiles using Hierarchical Clustering</u></b>\n",
    "<ul>\n",
    "    <li><u>Cluster 0:</u> This group has most of the math/stats experience</li>\n",
    "    <li><u>Cluster 1:</u> These are the business and strategy minded employees. </li>\n",
    "    <li><u>Cluster 2:</u> These are the math/stats folks in the group.</li>\n",
    "    <li><u>Cluster 3:</u> This group is a little below average in skill across all categories (or at least is the group that underrates their own skill levels).</li>\n",
    "</ul>\n",
    "\n",
    "<br><br>\n",
    "So now we have to make a choice - which clustering method to use for the employee profiles. One last thing to compare is the distribution of employees across clusters for each method.\n",
    "</p>"
   ]
  },
  {
   "cell_type": "code",
   "execution_count": 34,
   "metadata": {
    "collapsed": false
   },
   "outputs": [
    {
     "data": {
      "image/png": "[encoded data removed]",
      "text/plain": [
       "<Figure size 864x288 with 2 Axes>"
      ]
     },
     "metadata": {
      "needs_background": "light"
     },
     "output_type": "display_data"
    }
   ],
   "source": [
    "\n",
    "fig = plt.figure(figsize = (12, 4))\n",
    "\n",
    "plt.subplot(1,3,1)\n",
    "plt.hist(ka.labels_)\n",
    "plt.ylim([0,20])\n",
    "plt.title('Hier: X')\n",
    "\n",
    "plt.subplot(1,3,2)\n",
    "plt.hist(km.labels_)\n",
    "plt.ylim([0,20])\n",
    "plt.title('K-means: X')\n",
    "\n",
    "\n",
    "fig.tight_layout()\n",
    "\n",
    "\n",
    "plt.show()"
   ]
  },
  {
   "cell_type": "markdown",
   "metadata": {},
   "source": [
    "<p>Comparing the above methods, we see fairly even representation in the clusters. Given this result, it is reasonable to choose the clustering method that gives us a more interpretable result. \n",
    "</p>"
   ]
  }
 ],
 "metadata": {
  "anaconda-cloud": {},
  "kernelspec": {
   "display_name": "Python 3",
   "language": "python",
   "name": "python3"
  },
  "language_info": {
   "codemirror_mode": {
    "name": "ipython",
    "version": 3
   },
   "file_extension": ".py",
   "mimetype": "text/x-python",
   "name": "python",
   "nbconvert_exporter": "python",
   "pygments_lexer": "ipython3",
   "version": "3.7.3"
  }
 },
 "nbformat": 4,
 "nbformat_minor": 2
}

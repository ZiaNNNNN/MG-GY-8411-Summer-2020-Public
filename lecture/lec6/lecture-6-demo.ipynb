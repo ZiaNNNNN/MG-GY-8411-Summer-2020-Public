{
 "cells": [
  {
   "cell_type": "markdown",
   "metadata": {},
   "source": [
    "## Lecture 6\n",
    "\n",
    "In this demonstration, we will explore some components of clustering. Using a dataset about employee surveys, we will divide records into clusters based on shared attributes. "
   ]
  },
  {
   "cell_type": "code",
   "execution_count": 1,
   "metadata": {},
   "outputs": [],
   "source": [
    "# importing packages \n",
    "\n",
    "import pandas as pd\n",
    "import numpy as np\n",
    "\n",
    "import matplotlib.pyplot as plt\n",
    "\n",
    "from sklearn import cluster \n",
    "from sklearn import metrics\n",
    "\n",
    "import helper_functions\n",
    "\n",
    "# changing some settings\n",
    "\n",
    "# import warnings\n",
    "# warnings.filterwarnings(\"ignore\")\n",
    "pd.set_option('display.max_rows', 10)\n",
    "pd.set_option('display.max_columns', 8)\n",
    "plt.rcParams['figure.figsize'] = (8,6)"
   ]
  },
  {
   "cell_type": "markdown",
   "metadata": {},
   "source": [
    "We will look at two approaches to clustering\n",
    "\n",
    "- partitioning\n",
    "- hierarchical \n",
    "\n",
    "Each approach will allow us to determine shared attributes of records. "
   ]
  },
  {
   "cell_type": "code",
   "execution_count": 2,
   "metadata": {},
   "outputs": [
    {
     "data": {
      "text/html": [
       "<div>\n",
       "<style scoped>\n",
       "    .dataframe tbody tr th:only-of-type {\n",
       "        vertical-align: middle;\n",
       "    }\n",
       "\n",
       "    .dataframe tbody tr th {\n",
       "        vertical-align: top;\n",
       "    }\n",
       "\n",
       "    .dataframe thead th {\n",
       "        text-align: right;\n",
       "    }\n",
       "</style>\n",
       "<table border=\"1\" class=\"dataframe\">\n",
       "  <thead>\n",
       "    <tr style=\"text-align: right;\">\n",
       "      <th></th>\n",
       "      <th>cycle</th>\n",
       "      <th>id</th>\n",
       "      <th>cs_python</th>\n",
       "      <th>cs_java</th>\n",
       "      <th>...</th>\n",
       "      <th>profile_6</th>\n",
       "      <th>profile_7</th>\n",
       "      <th>len_answer</th>\n",
       "      <th>experience</th>\n",
       "    </tr>\n",
       "  </thead>\n",
       "  <tbody>\n",
       "    <tr>\n",
       "      <th>0</th>\n",
       "      <td>Summer</td>\n",
       "      <td>1</td>\n",
       "      <td>1</td>\n",
       "      <td>0</td>\n",
       "      <td>...</td>\n",
       "      <td>3</td>\n",
       "      <td>6</td>\n",
       "      <td>74</td>\n",
       "      <td>None, I just finished my undergrad!</td>\n",
       "    </tr>\n",
       "    <tr>\n",
       "      <th>1</th>\n",
       "      <td>Spring</td>\n",
       "      <td>2</td>\n",
       "      <td>1</td>\n",
       "      <td>1</td>\n",
       "      <td>...</td>\n",
       "      <td>3</td>\n",
       "      <td>8</td>\n",
       "      <td>597</td>\n",
       "      <td>None, I just finished my undergrad!</td>\n",
       "    </tr>\n",
       "    <tr>\n",
       "      <th>2</th>\n",
       "      <td>Fall</td>\n",
       "      <td>3</td>\n",
       "      <td>0</td>\n",
       "      <td>0</td>\n",
       "      <td>...</td>\n",
       "      <td>9</td>\n",
       "      <td>9</td>\n",
       "      <td>548</td>\n",
       "      <td>5+ years, I'm a veteran!</td>\n",
       "    </tr>\n",
       "    <tr>\n",
       "      <th>3</th>\n",
       "      <td>Spring</td>\n",
       "      <td>4</td>\n",
       "      <td>0</td>\n",
       "      <td>0</td>\n",
       "      <td>...</td>\n",
       "      <td>6</td>\n",
       "      <td>8</td>\n",
       "      <td>954</td>\n",
       "      <td>5+ years, I'm a veteran!</td>\n",
       "    </tr>\n",
       "    <tr>\n",
       "      <th>4</th>\n",
       "      <td>Fall</td>\n",
       "      <td>5</td>\n",
       "      <td>0</td>\n",
       "      <td>0</td>\n",
       "      <td>...</td>\n",
       "      <td>6</td>\n",
       "      <td>7</td>\n",
       "      <td>612</td>\n",
       "      <td>2-5 years, I'm getting good at what I do!</td>\n",
       "    </tr>\n",
       "    <tr>\n",
       "      <th>...</th>\n",
       "      <td>...</td>\n",
       "      <td>...</td>\n",
       "      <td>...</td>\n",
       "      <td>...</td>\n",
       "      <td>...</td>\n",
       "      <td>...</td>\n",
       "      <td>...</td>\n",
       "      <td>...</td>\n",
       "      <td>...</td>\n",
       "    </tr>\n",
       "    <tr>\n",
       "      <th>153</th>\n",
       "      <td>Spring</td>\n",
       "      <td>154</td>\n",
       "      <td>1</td>\n",
       "      <td>1</td>\n",
       "      <td>...</td>\n",
       "      <td>8</td>\n",
       "      <td>10</td>\n",
       "      <td>265</td>\n",
       "      <td>5+ years, I'm a veteran!</td>\n",
       "    </tr>\n",
       "    <tr>\n",
       "      <th>154</th>\n",
       "      <td>Summer</td>\n",
       "      <td>155</td>\n",
       "      <td>1</td>\n",
       "      <td>1</td>\n",
       "      <td>...</td>\n",
       "      <td>1</td>\n",
       "      <td>2</td>\n",
       "      <td>402</td>\n",
       "      <td>None, I just finished my undergrad!</td>\n",
       "    </tr>\n",
       "    <tr>\n",
       "      <th>155</th>\n",
       "      <td>Fall</td>\n",
       "      <td>156</td>\n",
       "      <td>1</td>\n",
       "      <td>1</td>\n",
       "      <td>...</td>\n",
       "      <td>1</td>\n",
       "      <td>5</td>\n",
       "      <td>555</td>\n",
       "      <td>&lt; 2 years, I'm fresh!</td>\n",
       "    </tr>\n",
       "    <tr>\n",
       "      <th>156</th>\n",
       "      <td>Summer</td>\n",
       "      <td>157</td>\n",
       "      <td>1</td>\n",
       "      <td>0</td>\n",
       "      <td>...</td>\n",
       "      <td>1</td>\n",
       "      <td>4</td>\n",
       "      <td>0</td>\n",
       "      <td>None, I just finished my undergrad!</td>\n",
       "    </tr>\n",
       "    <tr>\n",
       "      <th>157</th>\n",
       "      <td>Spring</td>\n",
       "      <td>158</td>\n",
       "      <td>1</td>\n",
       "      <td>0</td>\n",
       "      <td>...</td>\n",
       "      <td>1</td>\n",
       "      <td>6</td>\n",
       "      <td>222</td>\n",
       "      <td>&lt; 2 years, I'm fresh!</td>\n",
       "    </tr>\n",
       "  </tbody>\n",
       "</table>\n",
       "<p>158 rows × 18 columns</p>\n",
       "</div>"
      ],
      "text/plain": [
       "      cycle   id  cs_python  cs_java  ...  profile_6  profile_7  len_answer  \\\n",
       "0    Summer    1          1        0  ...          3          6          74   \n",
       "1    Spring    2          1        1  ...          3          8         597   \n",
       "2      Fall    3          0        0  ...          9          9         548   \n",
       "3    Spring    4          0        0  ...          6          8         954   \n",
       "4      Fall    5          0        0  ...          6          7         612   \n",
       "..      ...  ...        ...      ...  ...        ...        ...         ...   \n",
       "153  Spring  154          1        1  ...          8         10         265   \n",
       "154  Summer  155          1        1  ...          1          2         402   \n",
       "155    Fall  156          1        1  ...          1          5         555   \n",
       "156  Summer  157          1        0  ...          1          4           0   \n",
       "157  Spring  158          1        0  ...          1          6         222   \n",
       "\n",
       "                                    experience  \n",
       "0          None, I just finished my undergrad!  \n",
       "1          None, I just finished my undergrad!  \n",
       "2                     5+ years, I'm a veteran!  \n",
       "3                     5+ years, I'm a veteran!  \n",
       "4    2-5 years, I'm getting good at what I do!  \n",
       "..                                         ...  \n",
       "153                   5+ years, I'm a veteran!  \n",
       "154        None, I just finished my undergrad!  \n",
       "155                      < 2 years, I'm fresh!  \n",
       "156        None, I just finished my undergrad!  \n",
       "157                      < 2 years, I'm fresh!  \n",
       "\n",
       "[158 rows x 18 columns]"
      ]
     },
     "execution_count": 2,
     "metadata": {},
     "output_type": "execute_result"
    }
   ],
   "source": [
    "survey = pd.read_csv(\"survey.csv\")\n",
    "survey"
   ]
  },
  {
   "cell_type": "markdown",
   "metadata": {},
   "source": [
    "We will work with the dataset about employee surveys from Lecture 2. The survey asks employees to rank themselves on a scale of 1 to 10 on each of the following areas \n",
    "\n",
    "- Visualization \n",
    "- Computer Science\n",
    "- Math \n",
    "- Statistics\n",
    "- Machine Learning \n",
    "- Business\n",
    "- Communication"
   ]
  },
  {
   "cell_type": "code",
   "execution_count": 3,
   "metadata": {},
   "outputs": [
    {
     "data": {
      "text/html": [
       "<div>\n",
       "<style scoped>\n",
       "    .dataframe tbody tr th:only-of-type {\n",
       "        vertical-align: middle;\n",
       "    }\n",
       "\n",
       "    .dataframe tbody tr th {\n",
       "        vertical-align: top;\n",
       "    }\n",
       "\n",
       "    .dataframe thead th {\n",
       "        text-align: right;\n",
       "    }\n",
       "</style>\n",
       "<table border=\"1\" class=\"dataframe\">\n",
       "  <thead>\n",
       "    <tr style=\"text-align: right;\">\n",
       "      <th></th>\n",
       "      <th>Viz</th>\n",
       "      <th>CS</th>\n",
       "      <th>Math</th>\n",
       "      <th>Stats</th>\n",
       "      <th>ML</th>\n",
       "      <th>Bus</th>\n",
       "      <th>Com</th>\n",
       "    </tr>\n",
       "  </thead>\n",
       "  <tbody>\n",
       "    <tr>\n",
       "      <th>0</th>\n",
       "      <td>2</td>\n",
       "      <td>2</td>\n",
       "      <td>2</td>\n",
       "      <td>5</td>\n",
       "      <td>0</td>\n",
       "      <td>3</td>\n",
       "      <td>6</td>\n",
       "    </tr>\n",
       "    <tr>\n",
       "      <th>1</th>\n",
       "      <td>4</td>\n",
       "      <td>9</td>\n",
       "      <td>7</td>\n",
       "      <td>7</td>\n",
       "      <td>6</td>\n",
       "      <td>3</td>\n",
       "      <td>8</td>\n",
       "    </tr>\n",
       "    <tr>\n",
       "      <th>2</th>\n",
       "      <td>7</td>\n",
       "      <td>5</td>\n",
       "      <td>4</td>\n",
       "      <td>3</td>\n",
       "      <td>2</td>\n",
       "      <td>9</td>\n",
       "      <td>9</td>\n",
       "    </tr>\n",
       "    <tr>\n",
       "      <th>3</th>\n",
       "      <td>7</td>\n",
       "      <td>7</td>\n",
       "      <td>5</td>\n",
       "      <td>4</td>\n",
       "      <td>1</td>\n",
       "      <td>6</td>\n",
       "      <td>8</td>\n",
       "    </tr>\n",
       "    <tr>\n",
       "      <th>4</th>\n",
       "      <td>7</td>\n",
       "      <td>6</td>\n",
       "      <td>8</td>\n",
       "      <td>8</td>\n",
       "      <td>4</td>\n",
       "      <td>6</td>\n",
       "      <td>7</td>\n",
       "    </tr>\n",
       "    <tr>\n",
       "      <th>...</th>\n",
       "      <td>...</td>\n",
       "      <td>...</td>\n",
       "      <td>...</td>\n",
       "      <td>...</td>\n",
       "      <td>...</td>\n",
       "      <td>...</td>\n",
       "      <td>...</td>\n",
       "    </tr>\n",
       "    <tr>\n",
       "      <th>153</th>\n",
       "      <td>8</td>\n",
       "      <td>7</td>\n",
       "      <td>6</td>\n",
       "      <td>8</td>\n",
       "      <td>2</td>\n",
       "      <td>8</td>\n",
       "      <td>10</td>\n",
       "    </tr>\n",
       "    <tr>\n",
       "      <th>154</th>\n",
       "      <td>4</td>\n",
       "      <td>2</td>\n",
       "      <td>5</td>\n",
       "      <td>6</td>\n",
       "      <td>6</td>\n",
       "      <td>1</td>\n",
       "      <td>2</td>\n",
       "    </tr>\n",
       "    <tr>\n",
       "      <th>155</th>\n",
       "      <td>4</td>\n",
       "      <td>4</td>\n",
       "      <td>3</td>\n",
       "      <td>3</td>\n",
       "      <td>1</td>\n",
       "      <td>1</td>\n",
       "      <td>5</td>\n",
       "    </tr>\n",
       "    <tr>\n",
       "      <th>156</th>\n",
       "      <td>1</td>\n",
       "      <td>3</td>\n",
       "      <td>7</td>\n",
       "      <td>8</td>\n",
       "      <td>1</td>\n",
       "      <td>1</td>\n",
       "      <td>4</td>\n",
       "    </tr>\n",
       "    <tr>\n",
       "      <th>157</th>\n",
       "      <td>1</td>\n",
       "      <td>3</td>\n",
       "      <td>5</td>\n",
       "      <td>5</td>\n",
       "      <td>1</td>\n",
       "      <td>1</td>\n",
       "      <td>6</td>\n",
       "    </tr>\n",
       "  </tbody>\n",
       "</table>\n",
       "<p>158 rows × 7 columns</p>\n",
       "</div>"
      ],
      "text/plain": [
       "     Viz  CS  Math  Stats  ML  Bus  Com\n",
       "0      2   2     2      5   0    3    6\n",
       "1      4   9     7      7   6    3    8\n",
       "2      7   5     4      3   2    9    9\n",
       "3      7   7     5      4   1    6    8\n",
       "4      7   6     8      8   4    6    7\n",
       "..   ...  ..   ...    ...  ..  ...  ...\n",
       "153    8   7     6      8   2    8   10\n",
       "154    4   2     5      6   6    1    2\n",
       "155    4   4     3      3   1    1    5\n",
       "156    1   3     7      8   1    1    4\n",
       "157    1   3     5      5   1    1    6\n",
       "\n",
       "[158 rows x 7 columns]"
      ]
     },
     "execution_count": 3,
     "metadata": {},
     "output_type": "execute_result"
    }
   ],
   "source": [
    "survey = survey[['profile_{}'.format(k) for k in range(1,8)]]\n",
    "survey.columns = ['Viz', 'CS', 'Math', 'Stats', 'ML', 'Bus', 'Com']\n",
    "survey"
   ]
  },
  {
   "cell_type": "markdown",
   "metadata": {},
   "source": [
    "We can generate histograms to better understand the distributions of responses for each category."
   ]
  },
  {
   "cell_type": "code",
   "execution_count": 4,
   "metadata": {
    "collapsed": false
   },
   "outputs": [
    {
     "data": {
      "image/png": "[encoded data removed]",
      "text/plain": [
       "<Figure size 1440x720 with 7 Axes>"
      ]
     },
     "metadata": {
      "needs_background": "light"
     },
     "output_type": "display_data"
    }
   ],
   "source": [
    "fig, axes = plt.subplots(2,4, figsize = (20,10))\n",
    "\n",
    "for category, ax in zip(survey.columns, axes.flatten()[:-1]):\n",
    "    ax.hist(survey[category], rwidth = 0.95)\n",
    "    ax.set_title(category)\n",
    "\n",
    "plt.delaxes(axes.flatten()[-1])    \n",
    "    \n",
    "plt.show();    "
   ]
  },
  {
   "cell_type": "markdown",
   "metadata": {},
   "source": [
    "Note that some categories have comparable distributions like `Communication` and `Business`. We can examine the correlation between skills. Remember that correlation measures the association between two variables on a scale from -1 to 1. We nickname correlation as cosine score to remind us that correlation measures whether variables \"point in the same direction\"\n",
    "\n",
    "- 1 : same direction \n",
    "- 0 : perpendicular \n",
    "- -1 : opposite direction \n",
    "\n",
    "We can compute the correlation between pairs of categories."
   ]
  },
  {
   "cell_type": "code",
   "execution_count": 5,
   "metadata": {
    "collapsed": false
   },
   "outputs": [
    {
     "data": {
      "text/html": [
       "<div>\n",
       "<style scoped>\n",
       "    .dataframe tbody tr th:only-of-type {\n",
       "        vertical-align: middle;\n",
       "    }\n",
       "\n",
       "    .dataframe tbody tr th {\n",
       "        vertical-align: top;\n",
       "    }\n",
       "\n",
       "    .dataframe thead th {\n",
       "        text-align: right;\n",
       "    }\n",
       "</style>\n",
       "<table border=\"1\" class=\"dataframe\">\n",
       "  <thead>\n",
       "    <tr style=\"text-align: right;\">\n",
       "      <th></th>\n",
       "      <th>Viz</th>\n",
       "      <th>CS</th>\n",
       "      <th>Math</th>\n",
       "      <th>Stats</th>\n",
       "      <th>ML</th>\n",
       "      <th>Bus</th>\n",
       "      <th>Com</th>\n",
       "    </tr>\n",
       "  </thead>\n",
       "  <tbody>\n",
       "    <tr>\n",
       "      <th>Viz</th>\n",
       "      <td>1.000000</td>\n",
       "      <td>0.282906</td>\n",
       "      <td>0.015144</td>\n",
       "      <td>0.270820</td>\n",
       "      <td>0.328538</td>\n",
       "      <td>0.437584</td>\n",
       "      <td>0.368496</td>\n",
       "    </tr>\n",
       "    <tr>\n",
       "      <th>CS</th>\n",
       "      <td>0.282906</td>\n",
       "      <td>1.000000</td>\n",
       "      <td>0.215316</td>\n",
       "      <td>0.101657</td>\n",
       "      <td>0.481906</td>\n",
       "      <td>0.107712</td>\n",
       "      <td>0.185016</td>\n",
       "    </tr>\n",
       "    <tr>\n",
       "      <th>Math</th>\n",
       "      <td>0.015144</td>\n",
       "      <td>0.215316</td>\n",
       "      <td>1.000000</td>\n",
       "      <td>0.670016</td>\n",
       "      <td>0.272858</td>\n",
       "      <td>-0.044132</td>\n",
       "      <td>-0.037995</td>\n",
       "    </tr>\n",
       "    <tr>\n",
       "      <th>Stats</th>\n",
       "      <td>0.270820</td>\n",
       "      <td>0.101657</td>\n",
       "      <td>0.670016</td>\n",
       "      <td>1.000000</td>\n",
       "      <td>0.321812</td>\n",
       "      <td>0.201824</td>\n",
       "      <td>0.114225</td>\n",
       "    </tr>\n",
       "    <tr>\n",
       "      <th>ML</th>\n",
       "      <td>0.328538</td>\n",
       "      <td>0.481906</td>\n",
       "      <td>0.272858</td>\n",
       "      <td>0.321812</td>\n",
       "      <td>1.000000</td>\n",
       "      <td>0.117302</td>\n",
       "      <td>0.083175</td>\n",
       "    </tr>\n",
       "    <tr>\n",
       "      <th>Bus</th>\n",
       "      <td>0.437584</td>\n",
       "      <td>0.107712</td>\n",
       "      <td>-0.044132</td>\n",
       "      <td>0.201824</td>\n",
       "      <td>0.117302</td>\n",
       "      <td>1.000000</td>\n",
       "      <td>0.589699</td>\n",
       "    </tr>\n",
       "    <tr>\n",
       "      <th>Com</th>\n",
       "      <td>0.368496</td>\n",
       "      <td>0.185016</td>\n",
       "      <td>-0.037995</td>\n",
       "      <td>0.114225</td>\n",
       "      <td>0.083175</td>\n",
       "      <td>0.589699</td>\n",
       "      <td>1.000000</td>\n",
       "    </tr>\n",
       "  </tbody>\n",
       "</table>\n",
       "</div>"
      ],
      "text/plain": [
       "            Viz        CS      Math     Stats        ML       Bus       Com\n",
       "Viz    1.000000  0.282906  0.015144  0.270820  0.328538  0.437584  0.368496\n",
       "CS     0.282906  1.000000  0.215316  0.101657  0.481906  0.107712  0.185016\n",
       "Math   0.015144  0.215316  1.000000  0.670016  0.272858 -0.044132 -0.037995\n",
       "Stats  0.270820  0.101657  0.670016  1.000000  0.321812  0.201824  0.114225\n",
       "ML     0.328538  0.481906  0.272858  0.321812  1.000000  0.117302  0.083175\n",
       "Bus    0.437584  0.107712 -0.044132  0.201824  0.117302  1.000000  0.589699\n",
       "Com    0.368496  0.185016 -0.037995  0.114225  0.083175  0.589699  1.000000"
      ]
     },
     "execution_count": 5,
     "metadata": {},
     "output_type": "execute_result"
    }
   ],
   "source": [
    "correlations = survey.corr()\n",
    "correlations"
   ]
  },
  {
   "cell_type": "markdown",
   "metadata": {},
   "source": [
    "Note that we have a positive correlation between the scores in\n",
    "\n",
    "- `Math` and `Stats`\n",
    "- `Bus` and `Com`\n",
    "- `ML` and `CS`\n",
    "\n",
    "We can display the correlations with a heat-map."
   ]
  },
  {
   "cell_type": "code",
   "execution_count": 6,
   "metadata": {
    "collapsed": false
   },
   "outputs": [
    {
     "data": {
      "image/png": "[encoded data removed]",
      "text/plain": [
       "<Figure size 432x288 with 2 Axes>"
      ]
     },
     "metadata": {
      "needs_background": "light"
     },
     "output_type": "display_data"
    }
   ],
   "source": [
    "plt.imshow(correlations, cmap=plt.cm.Purples)\n",
    "plt.colorbar()\n",
    "\n",
    "plt.xticks(plt.gca().get_xticks()[1:-1], correlations.index)\n",
    "plt.yticks(plt.gca().get_yticks()[1:-1], correlations.index);"
   ]
  },
  {
   "cell_type": "markdown",
   "metadata": {},
   "source": [
    "Note that the both `Bus` and `Com` are nearly uncorrelated to `Math` and `Stats`. So we may have found two distinct clusters of employees `Bus`/`Com` and `Math`/`Stats`.\n",
    "\n",
    "#### Partitioning\n",
    "\n",
    "We can try a partitioning the employees into clusters with the k-means algorithm. "
   ]
  },
  {
   "cell_type": "code",
   "execution_count": 7,
   "metadata": {
    "collapsed": false
   },
   "outputs": [
    {
     "data": {
      "text/plain": [
       "KMeans(algorithm='auto', copy_x=True, init='k-means++', max_iter=300,\n",
       "    n_clusters=2, n_init=10, n_jobs=None, precompute_distances='auto',\n",
       "    random_state=42, tol=0.0001, verbose=0)"
      ]
     },
     "execution_count": 7,
     "metadata": {},
     "output_type": "execute_result"
    }
   ],
   "source": [
    "number_of_clusters = 2\n",
    "seed = 42\n",
    "\n",
    "model = cluster.KMeans(n_clusters = number_of_clusters, random_state=seed)\n",
    "model.fit(survey)"
   ]
  },
  {
   "cell_type": "markdown",
   "metadata": {},
   "source": [
    "We can fit the data to a model that implements the k-means algorithm with the `scikit-learn` package. Note that we have to specify the number of clusters $k$. "
   ]
  },
  {
   "cell_type": "code",
   "execution_count": 8,
   "metadata": {},
   "outputs": [
    {
     "data": {
      "text/html": [
       "<div>\n",
       "<style scoped>\n",
       "    .dataframe tbody tr th:only-of-type {\n",
       "        vertical-align: middle;\n",
       "    }\n",
       "\n",
       "    .dataframe tbody tr th {\n",
       "        vertical-align: top;\n",
       "    }\n",
       "\n",
       "    .dataframe thead th {\n",
       "        text-align: right;\n",
       "    }\n",
       "</style>\n",
       "<table border=\"1\" class=\"dataframe\">\n",
       "  <thead>\n",
       "    <tr style=\"text-align: right;\">\n",
       "      <th></th>\n",
       "      <th>Viz</th>\n",
       "      <th>CS</th>\n",
       "      <th>Math</th>\n",
       "      <th>Stats</th>\n",
       "      <th>ML</th>\n",
       "      <th>Bus</th>\n",
       "      <th>Com</th>\n",
       "      <th>label</th>\n",
       "    </tr>\n",
       "  </thead>\n",
       "  <tbody>\n",
       "    <tr>\n",
       "      <th>0</th>\n",
       "      <td>2</td>\n",
       "      <td>2</td>\n",
       "      <td>2</td>\n",
       "      <td>5</td>\n",
       "      <td>0</td>\n",
       "      <td>3</td>\n",
       "      <td>6</td>\n",
       "      <td>1</td>\n",
       "    </tr>\n",
       "    <tr>\n",
       "      <th>1</th>\n",
       "      <td>4</td>\n",
       "      <td>9</td>\n",
       "      <td>7</td>\n",
       "      <td>7</td>\n",
       "      <td>6</td>\n",
       "      <td>3</td>\n",
       "      <td>8</td>\n",
       "      <td>0</td>\n",
       "    </tr>\n",
       "    <tr>\n",
       "      <th>2</th>\n",
       "      <td>7</td>\n",
       "      <td>5</td>\n",
       "      <td>4</td>\n",
       "      <td>3</td>\n",
       "      <td>2</td>\n",
       "      <td>9</td>\n",
       "      <td>9</td>\n",
       "      <td>0</td>\n",
       "    </tr>\n",
       "    <tr>\n",
       "      <th>3</th>\n",
       "      <td>7</td>\n",
       "      <td>7</td>\n",
       "      <td>5</td>\n",
       "      <td>4</td>\n",
       "      <td>1</td>\n",
       "      <td>6</td>\n",
       "      <td>8</td>\n",
       "      <td>0</td>\n",
       "    </tr>\n",
       "    <tr>\n",
       "      <th>4</th>\n",
       "      <td>7</td>\n",
       "      <td>6</td>\n",
       "      <td>8</td>\n",
       "      <td>8</td>\n",
       "      <td>4</td>\n",
       "      <td>6</td>\n",
       "      <td>7</td>\n",
       "      <td>0</td>\n",
       "    </tr>\n",
       "    <tr>\n",
       "      <th>...</th>\n",
       "      <td>...</td>\n",
       "      <td>...</td>\n",
       "      <td>...</td>\n",
       "      <td>...</td>\n",
       "      <td>...</td>\n",
       "      <td>...</td>\n",
       "      <td>...</td>\n",
       "      <td>...</td>\n",
       "    </tr>\n",
       "    <tr>\n",
       "      <th>153</th>\n",
       "      <td>8</td>\n",
       "      <td>7</td>\n",
       "      <td>6</td>\n",
       "      <td>8</td>\n",
       "      <td>2</td>\n",
       "      <td>8</td>\n",
       "      <td>10</td>\n",
       "      <td>0</td>\n",
       "    </tr>\n",
       "    <tr>\n",
       "      <th>154</th>\n",
       "      <td>4</td>\n",
       "      <td>2</td>\n",
       "      <td>5</td>\n",
       "      <td>6</td>\n",
       "      <td>6</td>\n",
       "      <td>1</td>\n",
       "      <td>2</td>\n",
       "      <td>1</td>\n",
       "    </tr>\n",
       "    <tr>\n",
       "      <th>155</th>\n",
       "      <td>4</td>\n",
       "      <td>4</td>\n",
       "      <td>3</td>\n",
       "      <td>3</td>\n",
       "      <td>1</td>\n",
       "      <td>1</td>\n",
       "      <td>5</td>\n",
       "      <td>1</td>\n",
       "    </tr>\n",
       "    <tr>\n",
       "      <th>156</th>\n",
       "      <td>1</td>\n",
       "      <td>3</td>\n",
       "      <td>7</td>\n",
       "      <td>8</td>\n",
       "      <td>1</td>\n",
       "      <td>1</td>\n",
       "      <td>4</td>\n",
       "      <td>1</td>\n",
       "    </tr>\n",
       "    <tr>\n",
       "      <th>157</th>\n",
       "      <td>1</td>\n",
       "      <td>3</td>\n",
       "      <td>5</td>\n",
       "      <td>5</td>\n",
       "      <td>1</td>\n",
       "      <td>1</td>\n",
       "      <td>6</td>\n",
       "      <td>1</td>\n",
       "    </tr>\n",
       "  </tbody>\n",
       "</table>\n",
       "<p>158 rows × 8 columns</p>\n",
       "</div>"
      ],
      "text/plain": [
       "     Viz  CS  Math  Stats  ML  Bus  Com  label\n",
       "0      2   2     2      5   0    3    6      1\n",
       "1      4   9     7      7   6    3    8      0\n",
       "2      7   5     4      3   2    9    9      0\n",
       "3      7   7     5      4   1    6    8      0\n",
       "4      7   6     8      8   4    6    7      0\n",
       "..   ...  ..   ...    ...  ..  ...  ...    ...\n",
       "153    8   7     6      8   2    8   10      0\n",
       "154    4   2     5      6   6    1    2      1\n",
       "155    4   4     3      3   1    1    5      1\n",
       "156    1   3     7      8   1    1    4      1\n",
       "157    1   3     5      5   1    1    6      1\n",
       "\n",
       "[158 rows x 8 columns]"
      ]
     },
     "execution_count": 8,
     "metadata": {},
     "output_type": "execute_result"
    }
   ],
   "source": [
    "survey_with_labels = survey.copy()\n",
    "survey_with_labels[\"label\"] = model.labels_\n",
    "survey_with_labels"
   ]
  },
  {
   "cell_type": "markdown",
   "metadata": {},
   "source": [
    "Moreover we indicate a number for the argument `random_state` to have reproducible results. The `scikit-learn` package makes some random guesses. We want to obtain the same random guesses each time we run the code."
   ]
  },
  {
   "cell_type": "code",
   "execution_count": 9,
   "metadata": {},
   "outputs": [],
   "source": [
    "seed = 42\n",
    "models = [cluster.KMeans(n_clusters = k, random_state=seed).fit(survey) for k in range(2,20)]"
   ]
  },
  {
   "cell_type": "markdown",
   "metadata": {},
   "source": [
    "We can try different number of clusters to assess the partitioning of points."
   ]
  },
  {
   "cell_type": "code",
   "execution_count": 10,
   "metadata": {},
   "outputs": [
    {
     "data": {
      "image/png": "[encoded data removed]",
      "text/plain": [
       "<Figure size 1080x1152 with 3 Axes>"
      ]
     },
     "metadata": {
      "needs_background": "light"
     },
     "output_type": "display_data"
    }
   ],
   "source": [
    "scores = [helper_functions.compute_metrics(model, survey) for model in models]\n",
    "scores = list(zip(*scores))\n",
    "\n",
    "fig, axes = plt.subplots(3,1,figsize=(15,16))\n",
    "\n",
    "titles = [\"Inertia\", \"Distortion\", \"Silhouette\"]\n",
    "for score, ax, title in zip(scores, axes.flatten(), titles):\n",
    "    ax.bar(range(2,20), score)\n",
    "    ax.set_xticks(range(2,20))\n",
    "    ax.set_xlabel(\"Number of Clusters\")\n",
    "    ax.set_title(title)"
   ]
  },
  {
   "cell_type": "markdown",
   "metadata": {},
   "source": [
    "We can see that increasing $k$ tends to decrease the inertia and increase the distortion. However the silhouette score does not increase. \n",
    "\n",
    "We can use the \"elbow method\" for determining a value of $k$. We inspect the bar-chart. We identify $k$ where the heights of the bars start to flatten out. "
   ]
  },
  {
   "cell_type": "code",
   "execution_count": 11,
   "metadata": {
    "collapsed": false
   },
   "outputs": [
    {
     "data": {
      "image/png": "[encoded data removed]",
      "text/plain": [
       "<Figure size 1080x1440 with 8 Axes>"
      ]
     },
     "metadata": {
      "needs_background": "light"
     },
     "output_type": "display_data"
    }
   ],
   "source": [
    "fig, axes = plt.subplots(4,2,figsize=(15,20))\n",
    "\n",
    "for model, ax in zip(models[:8], axes.flatten()):\n",
    "    values, counts = np.unique(model.labels_, return_counts=True)\n",
    "    ax.bar(values, counts)\n",
    "    ax.set_xticks(values)\n",
    "    ax.set_xlabel(\"Labels of Clusters\")\n",
    "    ax.set_title(f\"{model.n_clusters} clusters\")"
   ]
  },
  {
   "cell_type": "markdown",
   "metadata": {},
   "source": [
    "While the \"elbow method\" might suggest 9 clusters, we find that we have roughly the same number of points in the 9 clusters. It would be challenging to interpret 9 clusters. Instead we will choose 4 clusters to have interpretible partition of points."
   ]
  },
  {
   "cell_type": "code",
   "execution_count": 12,
   "metadata": {},
   "outputs": [
    {
     "data": {
      "text/plain": [
       "Viz      3.848101\n",
       "CS       4.158228\n",
       "Math     6.177215\n",
       "Stats    5.879747\n",
       "ML       3.354430\n",
       "Bus      4.329114\n",
       "Com      6.164557\n",
       "dtype: float64"
      ]
     },
     "execution_count": 12,
     "metadata": {},
     "output_type": "execute_result"
    }
   ],
   "source": [
    "center = survey.mean()\n",
    "center"
   ]
  },
  {
   "cell_type": "markdown",
   "metadata": {},
   "source": [
    "We can compute the center of all points. "
   ]
  },
  {
   "cell_type": "code",
   "execution_count": 13,
   "metadata": {},
   "outputs": [
    {
     "data": {
      "text/plain": [
       "array([[2.9375    , 4.77083333, 7.125     , 6.47916667, 3.72916667,\n",
       "        2.04166667, 5.08333333],\n",
       "       [4.95348837, 3.6744186 , 5.44186047, 5.88372093, 2.46511628,\n",
       "        7.11627907, 7.60465116],\n",
       "       [5.82142857, 6.46428571, 7.39285714, 7.42857143, 6.64285714,\n",
       "        6.10714286, 7.32142857],\n",
       "       [2.33333333, 2.28205128, 4.94871795, 4.02564103, 1.51282051,\n",
       "        2.79487179, 5.07692308]])"
      ]
     },
     "execution_count": 13,
     "metadata": {},
     "output_type": "execute_result"
    }
   ],
   "source": [
    "model = models[2]\n",
    "model.cluster_centers_"
   ]
  },
  {
   "cell_type": "markdown",
   "metadata": {},
   "source": [
    "We can compare the centers of the clusters to the center of all points."
   ]
  },
  {
   "cell_type": "code",
   "execution_count": 14,
   "metadata": {},
   "outputs": [
    {
     "data": {
      "image/png": "[encoded data removed]",
      "text/plain": [
       "<Figure size 432x288 with 1 Axes>"
      ]
     },
     "metadata": {
      "needs_background": "light"
     },
     "output_type": "display_data"
    }
   ],
   "source": [
    "helper_functions.generate_chart_coordinates(model, survey)"
   ]
  },
  {
   "cell_type": "markdown",
   "metadata": {},
   "source": [
    "For each cluster, we have plotted the coordinates of the difference between the center of the cluster and the center of all points. We can interpret the chart.\n",
    "\n",
    "- Cluster 0 has experience in `CS`/`ML` and `Math`/`Stats`\n",
    "- Cluster 1 has experience in `Bus`/`Viz`/`Com`\n",
    "- Cluster 2 has experience in all categories\n",
    "- Cluster 3 lacks experience in all categories\n",
    "\n",
    "Note that cluster 0 captures the positively correlated categories `CS`/`ML` and `Math`/`Stats`. Note that cluster 1 captures the positively correlated categories `Bus`/`Viz`/`Com`.\n",
    "\n",
    "If we wanted to have diverse skills on the teams, then we would have equal numbers from each cluster. The bar-chart tells us the extent an employee in a cluster differs from an average employee. \n",
    "\n",
    "#### Hierarchical \n",
    "\n",
    "Since we did not have an improvement in the silhouette score with k-means, we can try another approach to clustering. We will use agglomerative clustering with complete linkage.\n"
   ]
  },
  {
   "cell_type": "code",
   "execution_count": 21,
   "metadata": {
    "collapsed": false
   },
   "outputs": [
    {
     "data": {
      "text/plain": [
       "AgglomerativeClustering(affinity='euclidean', compute_full_tree='auto',\n",
       "            connectivity=None, linkage='ward', memory=None, n_clusters=4,\n",
       "            pooling_func='deprecated')"
      ]
     },
     "execution_count": 21,
     "metadata": {},
     "output_type": "execute_result"
    }
   ],
   "source": [
    "model = cluster.AgglomerativeClustering(n_clusters = 4)\n",
    "model.fit(survey)"
   ]
  },
  {
   "cell_type": "markdown",
   "metadata": {},
   "source": [
    "Remember that complete linkage means we measure the distance between point clouds as the maximum distance between points in the two point clouds."
   ]
  },
  {
   "cell_type": "code",
   "execution_count": 16,
   "metadata": {},
   "outputs": [
    {
     "data": {
      "image/png": "[encoded data removed]",
      "text/plain": [
       "<Figure size 432x288 with 1 Axes>"
      ]
     },
     "metadata": {
      "needs_background": "light"
     },
     "output_type": "display_data"
    }
   ],
   "source": [
    "helper_functions.generate_chart_coordinates(model, survey)"
   ]
  },
  {
   "cell_type": "markdown",
   "metadata": {},
   "source": [
    "Again we can compare an employee in a cluster to the average employee. By inspecting the difference in coordinates between the center of the cluster and the center for all points, we can identify the strengths and weaknesses of the clusters.\n",
    "\n",
    "- Cluster 0 has experience in all categories\n",
    "- Cluster 1 has experience in `Bus`/`Viz`/`Com`\n",
    "- Cluster 2 has experience in `Math`/`Stats`\n",
    "- Cluster 3 lacks experience in all categories\n",
    "        \n",
    "So we loss a cluster with above average experience in `CS`/`ML`."
   ]
  },
  {
   "cell_type": "code",
   "execution_count": 17,
   "metadata": {},
   "outputs": [
    {
     "data": {
      "text/plain": [
       "0.14796395728266934"
      ]
     },
     "execution_count": 17,
     "metadata": {},
     "output_type": "execute_result"
    }
   ],
   "source": [
    "metrics.silhouette_score(survey, model.labels_)"
   ]
  },
  {
   "cell_type": "markdown",
   "metadata": {},
   "source": [
    "With k-means clustering, we had a silhoutte score of 0.06 for 4 clusters. Switching to agglomerative clustering, we have improved the silhouette score to 0.14. "
   ]
  },
  {
   "cell_type": "code",
   "execution_count": 18,
   "metadata": {},
   "outputs": [
    {
     "data": {
      "image/png": "[encoded data removed]",
      "text/plain": [
       "<Figure size 864x432 with 1 Axes>"
      ]
     },
     "metadata": {
      "needs_background": "light"
     },
     "output_type": "display_data"
    }
   ],
   "source": [
    "links = helper_functions.generate_dendrogram(survey)"
   ]
  },
  {
   "cell_type": "markdown",
   "metadata": {},
   "source": [
    "We can generate a dendrogram to show the merging of clusters in the agglomerative algorithm. Note that the chart does not show clusters separated by distance less than 5. "
   ]
  },
  {
   "cell_type": "code",
   "execution_count": 26,
   "metadata": {},
   "outputs": [
    {
     "data": {
      "text/plain": [
       "array([[ 35.        , 157.        ,   1.73205081,   2.        ],\n",
       "       [ 92.        , 130.        ,   1.73205081,   2.        ],\n",
       "       [ 16.        , 121.        ,   1.73205081,   2.        ],\n",
       "       [ 13.        , 110.        ,   1.73205081,   2.        ],\n",
       "       [128.        , 142.        ,   1.73205081,   2.        ]])"
      ]
     },
     "execution_count": 26,
     "metadata": {},
     "output_type": "execute_result"
    }
   ],
   "source": [
    "links[:5,:]"
   ]
  },
  {
   "cell_type": "markdown",
   "metadata": {},
   "source": [
    "<p>We have a record of the merging of clusters\n",
    "<ul>\n",
    "    <li>Before we start the algorithm, each employee is assigned to her own cluster with a label 0,...,157. Remember we have 158 employees</li>\n",
    "    <li>We record each iteration in a row</li>\n",
    "        <ul>\n",
    "            <li>The ith row corresponds to a merged cluster with label 158+i</li>\n",
    "            <li>The 0th and 1st columns of the ith row are the two clusters merged to form cluster (n+i)</li>\n",
    "            <li>The 2nd column of the ith row is the distance between the clusters</li>\n",
    "            <li>The 4th column of the ith row indicates the number of points in the merged cluster (n+i)</li>\n",
    "        </ul>\n",
    "</ul>\n",
    "\n",
    "In the 0th row, the algorithm merges employee 35 and 157 to make cluster 158. Next the algorithm merges employee 92 and 130 to make cluster 159. "
   ]
  },
  {
   "cell_type": "code",
   "execution_count": 32,
   "metadata": {},
   "outputs": [
    {
     "data": {
      "text/plain": [
       "array([158.        , 159.        ,   3.74165739,   4.        ])"
      ]
     },
     "execution_count": 32,
     "metadata": {},
     "output_type": "execute_result"
    }
   ],
   "source": [
    "links[72]"
   ]
  },
  {
   "cell_type": "markdown",
   "metadata": {},
   "source": [
    "At the 72nd iteration, the algorithm merges cluster 158 and 159. We find that the clusters are a distance 3.74 apart."
   ]
  }
 ],
 "metadata": {
  "anaconda-cloud": {},
  "kernelspec": {
   "display_name": "Python 3",
   "language": "python",
   "name": "python3"
  },
  "language_info": {
   "codemirror_mode": {
    "name": "ipython",
    "version": 3
   },
   "file_extension": ".py",
   "mimetype": "text/x-python",
   "name": "python",
   "nbconvert_exporter": "python",
   "pygments_lexer": "ipython3",
   "version": "3.7.3"
  }
 },
 "nbformat": 4,
 "nbformat_minor": 2
}

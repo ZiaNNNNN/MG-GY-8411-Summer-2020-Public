{
 "cells": [
  {
   "cell_type": "markdown",
   "metadata": {},
   "source": [
    "## MG-GY 8441: Data Engineering\n",
    "### Lecture 1 \n",
    "\n",
    "We want to get a better understanding of describing data. We will write code to generate\n",
    "\n",
    "- Numerical Summaries \n",
    " * mean, median, mode\n",
    " * percentile\n",
    "- Visualization \n",
    " * box-plot \n",
    " * scatter-plot\n",
    " * histogram\n",
    "\n",
    "We will study datasets about transportation. Below we work with tables containing 200,000 weekday Uber rides in the Manila, Philippines, and Boston, Massachusetts metropolitan areas from the [Uber Movement](https://movement.uber.com) project."
   ]
  },
  {
   "cell_type": "code",
   "execution_count": 172,
   "metadata": {},
   "outputs": [],
   "source": [
    "# importing some packages\n",
    "\n",
    "import numpy as np\n",
    "import pandas as pd\n",
    "\n",
    "import matplotlib\n",
    "import matplotlib.pyplot as plt\n",
    "\n",
    "# changing some settings\n",
    "\n",
    "pd.set_option('display.max_rows', 10)\n",
    "pd.set_option('display.max_columns', 8)\n",
    "\n",
    "%matplotlib inline\n",
    "plt.rcParams['figure.figsize'] = (9,7)"
   ]
  },
  {
   "cell_type": "markdown",
   "metadata": {},
   "source": [
    "#### Loading the Data\n",
    "\n",
    "We can load the data with the pandas package."
   ]
  },
  {
   "cell_type": "code",
   "execution_count": 2,
   "metadata": {
    "for_question_type": "solution",
    "scrolled": true
   },
   "outputs": [
    {
     "data": {
      "text/html": [
       "<div>\n",
       "<style scoped>\n",
       "    .dataframe tbody tr th:only-of-type {\n",
       "        vertical-align: middle;\n",
       "    }\n",
       "\n",
       "    .dataframe tbody tr th {\n",
       "        vertical-align: top;\n",
       "    }\n",
       "\n",
       "    .dataframe thead th {\n",
       "        text-align: right;\n",
       "    }\n",
       "</style>\n",
       "<table border=\"1\" class=\"dataframe\">\n",
       "  <thead>\n",
       "    <tr style=\"text-align: right;\">\n",
       "      <th></th>\n",
       "      <th>sourceid</th>\n",
       "      <th>dstid</th>\n",
       "      <th>hod</th>\n",
       "      <th>ride time</th>\n",
       "    </tr>\n",
       "  </thead>\n",
       "  <tbody>\n",
       "    <tr>\n",
       "      <th>0</th>\n",
       "      <td>584</td>\n",
       "      <td>33</td>\n",
       "      <td>7</td>\n",
       "      <td>11.866000</td>\n",
       "    </tr>\n",
       "    <tr>\n",
       "      <th>1</th>\n",
       "      <td>1013</td>\n",
       "      <td>1116</td>\n",
       "      <td>13</td>\n",
       "      <td>17.799333</td>\n",
       "    </tr>\n",
       "    <tr>\n",
       "      <th>2</th>\n",
       "      <td>884</td>\n",
       "      <td>1190</td>\n",
       "      <td>22</td>\n",
       "      <td>19.348833</td>\n",
       "    </tr>\n",
       "    <tr>\n",
       "      <th>3</th>\n",
       "      <td>211</td>\n",
       "      <td>364</td>\n",
       "      <td>1</td>\n",
       "      <td>1.723500</td>\n",
       "    </tr>\n",
       "    <tr>\n",
       "      <th>4</th>\n",
       "      <td>218</td>\n",
       "      <td>1189</td>\n",
       "      <td>7</td>\n",
       "      <td>42.558833</td>\n",
       "    </tr>\n",
       "    <tr>\n",
       "      <th>...</th>\n",
       "      <td>...</td>\n",
       "      <td>...</td>\n",
       "      <td>...</td>\n",
       "      <td>...</td>\n",
       "    </tr>\n",
       "    <tr>\n",
       "      <th>199995</th>\n",
       "      <td>448</td>\n",
       "      <td>333</td>\n",
       "      <td>1</td>\n",
       "      <td>14.460833</td>\n",
       "    </tr>\n",
       "    <tr>\n",
       "      <th>199996</th>\n",
       "      <td>207</td>\n",
       "      <td>810</td>\n",
       "      <td>10</td>\n",
       "      <td>18.052333</td>\n",
       "    </tr>\n",
       "    <tr>\n",
       "      <th>199997</th>\n",
       "      <td>364</td>\n",
       "      <td>773</td>\n",
       "      <td>8</td>\n",
       "      <td>8.431333</td>\n",
       "    </tr>\n",
       "    <tr>\n",
       "      <th>199998</th>\n",
       "      <td>33</td>\n",
       "      <td>487</td>\n",
       "      <td>3</td>\n",
       "      <td>8.291667</td>\n",
       "    </tr>\n",
       "    <tr>\n",
       "      <th>199999</th>\n",
       "      <td>1040</td>\n",
       "      <td>435</td>\n",
       "      <td>3</td>\n",
       "      <td>4.037667</td>\n",
       "    </tr>\n",
       "  </tbody>\n",
       "</table>\n",
       "<p>200000 rows × 4 columns</p>\n",
       "</div>"
      ],
      "text/plain": [
       "        sourceid  dstid  hod  ride time\n",
       "0            584     33    7  11.866000\n",
       "1           1013   1116   13  17.799333\n",
       "2            884   1190   22  19.348833\n",
       "3            211    364    1   1.723500\n",
       "4            218   1189    7  42.558833\n",
       "...          ...    ...  ...        ...\n",
       "199995       448    333    1  14.460833\n",
       "199996       207    810   10  18.052333\n",
       "199997       364    773    8   8.431333\n",
       "199998        33    487    3   8.291667\n",
       "199999      1040    435    3   4.037667\n",
       "\n",
       "[200000 rows x 4 columns]"
      ]
     },
     "execution_count": 2,
     "metadata": {},
     "output_type": "execute_result"
    }
   ],
   "source": [
    "boston = pd.read_csv(\"boston.csv\")\n",
    "boston"
   ]
  },
  {
   "cell_type": "code",
   "execution_count": 3,
   "metadata": {
    "for_question_type": "solution",
    "scrolled": true
   },
   "outputs": [
    {
     "data": {
      "text/html": [
       "<div>\n",
       "<style scoped>\n",
       "    .dataframe tbody tr th:only-of-type {\n",
       "        vertical-align: middle;\n",
       "    }\n",
       "\n",
       "    .dataframe tbody tr th {\n",
       "        vertical-align: top;\n",
       "    }\n",
       "\n",
       "    .dataframe thead th {\n",
       "        text-align: right;\n",
       "    }\n",
       "</style>\n",
       "<table border=\"1\" class=\"dataframe\">\n",
       "  <thead>\n",
       "    <tr style=\"text-align: right;\">\n",
       "      <th></th>\n",
       "      <th>sourceid</th>\n",
       "      <th>dstid</th>\n",
       "      <th>hod</th>\n",
       "      <th>ride time</th>\n",
       "    </tr>\n",
       "  </thead>\n",
       "  <tbody>\n",
       "    <tr>\n",
       "      <th>0</th>\n",
       "      <td>544</td>\n",
       "      <td>5</td>\n",
       "      <td>22</td>\n",
       "      <td>22.811500</td>\n",
       "    </tr>\n",
       "    <tr>\n",
       "      <th>1</th>\n",
       "      <td>302</td>\n",
       "      <td>240</td>\n",
       "      <td>21</td>\n",
       "      <td>7.022667</td>\n",
       "    </tr>\n",
       "    <tr>\n",
       "      <th>2</th>\n",
       "      <td>278</td>\n",
       "      <td>99</td>\n",
       "      <td>16</td>\n",
       "      <td>21.643667</td>\n",
       "    </tr>\n",
       "    <tr>\n",
       "      <th>3</th>\n",
       "      <td>720</td>\n",
       "      <td>775</td>\n",
       "      <td>18</td>\n",
       "      <td>13.059667</td>\n",
       "    </tr>\n",
       "    <tr>\n",
       "      <th>4</th>\n",
       "      <td>599</td>\n",
       "      <td>125</td>\n",
       "      <td>9</td>\n",
       "      <td>49.685000</td>\n",
       "    </tr>\n",
       "    <tr>\n",
       "      <th>...</th>\n",
       "      <td>...</td>\n",
       "      <td>...</td>\n",
       "      <td>...</td>\n",
       "      <td>...</td>\n",
       "    </tr>\n",
       "    <tr>\n",
       "      <th>199995</th>\n",
       "      <td>836</td>\n",
       "      <td>817</td>\n",
       "      <td>16</td>\n",
       "      <td>14.471333</td>\n",
       "    </tr>\n",
       "    <tr>\n",
       "      <th>199996</th>\n",
       "      <td>567</td>\n",
       "      <td>246</td>\n",
       "      <td>17</td>\n",
       "      <td>54.929167</td>\n",
       "    </tr>\n",
       "    <tr>\n",
       "      <th>199997</th>\n",
       "      <td>398</td>\n",
       "      <td>409</td>\n",
       "      <td>18</td>\n",
       "      <td>57.592500</td>\n",
       "    </tr>\n",
       "    <tr>\n",
       "      <th>199998</th>\n",
       "      <td>544</td>\n",
       "      <td>380</td>\n",
       "      <td>8</td>\n",
       "      <td>65.472000</td>\n",
       "    </tr>\n",
       "    <tr>\n",
       "      <th>199999</th>\n",
       "      <td>125</td>\n",
       "      <td>116</td>\n",
       "      <td>11</td>\n",
       "      <td>104.986667</td>\n",
       "    </tr>\n",
       "  </tbody>\n",
       "</table>\n",
       "<p>200000 rows × 4 columns</p>\n",
       "</div>"
      ],
      "text/plain": [
       "        sourceid  dstid  hod   ride time\n",
       "0            544      5   22   22.811500\n",
       "1            302    240   21    7.022667\n",
       "2            278     99   16   21.643667\n",
       "3            720    775   18   13.059667\n",
       "4            599    125    9   49.685000\n",
       "...          ...    ...  ...         ...\n",
       "199995       836    817   16   14.471333\n",
       "199996       567    246   17   54.929167\n",
       "199997       398    409   18   57.592500\n",
       "199998       544    380    8   65.472000\n",
       "199999       125    116   11  104.986667\n",
       "\n",
       "[200000 rows x 4 columns]"
      ]
     },
     "execution_count": 3,
     "metadata": {},
     "output_type": "execute_result"
    }
   ],
   "source": [
    "manila = pd.read_csv(\"manila.csv\")\n",
    "manila"
   ]
  },
  {
   "cell_type": "markdown",
   "metadata": {},
   "source": [
    "We have four columns corresponding to the four attributes of the data \n",
    "\n",
    "- The `sourceid` and `dstid` columns contain codes corresponding to start and end locations of each ride. \n",
    "- The `hod` column contains codes corresponding to the hour of the day the ride took place. \n",
    "- The `ride time` table contains the length of the ride, in minutes.\n",
    "\n",
    "We want to compare the trends in the ride time to inference differences between the two cities. We want to take advantage of both numerical summaries and visualizations. Let us start by studying the data about ride time in Boston\n",
    "\n",
    "#### Summarizing the Data"
   ]
  },
  {
   "cell_type": "markdown",
   "metadata": {},
   "source": [
    "We can generate a histogram of the ride times in Boston."
   ]
  },
  {
   "cell_type": "code",
   "execution_count": 38,
   "metadata": {},
   "outputs": [
    {
     "data": {
      "image/png": "[encoded data removed]",
      "text/plain": [
       "<Figure size 648x504 with 1 Axes>"
      ]
     },
     "metadata": {
      "needs_background": "light"
     },
     "output_type": "display_data"
    }
   ],
   "source": [
    "plt.hist(boston[\"ride time\"])\n",
    "plt.title(\"Ride Time Boston\");"
   ]
  },
  {
   "cell_type": "markdown",
   "metadata": {},
   "source": [
    "The histogram suggests that we have some outliers."
   ]
  },
  {
   "cell_type": "code",
   "execution_count": 5,
   "metadata": {},
   "outputs": [
    {
     "name": "stdout",
     "output_type": "stream",
     "text": [
      "The maximum ride time is 1471.9861666666666\n"
     ]
    }
   ],
   "source": [
    "print(\"The maximum ride time is {}\".format(boston[\"ride time\"].max()))"
   ]
  },
  {
   "cell_type": "markdown",
   "metadata": {},
   "source": [
    "Before we decide on an appropriate range of values for the histogram, we should exclude the outliers. We will use the conventions for a box-plot."
   ]
  },
  {
   "cell_type": "code",
   "execution_count": 6,
   "metadata": {},
   "outputs": [
    {
     "data": {
      "image/png": "[encoded data removed]",
      "text/plain": [
       "<Figure size 432x288 with 1 Axes>"
      ]
     },
     "metadata": {
      "needs_background": "light"
     },
     "output_type": "display_data"
    }
   ],
   "source": [
    "plt.boxplot(boston[\"ride time\"], vert=False, showfliers=False)\n",
    "plt.title(\"Ride Time Boston\");"
   ]
  },
  {
   "cell_type": "markdown",
   "metadata": {},
   "source": [
    "We can interpret the box-plot through a five number summary \n",
    "\n",
    "- minimum \n",
    "- first quartile \n",
    "- median (second quartile)\n",
    "- thrid quartile\n",
    "- maximum\n",
    "\n",
    "We will use the `quantile` method to compute the numbers"
   ]
  },
  {
   "cell_type": "code",
   "execution_count": 7,
   "metadata": {},
   "outputs": [],
   "source": [
    "minimum = boston[\"ride time\"].min() \n",
    "first_quartile =  boston[\"ride time\"].quantile(0.25)\n",
    "median = boston[\"ride time\"].quantile(0.5)\n",
    "third_quartile = boston[\"ride time\"].quantile(0.75)\n",
    "maximum = boston[\"ride time\"].max()"
   ]
  },
  {
   "cell_type": "markdown",
   "metadata": {},
   "source": [
    "Now we can compute the inter-quartile range."
   ]
  },
  {
   "cell_type": "code",
   "execution_count": 8,
   "metadata": {},
   "outputs": [],
   "source": [
    "iqr = third_quartile - first_quartile"
   ]
  },
  {
   "cell_type": "markdown",
   "metadata": {},
   "source": [
    "Remember the rule for computing the outliers in a boxplot. Any number \n",
    "\n",
    "- greater than $\\text{third quartile} + 1.5 * \\text{inter-quartile range}$\n",
    "- less than $\\text{first quartile} - 1.5 * \\text{inter-quartile range}$\n",
    "\n",
    "Is an outlier."
   ]
  },
  {
   "cell_type": "code",
   "execution_count": 9,
   "metadata": {},
   "outputs": [
    {
     "data": {
      "text/plain": [
       "4         42.558833\n",
       "12        38.004667\n",
       "99        40.000000\n",
       "122       50.252833\n",
       "330       43.761167\n",
       "            ...    \n",
       "199820    37.462667\n",
       "199822    40.306667\n",
       "199829    43.164667\n",
       "199851    38.513500\n",
       "199882    47.572167\n",
       "Name: ride time, Length: 4248, dtype: float64"
      ]
     },
     "execution_count": 9,
     "metadata": {},
     "output_type": "execute_result"
    }
   ],
   "source": [
    "upper_bound = third_quartile + 1.5 * iqr\n",
    "lower_bound = first_quartile - 1.5 * iqr\n",
    "\n",
    "mask = (boston[\"ride time\"] >= upper_bound) | (boston[\"ride time\"] <= lower_bound)\n",
    "outliers = boston[\"ride time\"][mask]\n",
    "outliers"
   ]
  },
  {
   "cell_type": "markdown",
   "metadata": {},
   "source": [
    "We can drop these entries from the table."
   ]
  },
  {
   "cell_type": "code",
   "execution_count": 10,
   "metadata": {},
   "outputs": [],
   "source": [
    "boston_without_outliers = boston.drop(index=outliers.index)"
   ]
  },
  {
   "cell_type": "markdown",
   "metadata": {},
   "source": [
    "Before we can label the box-plot, we should compute the location of the whiskers."
   ]
  },
  {
   "cell_type": "code",
   "execution_count": 11,
   "metadata": {},
   "outputs": [],
   "source": [
    "minimum_without_outliers = boston_without_outliers[\"ride time\"].min() \n",
    "maximum_without_outliers = boston_without_outliers[\"ride time\"].max() "
   ]
  },
  {
   "cell_type": "markdown",
   "metadata": {},
   "source": [
    "Now we have all of the information we need to add the numerical summaries to the visualization."
   ]
  },
  {
   "cell_type": "code",
   "execution_count": 14,
   "metadata": {},
   "outputs": [
    {
     "data": {
      "image/png": "[encoded data removed]",
      "text/plain": [
       "<Figure size 648x504 with 1 Axes>"
      ]
     },
     "metadata": {
      "needs_background": "light"
     },
     "output_type": "display_data"
    }
   ],
   "source": [
    "# generate box-plot of boston table\n",
    "plt.boxplot(boston[\"ride time\"], vert = False, showfliers=False)\n",
    "plt.title(\"Ride Time Boston\");\n",
    "\n",
    "# indicate upper bound and lower bound\n",
    "plt.scatter(lower_bound, 1, s = 30, c = \"g\")\n",
    "plt.scatter(upper_bound, 1, s = 30, c = \"r\")\n",
    "\n",
    "plt.hlines(y = 1, xmin = lower_bound, xmax=first_quartile, color=\"green\", lw = 3, zorder=10)\n",
    "plt.hlines(y = 1, xmin = third_quartile, xmax=upper_bound, color=\"red\", lw = 3, zorder=10)\n",
    "\n",
    "# indicate the whiskers\n",
    "plt.vlines(x = minimum_without_outliers, ymin = 0.95, ymax = 1.05, colors='b', zorder = 10)\n",
    "plt.vlines(x = maximum_without_outliers, ymin = 0.95, ymax = 1.05, colors='b', zorder = 10)\n",
    "\n",
    "# label the five number summary\n",
    "plt.annotate(\"75th\\nPercentile\",(third_quartile, 1.2))\n",
    "plt.annotate(\"25th\\nPercentile\",(first_quartile, 1.2))\n",
    "plt.annotate(\"Minimum\",(minimum, 0.8))\n",
    "# plt.annotate(\"Maximum\",(maximum, 0.8))\n",
    "plt.annotate(\"50th\\nPercentile\",(median, 0.8));"
   ]
  },
  {
   "cell_type": "markdown",
   "metadata": {},
   "source": [
    "We learn from the box-plot that the range 0 to 40 would be appropriate for the histogram."
   ]
  },
  {
   "cell_type": "code",
   "execution_count": 16,
   "metadata": {},
   "outputs": [
    {
     "data": {
      "image/png": "[encoded data removed]",
      "text/plain": [
       "<Figure size 648x504 with 1 Axes>"
      ]
     },
     "metadata": {
      "needs_background": "light"
     },
     "output_type": "display_data"
    }
   ],
   "source": [
    "plt.hist(boston[\"ride time\"], rwidth=0.95, range = [0,40])\n",
    "plt.title(\"Ride Time Boston\");"
   ]
  },
  {
   "cell_type": "markdown",
   "metadata": {},
   "source": [
    "#### Comparing Numerical Summaries\n",
    "\n",
    "Note that the data displays a positive skew. We can compare \n",
    "\n",
    "- median \n",
    "- mean \n",
    "- mode \n",
    "\n",
    "We can compute these quantities on the table without outliers. "
   ]
  },
  {
   "cell_type": "code",
   "execution_count": 30,
   "metadata": {},
   "outputs": [],
   "source": [
    "median = boston_without_outliers[\"ride time\"].quantile(0.5)\n",
    "mean = boston_without_outliers[\"ride time\"].mean()\n",
    "mode = boston_without_outliers[\"ride time\"].mode()[0]"
   ]
  },
  {
   "cell_type": "markdown",
   "metadata": {},
   "source": [
    "We can confirm that positive skew by adding the mean and median to the histogram."
   ]
  },
  {
   "cell_type": "code",
   "execution_count": 37,
   "metadata": {},
   "outputs": [
    {
     "data": {
      "image/png": "[encoded data removed]",
      "text/plain": [
       "<Figure size 648x504 with 1 Axes>"
      ]
     },
     "metadata": {
      "needs_background": "light"
     },
     "output_type": "display_data"
    }
   ],
   "source": [
    "plt.hist(boston[\"ride time\"], rwidth=0.95, range = [0,40])\n",
    "plt.title(\"Ride Time Boston\")\n",
    "plt.axvline(x = mode, color = \"y\", linestyle = \"dashed\", label = \"mode\")\n",
    "plt.axvline(x = median, color = \"k\", linestyle = \"dashed\", label = \"median\")\n",
    "plt.axvline(x = mean, color = \"r\", linestyle = \"dashed\", label = \"mean\")\n",
    "plt.legend();"
   ]
  },
  {
   "cell_type": "markdown",
   "metadata": {},
   "source": [
    "We find that the mean lies to the right of the median. So we have outliers to the right. \n",
    "\n",
    "Note that the mode lies to the right of the most frequent values. We have to remember that the ride time is a continuous variable. We can get a better understanding of the frequent values by rounding the numbers down. After we round the numbers we have a discrete variable allowing us to count frequencies"
   ]
  },
  {
   "cell_type": "code",
   "execution_count": 46,
   "metadata": {},
   "outputs": [],
   "source": [
    "mode = boston_without_outliers[\"ride time\"].astype(int).mode()[0]"
   ]
  },
  {
   "cell_type": "code",
   "execution_count": 47,
   "metadata": {},
   "outputs": [
    {
     "data": {
      "image/png": "[encoded data removed]",
      "text/plain": [
       "<Figure size 648x504 with 1 Axes>"
      ]
     },
     "metadata": {
      "needs_background": "light"
     },
     "output_type": "display_data"
    }
   ],
   "source": [
    "plt.hist(boston[\"ride time\"], rwidth=0.95, range = [0,40])\n",
    "plt.title(\"Ride Time Boston\")\n",
    "plt.axvline(x = mode, color = \"y\", linestyle = \"dashed\", label = \"mode\")\n",
    "plt.axvline(x = median, color = \"k\", linestyle = \"dashed\", label = \"median\")\n",
    "plt.axvline(x = mean, color = \"r\", linestyle = \"dashed\", label = \"mean\")\n",
    "plt.legend();"
   ]
  },
  {
   "cell_type": "markdown",
   "metadata": {},
   "source": [
    "If we have skewed data, then we can try to guess the median from the mean and mode. The formula is \n",
    "\n",
    "$$\\text{median} \\approx  (2 * \\text{mean} + \\text{mode}) \\; / \\; 3 $$\n",
    "\n",
    "We can compare the numbers."
   ]
  },
  {
   "cell_type": "code",
   "execution_count": 51,
   "metadata": {},
   "outputs": [
    {
     "name": "stdout",
     "output_type": "stream",
     "text": [
      "The median is 15.298333333333334\n",
      "The estimated median is 15.252628205870495\n"
     ]
    }
   ],
   "source": [
    "estimate_median = ( 2 * mean  + mode) / 3\n",
    "\n",
    "print(\"The median is {}\".format(median))\n",
    "print(\"The estimated median is {}\".format(estimate_median))"
   ]
  },
  {
   "cell_type": "markdown",
   "metadata": {},
   "source": [
    "We have a close agreement between the numbers."
   ]
  },
  {
   "cell_type": "markdown",
   "metadata": {},
   "source": [
    "#### Grouping the Data \n",
    "\n",
    "Remember that granularity refers to the level of detail in the data. We can get a better understanding of patterns in the data by reducing the granularity through grouping related records. We want to group into duration of ride time\n",
    "\n",
    "1: 0-20   minutes  \n",
    "2: 20-40 minutes  \n",
    "3: 40-60 minutes  \n",
    "4: 60-80 minutes  \n",
    "\n",
    "We will use the pandas function `cut` to break into groups."
   ]
  },
  {
   "cell_type": "code",
   "execution_count": 82,
   "metadata": {},
   "outputs": [
    {
     "data": {
      "text/html": [
       "<div>\n",
       "<style scoped>\n",
       "    .dataframe tbody tr th:only-of-type {\n",
       "        vertical-align: middle;\n",
       "    }\n",
       "\n",
       "    .dataframe tbody tr th {\n",
       "        vertical-align: top;\n",
       "    }\n",
       "\n",
       "    .dataframe thead th {\n",
       "        text-align: right;\n",
       "    }\n",
       "</style>\n",
       "<table border=\"1\" class=\"dataframe\">\n",
       "  <thead>\n",
       "    <tr style=\"text-align: right;\">\n",
       "      <th></th>\n",
       "      <th>sourceid</th>\n",
       "      <th>dstid</th>\n",
       "      <th>hod</th>\n",
       "      <th>ride time</th>\n",
       "      <th>bucket</th>\n",
       "    </tr>\n",
       "  </thead>\n",
       "  <tbody>\n",
       "    <tr>\n",
       "      <th>0</th>\n",
       "      <td>584</td>\n",
       "      <td>33</td>\n",
       "      <td>7</td>\n",
       "      <td>11.866000</td>\n",
       "      <td>(0, 20]</td>\n",
       "    </tr>\n",
       "    <tr>\n",
       "      <th>1</th>\n",
       "      <td>1013</td>\n",
       "      <td>1116</td>\n",
       "      <td>13</td>\n",
       "      <td>17.799333</td>\n",
       "      <td>(0, 20]</td>\n",
       "    </tr>\n",
       "    <tr>\n",
       "      <th>2</th>\n",
       "      <td>884</td>\n",
       "      <td>1190</td>\n",
       "      <td>22</td>\n",
       "      <td>19.348833</td>\n",
       "      <td>(0, 20]</td>\n",
       "    </tr>\n",
       "    <tr>\n",
       "      <th>3</th>\n",
       "      <td>211</td>\n",
       "      <td>364</td>\n",
       "      <td>1</td>\n",
       "      <td>1.723500</td>\n",
       "      <td>(0, 20]</td>\n",
       "    </tr>\n",
       "    <tr>\n",
       "      <th>4</th>\n",
       "      <td>218</td>\n",
       "      <td>1189</td>\n",
       "      <td>7</td>\n",
       "      <td>42.558833</td>\n",
       "      <td>(40, 60]</td>\n",
       "    </tr>\n",
       "    <tr>\n",
       "      <th>...</th>\n",
       "      <td>...</td>\n",
       "      <td>...</td>\n",
       "      <td>...</td>\n",
       "      <td>...</td>\n",
       "      <td>...</td>\n",
       "    </tr>\n",
       "    <tr>\n",
       "      <th>199995</th>\n",
       "      <td>448</td>\n",
       "      <td>333</td>\n",
       "      <td>1</td>\n",
       "      <td>14.460833</td>\n",
       "      <td>(0, 20]</td>\n",
       "    </tr>\n",
       "    <tr>\n",
       "      <th>199996</th>\n",
       "      <td>207</td>\n",
       "      <td>810</td>\n",
       "      <td>10</td>\n",
       "      <td>18.052333</td>\n",
       "      <td>(0, 20]</td>\n",
       "    </tr>\n",
       "    <tr>\n",
       "      <th>199997</th>\n",
       "      <td>364</td>\n",
       "      <td>773</td>\n",
       "      <td>8</td>\n",
       "      <td>8.431333</td>\n",
       "      <td>(0, 20]</td>\n",
       "    </tr>\n",
       "    <tr>\n",
       "      <th>199998</th>\n",
       "      <td>33</td>\n",
       "      <td>487</td>\n",
       "      <td>3</td>\n",
       "      <td>8.291667</td>\n",
       "      <td>(0, 20]</td>\n",
       "    </tr>\n",
       "    <tr>\n",
       "      <th>199999</th>\n",
       "      <td>1040</td>\n",
       "      <td>435</td>\n",
       "      <td>3</td>\n",
       "      <td>4.037667</td>\n",
       "      <td>(0, 20]</td>\n",
       "    </tr>\n",
       "  </tbody>\n",
       "</table>\n",
       "<p>199959 rows × 5 columns</p>\n",
       "</div>"
      ],
      "text/plain": [
       "        sourceid  dstid  hod  ride time    bucket\n",
       "0            584     33    7  11.866000   (0, 20]\n",
       "1           1013   1116   13  17.799333   (0, 20]\n",
       "2            884   1190   22  19.348833   (0, 20]\n",
       "3            211    364    1   1.723500   (0, 20]\n",
       "4            218   1189    7  42.558833  (40, 60]\n",
       "...          ...    ...  ...        ...       ...\n",
       "199995       448    333    1  14.460833   (0, 20]\n",
       "199996       207    810   10  18.052333   (0, 20]\n",
       "199997       364    773    8   8.431333   (0, 20]\n",
       "199998        33    487    3   8.291667   (0, 20]\n",
       "199999      1040    435    3   4.037667   (0, 20]\n",
       "\n",
       "[199959 rows x 5 columns]"
      ]
     },
     "execution_count": 82,
     "metadata": {},
     "output_type": "execute_result"
    }
   ],
   "source": [
    "ride_shorter_than_80_minutes = boston[boston[\"ride time\"] <= 80].copy()\n",
    "ride_shorter_than_80_minutes[\"bucket\"] = pd.cut(ride_shorter_than_80_minutes[\"ride time\"], bins = range(0,100,20))\n",
    "ride_shorter_than_80_minutes"
   ]
  },
  {
   "cell_type": "markdown",
   "metadata": {},
   "source": [
    "We have added another column to the table consisting of rides less than 80 minutes. The column contains the range corresponding to the ride time. "
   ]
  },
  {
   "cell_type": "code",
   "execution_count": 83,
   "metadata": {},
   "outputs": [
    {
     "data": {
      "text/html": [
       "<div>\n",
       "<style scoped>\n",
       "    .dataframe tbody tr th:only-of-type {\n",
       "        vertical-align: middle;\n",
       "    }\n",
       "\n",
       "    .dataframe tbody tr th {\n",
       "        vertical-align: top;\n",
       "    }\n",
       "\n",
       "    .dataframe thead th {\n",
       "        text-align: right;\n",
       "    }\n",
       "</style>\n",
       "<table border=\"1\" class=\"dataframe\">\n",
       "  <thead>\n",
       "    <tr style=\"text-align: right;\">\n",
       "      <th></th>\n",
       "      <th>ride time</th>\n",
       "    </tr>\n",
       "    <tr>\n",
       "      <th>bucket</th>\n",
       "      <th></th>\n",
       "    </tr>\n",
       "  </thead>\n",
       "  <tbody>\n",
       "    <tr>\n",
       "      <th>(0, 20]</th>\n",
       "      <td>141357.0</td>\n",
       "    </tr>\n",
       "    <tr>\n",
       "      <th>(20, 40]</th>\n",
       "      <td>56043.0</td>\n",
       "    </tr>\n",
       "    <tr>\n",
       "      <th>(40, 60]</th>\n",
       "      <td>2467.0</td>\n",
       "    </tr>\n",
       "    <tr>\n",
       "      <th>(60, 80]</th>\n",
       "      <td>92.0</td>\n",
       "    </tr>\n",
       "  </tbody>\n",
       "</table>\n",
       "</div>"
      ],
      "text/plain": [
       "          ride time\n",
       "bucket             \n",
       "(0, 20]    141357.0\n",
       "(20, 40]    56043.0\n",
       "(40, 60]     2467.0\n",
       "(60, 80]       92.0"
      ]
     },
     "execution_count": 83,
     "metadata": {},
     "output_type": "execute_result"
    }
   ],
   "source": [
    "groups = ride_shorter_than_80_minutes.groupby(\"bucket\").agg({\"ride time\": len})\n",
    "groups"
   ]
  },
  {
   "cell_type": "markdown",
   "metadata": {},
   "source": [
    "We can group the records by the ranges in the `buckets` column. We can count the number of records in each group. "
   ]
  },
  {
   "cell_type": "code",
   "execution_count": 84,
   "metadata": {},
   "outputs": [
    {
     "data": {
      "text/html": [
       "<div>\n",
       "<style scoped>\n",
       "    .dataframe tbody tr th:only-of-type {\n",
       "        vertical-align: middle;\n",
       "    }\n",
       "\n",
       "    .dataframe tbody tr th {\n",
       "        vertical-align: top;\n",
       "    }\n",
       "\n",
       "    .dataframe thead th {\n",
       "        text-align: right;\n",
       "    }\n",
       "</style>\n",
       "<table border=\"1\" class=\"dataframe\">\n",
       "  <thead>\n",
       "    <tr style=\"text-align: right;\">\n",
       "      <th></th>\n",
       "      <th>Frequency</th>\n",
       "    </tr>\n",
       "    <tr>\n",
       "      <th>Minutes</th>\n",
       "      <th></th>\n",
       "    </tr>\n",
       "  </thead>\n",
       "  <tbody>\n",
       "    <tr>\n",
       "      <th>(0, 20]</th>\n",
       "      <td>141357.0</td>\n",
       "    </tr>\n",
       "    <tr>\n",
       "      <th>(20, 40]</th>\n",
       "      <td>56043.0</td>\n",
       "    </tr>\n",
       "    <tr>\n",
       "      <th>(40, 60]</th>\n",
       "      <td>2467.0</td>\n",
       "    </tr>\n",
       "    <tr>\n",
       "      <th>(60, 80]</th>\n",
       "      <td>92.0</td>\n",
       "    </tr>\n",
       "  </tbody>\n",
       "</table>\n",
       "</div>"
      ],
      "text/plain": [
       "          Frequency\n",
       "Minutes            \n",
       "(0, 20]    141357.0\n",
       "(20, 40]    56043.0\n",
       "(40, 60]     2467.0\n",
       "(60, 80]       92.0"
      ]
     },
     "execution_count": 84,
     "metadata": {},
     "output_type": "execute_result"
    }
   ],
   "source": [
    "groups.index.name = \"Minutes\"\n",
    "groups.columns = [\"Frequency\"]\n",
    "groups"
   ]
  },
  {
   "cell_type": "markdown",
   "metadata": {},
   "source": [
    "We rename the entries to remind ourselves that we have a range of ride time in minutes and the corresponding frequency. \n",
    "\n",
    "If we just had the table `groups`, then could we compute \n",
    "\n",
    "- mean \n",
    "- median \n",
    "- mode \n",
    "\n",
    "that approximate the mean, median and mode in `ride_shorter_than_80_minutes`? "
   ]
  },
  {
   "cell_type": "code",
   "execution_count": 92,
   "metadata": {},
   "outputs": [
    {
     "data": {
      "text/html": [
       "<div>\n",
       "<style scoped>\n",
       "    .dataframe tbody tr th:only-of-type {\n",
       "        vertical-align: middle;\n",
       "    }\n",
       "\n",
       "    .dataframe tbody tr th {\n",
       "        vertical-align: top;\n",
       "    }\n",
       "\n",
       "    .dataframe thead th {\n",
       "        text-align: right;\n",
       "    }\n",
       "</style>\n",
       "<table border=\"1\" class=\"dataframe\">\n",
       "  <thead>\n",
       "    <tr style=\"text-align: right;\">\n",
       "      <th></th>\n",
       "      <th>Frequency</th>\n",
       "      <th>Middle Value</th>\n",
       "    </tr>\n",
       "    <tr>\n",
       "      <th>Minutes</th>\n",
       "      <th></th>\n",
       "      <th></th>\n",
       "    </tr>\n",
       "  </thead>\n",
       "  <tbody>\n",
       "    <tr>\n",
       "      <th>(0, 20]</th>\n",
       "      <td>141357.0</td>\n",
       "      <td>10</td>\n",
       "    </tr>\n",
       "    <tr>\n",
       "      <th>(20, 40]</th>\n",
       "      <td>56043.0</td>\n",
       "      <td>30</td>\n",
       "    </tr>\n",
       "    <tr>\n",
       "      <th>(40, 60]</th>\n",
       "      <td>2467.0</td>\n",
       "      <td>50</td>\n",
       "    </tr>\n",
       "    <tr>\n",
       "      <th>(60, 80]</th>\n",
       "      <td>92.0</td>\n",
       "      <td>70</td>\n",
       "    </tr>\n",
       "  </tbody>\n",
       "</table>\n",
       "</div>"
      ],
      "text/plain": [
       "          Frequency  Middle Value\n",
       "Minutes                          \n",
       "(0, 20]    141357.0            10\n",
       "(20, 40]    56043.0            30\n",
       "(40, 60]     2467.0            50\n",
       "(60, 80]       92.0            70"
      ]
     },
     "execution_count": 92,
     "metadata": {},
     "output_type": "execute_result"
    }
   ],
   "source": [
    "groups[\"Middle Value\"] = [10,30,50,70]\n",
    "groups"
   ]
  },
  {
   "cell_type": "markdown",
   "metadata": {},
   "source": [
    "We can use the middle value in each range to summarize the ride times.\n",
    "\n",
    "$$\\displaystyle \\frac{141357 * 10 + 56043 * 30 + 2467 * 50 + 92 * 70}{141357 + 56043 + 2467 + 92}$$\n",
    "\n",
    "If we pretend that the frequency indicate the number of times the middle value occurs in the dataset, then we can generate something like a mean."
   ]
  },
  {
   "cell_type": "code",
   "execution_count": 96,
   "metadata": {},
   "outputs": [
    {
     "data": {
      "text/plain": [
       "16.126555943968512"
      ]
     },
     "execution_count": 96,
     "metadata": {},
     "output_type": "execute_result"
    }
   ],
   "source": [
    "grouped_mean = np.sum(groups[\"Middle Value\"] * groups[\"Frequency\"]) / groups[\"Frequency\"].sum()\n",
    "grouped_mean"
   ]
  },
  {
   "cell_type": "markdown",
   "metadata": {},
   "source": [
    "Note the close agreement between this number and the mean of the ride times in `ride_shorter_than_80_minutes`."
   ]
  },
  {
   "cell_type": "code",
   "execution_count": 208,
   "metadata": {},
   "outputs": [
    {
     "data": {
      "text/plain": [
       "16.44959508949343"
      ]
     },
     "execution_count": 208,
     "metadata": {},
     "output_type": "execute_result"
    }
   ],
   "source": [
    "ride_shorter_than_80_minutes[\"ride time\"].mean()"
   ]
  },
  {
   "cell_type": "markdown",
   "metadata": {},
   "source": [
    "We have about 200000 records in the dataset. So if we sorted the ride times from shortest to longest, then the median would be value of the 100000th records. "
   ]
  },
  {
   "cell_type": "code",
   "execution_count": 204,
   "metadata": {},
   "outputs": [
    {
     "data": {
      "image/png": "[encoded data removed]",
      "text/plain": [
       "<Figure size 648x504 with 1 Axes>"
      ]
     },
     "metadata": {
      "needs_background": "light"
     },
     "output_type": "display_data"
    }
   ],
   "source": [
    "groups[\"Frequency\"].cumsum().plot(kind=\"bar\", rot = 45)\n",
    "plt.ylim([90000, 201000])\n",
    "plt.axhline(groups[\"Frequency\"].sum() / 2, color = \"g\")\n",
    "plt.title(\"Cumulative Sum of Frequencies\")\n",
    "plt.xticks([0,1,2,3], labels = [\"(0,20]\",\"(0,40]\",\"(0,60]\",\"(0,80]\"]);"
   ]
  },
  {
   "cell_type": "markdown",
   "metadata": {},
   "source": [
    "By plotting a cumulative sum of the frequencies in `groups` table, we find that the 100000th record occurs in the range `(0,20]`. So we should choose the grouped mean to lie somewhere between 0 and 20.  "
   ]
  },
  {
   "cell_type": "code",
   "execution_count": 206,
   "metadata": {},
   "outputs": [
    {
     "data": {
      "image/png": "[encoded data removed]",
      "text/plain": [
       "<Figure size 648x504 with 1 Axes>"
      ]
     },
     "metadata": {
      "needs_background": "light"
     },
     "output_type": "display_data"
    }
   ],
   "source": [
    "groups[\"Frequency\"].cumsum().plot(kind=\"bar\", rot = 45)\n",
    "plt.ylim([90000, 201000])\n",
    "plt.axhline(groups[\"Frequency\"].sum() / 2, color = \"g\")\n",
    "plt.vlines(x= -0.45, ymin = 90000, ymax = 100000, colors = \"r\", lw = 5  )\n",
    "plt.vlines(x= -0.45, ymin = 100000, ymax = 140000 , colors = \"y\", lw = 5  )\n",
    "plt.hlines(y= 90000, xmin = -0.25, xmax = -0.25 + 0.5 * fraction_of_range, colors = \"r\", lw = 10 )\n",
    "plt.hlines(y= 90000, xmin = -0.25 + 0.5 * fraction_of_range, xmax = -0.25 + 0.5, colors = \"y\", lw = 10 )\n",
    "plt.xticks([0,1,2,3], labels = [\"(0,20]\",\"(0,40]\",\"(0,60]\",\"(0,80]\"]);"
   ]
  },
  {
   "cell_type": "markdown",
   "metadata": {},
   "source": [
    "Note that we have about 140000 records in the range `(0,20]`. We can use the ratio\n",
    "\n",
    "$$\\displaystyle \\frac{100000}{140000}$$\n",
    "\n",
    "to determine a value for the median between 0 and 20. We choose \n",
    "\n",
    "$$\\displaystyle \\frac{100000}{140000} \\left(20 - 0\\right)$$\n",
    "\n",
    "So the grouped mean is about 14.2"
   ]
  },
  {
   "cell_type": "code",
   "execution_count": 207,
   "metadata": {},
   "outputs": [
    {
     "data": {
      "text/plain": [
       "14.285714285714286"
      ]
     },
     "execution_count": 207,
     "metadata": {},
     "output_type": "execute_result"
    }
   ],
   "source": [
    "grouped_median = (100000 / 140000) * 20\n",
    "grouped_median"
   ]
  },
  {
   "cell_type": "markdown",
   "metadata": {},
   "source": [
    "Note the close agreement with the median from `ride_shorter_than_80_minutes`"
   ]
  },
  {
   "cell_type": "code",
   "execution_count": 211,
   "metadata": {},
   "outputs": [
    {
     "data": {
      "text/plain": [
       "15.5"
      ]
     },
     "execution_count": 211,
     "metadata": {},
     "output_type": "execute_result"
    }
   ],
   "source": [
    "ride_shorter_than_80_minutes[\"ride time\"].median()"
   ]
  },
  {
   "cell_type": "markdown",
   "metadata": {},
   "source": [
    "#### Comparing the Data\n",
    "\n",
    "Having studied the data about Boston, we want to compare to the data about Manila. "
   ]
  },
  {
   "cell_type": "code",
   "execution_count": 212,
   "metadata": {},
   "outputs": [],
   "source": [
    "ride_shorter_than_80_minutes_manila = manila[manila[\"ride time\"] <= 80].copy()"
   ]
  },
  {
   "cell_type": "markdown",
   "metadata": {},
   "source": [
    "Having determined the ride in Manila less than 80 minutes, we can compare the two cities with histograms."
   ]
  },
  {
   "cell_type": "code",
   "execution_count": 184,
   "metadata": {},
   "outputs": [
    {
     "data": {
      "image/png": "[encoded data removed]",
      "text/plain": [
       "<Figure size 648x504 with 1 Axes>"
      ]
     },
     "metadata": {
      "needs_background": "light"
     },
     "output_type": "display_data"
    }
   ],
   "source": [
    "plt.hist(ride_shorter_than_80_minutes[\"ride time\"], rwidth=0.95, range = [0,40], alpha = 0.5)\n",
    "plt.hist(ride_shorter_than_80_minutes_manila[\"ride time\"], rwidth=0.95, range = [0,40], alpha = 0.5)\n",
    "plt.title(\"Ride Time Boston and Manila\");"
   ]
  },
  {
   "cell_type": "markdown",
   "metadata": {},
   "source": [
    "It appears that rides in Manila are longer than rides in Boston. We can compare with a quantile-quantile plot."
   ]
  },
  {
   "cell_type": "code",
   "execution_count": 213,
   "metadata": {},
   "outputs": [],
   "source": [
    "manila_quantiles = [ride_shorter_than_80_minutes_manila[\"ride time\"].quantile(p) for p in np.arange(0.0,1,0.05)]\n",
    "boston_quantiles = [ride_shorter_than_80_minutes[\"ride time\"].quantile(p) for p in np.arange(0.0,1,0.05)]"
   ]
  },
  {
   "cell_type": "code",
   "execution_count": 214,
   "metadata": {},
   "outputs": [
    {
     "data": {
      "image/png": "[encoded data removed]",
      "text/plain": [
       "<Figure size 648x504 with 1 Axes>"
      ]
     },
     "metadata": {
      "needs_background": "light"
     },
     "output_type": "display_data"
    }
   ],
   "source": [
    "plt.scatter(boston_quantiles, manila_quantiles)\n",
    "plt.plot(np.linspace(0,35,100), np.linspace(0,35,100), \"g:\")\n",
    "plt.ylabel(\"Manila Quantiles\")\n",
    "plt.xlabel(\"Boston Quantiles\")\n",
    "plt.title(\"Quantile-Quantile Plot for Ride Times\");"
   ]
  }
 ],
 "metadata": {
  "anaconda-cloud": {},
  "kernelspec": {
   "display_name": "Python 3",
   "language": "python",
   "name": "python3"
  },
  "language_info": {
   "codemirror_mode": {
    "name": "ipython",
    "version": 3
   },
   "file_extension": ".py",
   "mimetype": "text/x-python",
   "name": "python",
   "nbconvert_exporter": "python",
   "pygments_lexer": "ipython3",
   "version": "3.7.3"
  }
 },
 "nbformat": 4,
 "nbformat_minor": 2
}

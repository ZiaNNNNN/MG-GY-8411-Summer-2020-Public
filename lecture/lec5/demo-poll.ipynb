{
 "cells": [
  {
   "cell_type": "code",
   "execution_count": 4,
   "metadata": {},
   "outputs": [],
   "source": [
    "from metakernel import register_ipython_magics\n",
    "\n",
    "register_ipython_magics()"
   ]
  },
  {
   "cell_type": "code",
   "execution_count": 5,
   "metadata": {},
   "outputs": [
    {
     "data": {
      "application/vnd.jupyter.widget-view+json": {
       "model_id": "f1eccc1e339746f4beba158552658a4c",
       "version_major": 2,
       "version_minor": 0
      },
      "text/plain": [
       "VBox(children=(HBox(children=(VBox(children=(HTML(value='<p><b>Question ID</b>: 1</p>'), HTML(value='<h1>Which…"
      ]
     },
     "metadata": {},
     "output_type": "display_data"
    }
   ],
   "source": [
    "%%activity ~/shared/lecture-polls/poll_demo\n",
    "\n",
    "{\"activity\": \"poll\",\n",
    " \"instructors\": [\"dblank\"],\n",
    " \"items\": [\n",
    "      {\"id\": \"1\", \n",
    "       \"question\":  \"\"\"Which of the following will print \"Hello\" 5 times without errors?\"\"\", \n",
    "       \"type\": \"multiple choice\",\n",
    "       \"options\": [\n",
    "\"\"\"<pre style=\"width: 600px\">\n",
    "for (int i=0; i < 5; i++) {\n",
    "    println(\"Hello\");\n",
    "}\n",
    "</pre>\"\"\",\n",
    "\"\"\"<pre style=\"width: 600px\">\n",
    "println(\"Hello\");\n",
    "println(\"Hello\");\n",
    "println(\"Hello\");\n",
    "println(\"Hello\");\n",
    "println(\"Hello\");\n",
    "</pre>\"\"\",\n",
    "\"\"\"<pre style=\"width: 600px\">\n",
    "int i = 0;\n",
    "while (i < 5) {\n",
    "    println(\"Hello\");\n",
    "    i++;\n",
    "}\n",
    "</pre>\"\"\",\n",
    "        \"All of the above\",\n",
    "        \"None of the above\",\n",
    "    ]},\n",
    "        \n",
    "    {\"id\": \"2\", \n",
    "     \"question\":    \"\"\"Which of the following is a function definition?\"\"\", \n",
    "     \"type\": \"multiple choice\",\n",
    "     \"options\":    [\n",
    "\"\"\"<pre style=\"width: 600px\">\n",
    "void draw() {\n",
    "}\n",
    "</pre>\"\"\",\n",
    "\"\"\"<pre style=\"width: 600px\">\n",
    "rect(10, 10, 50, 50);\n",
    "</pre>\"\"\",\n",
    "\"\"\"<pre style=\"width: 600px\">\n",
    "drawBunny(mouseX, mouseY, 50, 100);\n",
    "</pre>\"\"\",\n",
    "        \"All of the above\",\n",
    "        \"None of the above\",\n",
    "        ]},\n",
    "      {\"id\": \"3\", \n",
    "       \"question\":     \"\"\"Which of the following has parameters?\"\"\", \n",
    "       \"type\": \"multiple choice\",\n",
    "       \"options\":     [\n",
    "\"\"\"<pre style=\"width: 600px\">\n",
    "void draw() {\n",
    "}\n",
    "</pre>\"\"\",\n",
    "\"\"\"<pre style=\"width: 600px\">\n",
    "void drawRect(float x, float y, float w, float h) {\n",
    "    rect(x, y, w, h);\n",
    "}\n",
    "</pre>\"\"\",\n",
    "\"\"\"<pre style=\"width: 600px\">\n",
    "void drawBunny() {\n",
    "    rect(10, 20, 100, 150);\n",
    "}\n",
    "</pre>\"\"\",\n",
    "        \"All of the above\",\n",
    "        \"None of the above\",\n",
    "        ]},\n",
    "     {\"id\": \"4\", \n",
    "      \"question\":  \"\"\"Which of the following is a function call?\"\"\", \n",
    "      \"type\": \"multiple choice\",\n",
    "      \"options\": [\n",
    "\"\"\"<pre style=\"width: 600px\">\n",
    "void draw() {\n",
    "}\n",
    "</pre>\"\"\",\n",
    "\"\"\"<pre style=\"width: 600px\">\n",
    "rect(10, 10, 50, 50);\n",
    "</pre>\"\"\",\n",
    "\"\"\"<pre style=\"width: 600px\">\n",
    "drawBunny(mouseX, mouseY, 50, 100);\n",
    "</pre>\"\"\",\n",
    "        \"2 and 3\",\n",
    "        \"None of the above\",\n",
    "        ]},\n",
    "    ]\n",
    "}"
   ]
  },
  {
   "cell_type": "code",
   "execution_count": null,
   "metadata": {},
   "outputs": [],
   "source": []
  },
  {
   "cell_type": "code",
   "execution_count": null,
   "metadata": {},
   "outputs": [],
   "source": []
  }
 ],
 "metadata": {
  "kernelspec": {
   "display_name": "Python [conda env:mggy-8411]",
   "language": "python",
   "name": "conda-env-mggy-8411-py"
  },
  "language_info": {
   "codemirror_mode": {
    "name": "ipython",
    "version": 3
   },
   "file_extension": ".py",
   "mimetype": "text/x-python",
   "name": "python",
   "nbconvert_exporter": "python",
   "pygments_lexer": "ipython3",
   "version": "3.7.7"
  }
 },
 "nbformat": 4,
 "nbformat_minor": 4
}

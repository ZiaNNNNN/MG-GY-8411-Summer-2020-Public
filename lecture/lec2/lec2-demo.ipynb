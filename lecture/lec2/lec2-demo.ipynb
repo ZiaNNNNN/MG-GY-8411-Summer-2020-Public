{
 "cells": [
  {
   "cell_type": "markdown",
   "metadata": {},
   "source": [
    "## Lecture 2\n",
    "\n",
    "We want to study data cleaning, data transformation, data integration and data reduction on a dataset about human resources. By processing the data, we can mine it for information. The information might help us discover answers to questions like \n",
    "\n",
    "- Does the length of the short answer response correlate with years of professional experience?\n",
    "- Do employees with experience in math have experience in statistics and vice versa?\n",
    "- Does the company appear to have more expertise in some programming languages. For example, do we commonly find experience with both Python and R?\n"
   ]
  },
  {
   "cell_type": "code",
   "execution_count": 1,
   "metadata": {},
   "outputs": [],
   "source": [
    "# importing some packages\n",
    "\n",
    "import numpy as np\n",
    "import pandas as pd\n",
    "\n",
    "import matplotlib.pyplot as plt\n",
    "\n",
    "# changing some settings\n",
    "\n",
    "pd.set_option('display.max_rows', 10)\n",
    "pd.set_option('display.max_columns', 8)\n",
    "\n",
    "%matplotlib inline\n",
    "plt.rcParams['figure.figsize'] = (9,7)"
   ]
  },
  {
   "cell_type": "markdown",
   "metadata": {},
   "source": [
    "We will be working with employee surveys."
   ]
  },
  {
   "cell_type": "code",
   "execution_count": 2,
   "metadata": {},
   "outputs": [
    {
     "data": {
      "text/html": [
       "<div>\n",
       "<style scoped>\n",
       "    .dataframe tbody tr th:only-of-type {\n",
       "        vertical-align: middle;\n",
       "    }\n",
       "\n",
       "    .dataframe tbody tr th {\n",
       "        vertical-align: top;\n",
       "    }\n",
       "\n",
       "    .dataframe thead th {\n",
       "        text-align: right;\n",
       "    }\n",
       "</style>\n",
       "<table border=\"1\" class=\"dataframe\">\n",
       "  <thead>\n",
       "    <tr style=\"text-align: right;\">\n",
       "      <th></th>\n",
       "      <th>cycle</th>\n",
       "      <th>id</th>\n",
       "      <th>cs_python</th>\n",
       "      <th>cs_java</th>\n",
       "      <th>...</th>\n",
       "      <th>profile_6</th>\n",
       "      <th>profile_7</th>\n",
       "      <th>len_answer</th>\n",
       "      <th>experience</th>\n",
       "    </tr>\n",
       "  </thead>\n",
       "  <tbody>\n",
       "    <tr>\n",
       "      <th>0</th>\n",
       "      <td>Summer</td>\n",
       "      <td>1</td>\n",
       "      <td>1</td>\n",
       "      <td>0</td>\n",
       "      <td>...</td>\n",
       "      <td>3</td>\n",
       "      <td>6</td>\n",
       "      <td>74</td>\n",
       "      <td>None, I just finished my undergrad!</td>\n",
       "    </tr>\n",
       "    <tr>\n",
       "      <th>1</th>\n",
       "      <td>Spring</td>\n",
       "      <td>2</td>\n",
       "      <td>1</td>\n",
       "      <td>1</td>\n",
       "      <td>...</td>\n",
       "      <td>3</td>\n",
       "      <td>8</td>\n",
       "      <td>597</td>\n",
       "      <td>None, I just finished my undergrad!</td>\n",
       "    </tr>\n",
       "    <tr>\n",
       "      <th>2</th>\n",
       "      <td>Fall</td>\n",
       "      <td>3</td>\n",
       "      <td>0</td>\n",
       "      <td>0</td>\n",
       "      <td>...</td>\n",
       "      <td>9</td>\n",
       "      <td>9</td>\n",
       "      <td>548</td>\n",
       "      <td>5+ years, I'm a veteran!</td>\n",
       "    </tr>\n",
       "    <tr>\n",
       "      <th>3</th>\n",
       "      <td>Spring</td>\n",
       "      <td>4</td>\n",
       "      <td>0</td>\n",
       "      <td>0</td>\n",
       "      <td>...</td>\n",
       "      <td>6</td>\n",
       "      <td>8</td>\n",
       "      <td>954</td>\n",
       "      <td>5+ years, I'm a veteran!</td>\n",
       "    </tr>\n",
       "    <tr>\n",
       "      <th>4</th>\n",
       "      <td>Fall</td>\n",
       "      <td>5</td>\n",
       "      <td>0</td>\n",
       "      <td>0</td>\n",
       "      <td>...</td>\n",
       "      <td>6</td>\n",
       "      <td>7</td>\n",
       "      <td>612</td>\n",
       "      <td>2-5 years, I'm getting good at what I do!</td>\n",
       "    </tr>\n",
       "    <tr>\n",
       "      <th>...</th>\n",
       "      <td>...</td>\n",
       "      <td>...</td>\n",
       "      <td>...</td>\n",
       "      <td>...</td>\n",
       "      <td>...</td>\n",
       "      <td>...</td>\n",
       "      <td>...</td>\n",
       "      <td>...</td>\n",
       "      <td>...</td>\n",
       "    </tr>\n",
       "    <tr>\n",
       "      <th>153</th>\n",
       "      <td>Spring</td>\n",
       "      <td>154</td>\n",
       "      <td>1</td>\n",
       "      <td>1</td>\n",
       "      <td>...</td>\n",
       "      <td>8</td>\n",
       "      <td>10</td>\n",
       "      <td>265</td>\n",
       "      <td>5+ years, I'm a veteran!</td>\n",
       "    </tr>\n",
       "    <tr>\n",
       "      <th>154</th>\n",
       "      <td>Summer</td>\n",
       "      <td>155</td>\n",
       "      <td>1</td>\n",
       "      <td>1</td>\n",
       "      <td>...</td>\n",
       "      <td>1</td>\n",
       "      <td>2</td>\n",
       "      <td>402</td>\n",
       "      <td>None, I just finished my undergrad!</td>\n",
       "    </tr>\n",
       "    <tr>\n",
       "      <th>155</th>\n",
       "      <td>Fall</td>\n",
       "      <td>156</td>\n",
       "      <td>1</td>\n",
       "      <td>1</td>\n",
       "      <td>...</td>\n",
       "      <td>1</td>\n",
       "      <td>5</td>\n",
       "      <td>555</td>\n",
       "      <td>&lt; 2 years, I'm fresh!</td>\n",
       "    </tr>\n",
       "    <tr>\n",
       "      <th>156</th>\n",
       "      <td>Summer</td>\n",
       "      <td>157</td>\n",
       "      <td>1</td>\n",
       "      <td>0</td>\n",
       "      <td>...</td>\n",
       "      <td>1</td>\n",
       "      <td>4</td>\n",
       "      <td>0</td>\n",
       "      <td>None, I just finished my undergrad!</td>\n",
       "    </tr>\n",
       "    <tr>\n",
       "      <th>157</th>\n",
       "      <td>Spring</td>\n",
       "      <td>158</td>\n",
       "      <td>1</td>\n",
       "      <td>0</td>\n",
       "      <td>...</td>\n",
       "      <td>1</td>\n",
       "      <td>6</td>\n",
       "      <td>222</td>\n",
       "      <td>&lt; 2 years, I'm fresh!</td>\n",
       "    </tr>\n",
       "  </tbody>\n",
       "</table>\n",
       "<p>158 rows × 18 columns</p>\n",
       "</div>"
      ],
      "text/plain": [
       "      cycle   id  cs_python  cs_java  ...  profile_6  profile_7  len_answer  \\\n",
       "0    Summer    1          1        0  ...          3          6          74   \n",
       "1    Spring    2          1        1  ...          3          8         597   \n",
       "2      Fall    3          0        0  ...          9          9         548   \n",
       "3    Spring    4          0        0  ...          6          8         954   \n",
       "4      Fall    5          0        0  ...          6          7         612   \n",
       "..      ...  ...        ...      ...  ...        ...        ...         ...   \n",
       "153  Spring  154          1        1  ...          8         10         265   \n",
       "154  Summer  155          1        1  ...          1          2         402   \n",
       "155    Fall  156          1        1  ...          1          5         555   \n",
       "156  Summer  157          1        0  ...          1          4           0   \n",
       "157  Spring  158          1        0  ...          1          6         222   \n",
       "\n",
       "                                    experience  \n",
       "0          None, I just finished my undergrad!  \n",
       "1          None, I just finished my undergrad!  \n",
       "2                     5+ years, I'm a veteran!  \n",
       "3                     5+ years, I'm a veteran!  \n",
       "4    2-5 years, I'm getting good at what I do!  \n",
       "..                                         ...  \n",
       "153                   5+ years, I'm a veteran!  \n",
       "154        None, I just finished my undergrad!  \n",
       "155                      < 2 years, I'm fresh!  \n",
       "156        None, I just finished my undergrad!  \n",
       "157                      < 2 years, I'm fresh!  \n",
       "\n",
       "[158 rows x 18 columns]"
      ]
     },
     "execution_count": 2,
     "metadata": {},
     "output_type": "execute_result"
    }
   ],
   "source": [
    "survey = pd.read_csv(\"survey.csv\")\n",
    "survey"
   ]
  },
  {
   "cell_type": "markdown",
   "metadata": {},
   "source": [
    "### Data Processing\n",
    "\n",
    "We can take a look at the headers of the columns"
   ]
  },
  {
   "cell_type": "code",
   "execution_count": 3,
   "metadata": {
    "collapsed": false
   },
   "outputs": [
    {
     "data": {
      "text/plain": [
       "Index(['cycle', 'id', 'cs_python', 'cs_java', 'cs_c', 'cs_perl',\n",
       "       'cs_javascript', 'cs_r', 'cs_sas', 'profile_1', 'profile_2',\n",
       "       'profile_3', 'profile_4', 'profile_5', 'profile_6', 'profile_7',\n",
       "       'len_answer', 'experience'],\n",
       "      dtype='object')"
      ]
     },
     "execution_count": 3,
     "metadata": {},
     "output_type": "execute_result"
    }
   ],
   "source": [
    "survey.columns"
   ]
  },
  {
   "cell_type": "markdown",
   "metadata": {},
   "source": [
    "Note that 'profile_1', 'profile_2', 'profile_3', 'profile_4', 'profile_5', 'profile_6', 'profile_7' refer to educational background. "
   ]
  },
  {
   "cell_type": "code",
   "execution_count": 8,
   "metadata": {
    "collapsed": true
   },
   "outputs": [],
   "source": [
    "profile_mapping = {1:'Viz',\n",
    "                   2:'CS',\n",
    "                   3:'Math',\n",
    "                   4:'Stats',\n",
    "                   5:'ML',\n",
    "                   6:'Bus',\n",
    "                   7:'Com'}"
   ]
  },
  {
   "cell_type": "markdown",
   "metadata": {},
   "source": [
    "We can replace the headers to make them more descriptive."
   ]
  },
  {
   "cell_type": "code",
   "execution_count": 12,
   "metadata": {},
   "outputs": [
    {
     "data": {
      "text/html": [
       "<div>\n",
       "<style scoped>\n",
       "    .dataframe tbody tr th:only-of-type {\n",
       "        vertical-align: middle;\n",
       "    }\n",
       "\n",
       "    .dataframe tbody tr th {\n",
       "        vertical-align: top;\n",
       "    }\n",
       "\n",
       "    .dataframe thead th {\n",
       "        text-align: right;\n",
       "    }\n",
       "</style>\n",
       "<table border=\"1\" class=\"dataframe\">\n",
       "  <thead>\n",
       "    <tr style=\"text-align: right;\">\n",
       "      <th></th>\n",
       "      <th>cycle</th>\n",
       "      <th>id</th>\n",
       "      <th>cs_python</th>\n",
       "      <th>cs_java</th>\n",
       "      <th>...</th>\n",
       "      <th>Bus</th>\n",
       "      <th>Com</th>\n",
       "      <th>len_answer</th>\n",
       "      <th>experience</th>\n",
       "    </tr>\n",
       "  </thead>\n",
       "  <tbody>\n",
       "    <tr>\n",
       "      <th>0</th>\n",
       "      <td>Summer</td>\n",
       "      <td>1</td>\n",
       "      <td>1</td>\n",
       "      <td>0</td>\n",
       "      <td>...</td>\n",
       "      <td>3</td>\n",
       "      <td>6</td>\n",
       "      <td>74</td>\n",
       "      <td>None, I just finished my undergrad!</td>\n",
       "    </tr>\n",
       "    <tr>\n",
       "      <th>1</th>\n",
       "      <td>Spring</td>\n",
       "      <td>2</td>\n",
       "      <td>1</td>\n",
       "      <td>1</td>\n",
       "      <td>...</td>\n",
       "      <td>3</td>\n",
       "      <td>8</td>\n",
       "      <td>597</td>\n",
       "      <td>None, I just finished my undergrad!</td>\n",
       "    </tr>\n",
       "    <tr>\n",
       "      <th>2</th>\n",
       "      <td>Fall</td>\n",
       "      <td>3</td>\n",
       "      <td>0</td>\n",
       "      <td>0</td>\n",
       "      <td>...</td>\n",
       "      <td>9</td>\n",
       "      <td>9</td>\n",
       "      <td>548</td>\n",
       "      <td>5+ years, I'm a veteran!</td>\n",
       "    </tr>\n",
       "    <tr>\n",
       "      <th>3</th>\n",
       "      <td>Spring</td>\n",
       "      <td>4</td>\n",
       "      <td>0</td>\n",
       "      <td>0</td>\n",
       "      <td>...</td>\n",
       "      <td>6</td>\n",
       "      <td>8</td>\n",
       "      <td>954</td>\n",
       "      <td>5+ years, I'm a veteran!</td>\n",
       "    </tr>\n",
       "    <tr>\n",
       "      <th>4</th>\n",
       "      <td>Fall</td>\n",
       "      <td>5</td>\n",
       "      <td>0</td>\n",
       "      <td>0</td>\n",
       "      <td>...</td>\n",
       "      <td>6</td>\n",
       "      <td>7</td>\n",
       "      <td>612</td>\n",
       "      <td>2-5 years, I'm getting good at what I do!</td>\n",
       "    </tr>\n",
       "    <tr>\n",
       "      <th>...</th>\n",
       "      <td>...</td>\n",
       "      <td>...</td>\n",
       "      <td>...</td>\n",
       "      <td>...</td>\n",
       "      <td>...</td>\n",
       "      <td>...</td>\n",
       "      <td>...</td>\n",
       "      <td>...</td>\n",
       "      <td>...</td>\n",
       "    </tr>\n",
       "    <tr>\n",
       "      <th>153</th>\n",
       "      <td>Spring</td>\n",
       "      <td>154</td>\n",
       "      <td>1</td>\n",
       "      <td>1</td>\n",
       "      <td>...</td>\n",
       "      <td>8</td>\n",
       "      <td>10</td>\n",
       "      <td>265</td>\n",
       "      <td>5+ years, I'm a veteran!</td>\n",
       "    </tr>\n",
       "    <tr>\n",
       "      <th>154</th>\n",
       "      <td>Summer</td>\n",
       "      <td>155</td>\n",
       "      <td>1</td>\n",
       "      <td>1</td>\n",
       "      <td>...</td>\n",
       "      <td>1</td>\n",
       "      <td>2</td>\n",
       "      <td>402</td>\n",
       "      <td>None, I just finished my undergrad!</td>\n",
       "    </tr>\n",
       "    <tr>\n",
       "      <th>155</th>\n",
       "      <td>Fall</td>\n",
       "      <td>156</td>\n",
       "      <td>1</td>\n",
       "      <td>1</td>\n",
       "      <td>...</td>\n",
       "      <td>1</td>\n",
       "      <td>5</td>\n",
       "      <td>555</td>\n",
       "      <td>&lt; 2 years, I'm fresh!</td>\n",
       "    </tr>\n",
       "    <tr>\n",
       "      <th>156</th>\n",
       "      <td>Summer</td>\n",
       "      <td>157</td>\n",
       "      <td>1</td>\n",
       "      <td>0</td>\n",
       "      <td>...</td>\n",
       "      <td>1</td>\n",
       "      <td>4</td>\n",
       "      <td>0</td>\n",
       "      <td>None, I just finished my undergrad!</td>\n",
       "    </tr>\n",
       "    <tr>\n",
       "      <th>157</th>\n",
       "      <td>Spring</td>\n",
       "      <td>158</td>\n",
       "      <td>1</td>\n",
       "      <td>0</td>\n",
       "      <td>...</td>\n",
       "      <td>1</td>\n",
       "      <td>6</td>\n",
       "      <td>222</td>\n",
       "      <td>&lt; 2 years, I'm fresh!</td>\n",
       "    </tr>\n",
       "  </tbody>\n",
       "</table>\n",
       "<p>158 rows × 18 columns</p>\n",
       "</div>"
      ],
      "text/plain": [
       "      cycle   id  cs_python  cs_java  ...  Bus  Com  len_answer  \\\n",
       "0    Summer    1          1        0  ...    3    6          74   \n",
       "1    Spring    2          1        1  ...    3    8         597   \n",
       "2      Fall    3          0        0  ...    9    9         548   \n",
       "3    Spring    4          0        0  ...    6    8         954   \n",
       "4      Fall    5          0        0  ...    6    7         612   \n",
       "..      ...  ...        ...      ...  ...  ...  ...         ...   \n",
       "153  Spring  154          1        1  ...    8   10         265   \n",
       "154  Summer  155          1        1  ...    1    2         402   \n",
       "155    Fall  156          1        1  ...    1    5         555   \n",
       "156  Summer  157          1        0  ...    1    4           0   \n",
       "157  Spring  158          1        0  ...    1    6         222   \n",
       "\n",
       "                                    experience  \n",
       "0          None, I just finished my undergrad!  \n",
       "1          None, I just finished my undergrad!  \n",
       "2                     5+ years, I'm a veteran!  \n",
       "3                     5+ years, I'm a veteran!  \n",
       "4    2-5 years, I'm getting good at what I do!  \n",
       "..                                         ...  \n",
       "153                   5+ years, I'm a veteran!  \n",
       "154        None, I just finished my undergrad!  \n",
       "155                      < 2 years, I'm fresh!  \n",
       "156        None, I just finished my undergrad!  \n",
       "157                      < 2 years, I'm fresh!  \n",
       "\n",
       "[158 rows x 18 columns]"
      ]
     },
     "execution_count": 12,
     "metadata": {},
     "output_type": "execute_result"
    }
   ],
   "source": [
    "new_headers = []\n",
    "\n",
    "for header in survey.columns:\n",
    "    if not \"profile\" in header:\n",
    "        new_headers.append(header)\n",
    "    else:\n",
    "        new_header = profile_mapping[int(header.split(\"_\")[1])]\n",
    "        new_headers.append(new_header)\n",
    "\n",
    "survey.columns = new_headers"
   ]
  },
  {
   "cell_type": "markdown",
   "metadata": {},
   "source": [
    "Note that the `experience` column contains categorical data. We can encode the experience levels with numbers to aggregate the different experience levels."
   ]
  },
  {
   "cell_type": "code",
   "execution_count": 21,
   "metadata": {},
   "outputs": [],
   "source": [
    "experience_mapper = {'None, I just finished my undergrad!': 0,\n",
    " \"5+ years, I'm a veteran!\": 1,\n",
    " \"2-5 years, I'm getting good at what I do!\": 2,\n",
    " \"< 2 years, I'm fresh!\": 3}\n",
    "\n",
    "survey[\"experience_encoded\"] = survey[\"experience\"].replace(experience_mapper)"
   ]
  },
  {
   "cell_type": "markdown",
   "metadata": {},
   "source": [
    "Note that the `id` column is redundant. We can drop it from the table."
   ]
  },
  {
   "cell_type": "code",
   "execution_count": 22,
   "metadata": {},
   "outputs": [],
   "source": [
    "survey = survey.drop(columns = \"id\")"
   ]
  },
  {
   "cell_type": "markdown",
   "metadata": {},
   "source": [
    "We can generate a histogram of the values in `len_answer` corresponding to the length of responses to a short answer question."
   ]
  },
  {
   "cell_type": "code",
   "execution_count": 33,
   "metadata": {},
   "outputs": [
    {
     "data": {
      "image/png": "[encoded data removed]",
      "text/plain": [
       "<Figure size 432x288 with 1 Axes>"
      ]
     },
     "metadata": {
      "needs_background": "light"
     },
     "output_type": "display_data"
    }
   ],
   "source": [
    "plt.hist(survey[\"len_answer\"], density = True, rwidth = 0.97, alpha = 0.5, label = \"len_answer\")\n",
    "plt.title(\"Length of Response to Short Answer\")\n",
    "plt.legend();"
   ]
  },
  {
   "cell_type": "markdown",
   "metadata": {},
   "source": [
    "We can calculate the interquartile range."
   ]
  },
  {
   "cell_type": "code",
   "execution_count": 26,
   "metadata": {},
   "outputs": [],
   "source": [
    "percentile_75 = np.percentile(survey[\"len_answer\"], 75)\n",
    "percentile_25 = np.percentile(survey[\"len_answer\"], 25)"
   ]
  },
  {
   "cell_type": "markdown",
   "metadata": {},
   "source": [
    "Now we can filter the rows of the table."
   ]
  },
  {
   "cell_type": "code",
   "execution_count": 27,
   "metadata": {},
   "outputs": [],
   "source": [
    "mask = (survey[\"len_answer\"] >= percentile_25) & (survey[\"len_answer\"] <= percentile_75)\n",
    "survey_filtered = survey[mask].copy()"
   ]
  },
  {
   "cell_type": "markdown",
   "metadata": {},
   "source": [
    "Note that we removed 80 records."
   ]
  },
  {
   "cell_type": "code",
   "execution_count": 28,
   "metadata": {},
   "outputs": [
    {
     "name": "stdout",
     "output_type": "stream",
     "text": [
      "158\n",
      "78\n"
     ]
    }
   ],
   "source": [
    "print(len(survey))\n",
    "print(len(survey_filtered))"
   ]
  },
  {
   "cell_type": "markdown",
   "metadata": {},
   "source": [
    "If we want to compare attributes across different levels of experience, then we can group by the values in `experience`."
   ]
  },
  {
   "cell_type": "code",
   "execution_count": 30,
   "metadata": {
    "collapsed": false
   },
   "outputs": [
    {
     "data": {
      "text/html": [
       "<div>\n",
       "<style scoped>\n",
       "    .dataframe tbody tr th:only-of-type {\n",
       "        vertical-align: middle;\n",
       "    }\n",
       "\n",
       "    .dataframe tbody tr th {\n",
       "        vertical-align: top;\n",
       "    }\n",
       "\n",
       "    .dataframe thead tr th {\n",
       "        text-align: left;\n",
       "    }\n",
       "\n",
       "    .dataframe thead tr:last-of-type th {\n",
       "        text-align: right;\n",
       "    }\n",
       "</style>\n",
       "<table border=\"1\" class=\"dataframe\">\n",
       "  <thead>\n",
       "    <tr>\n",
       "      <th></th>\n",
       "      <th colspan=\"3\" halign=\"left\">len_answer</th>\n",
       "    </tr>\n",
       "    <tr>\n",
       "      <th></th>\n",
       "      <th>mean</th>\n",
       "      <th>std</th>\n",
       "      <th>count</th>\n",
       "    </tr>\n",
       "    <tr>\n",
       "      <th>experience</th>\n",
       "      <th></th>\n",
       "      <th></th>\n",
       "      <th></th>\n",
       "    </tr>\n",
       "  </thead>\n",
       "  <tbody>\n",
       "    <tr>\n",
       "      <th>2-5 years, I'm getting good at what I do!</th>\n",
       "      <td>546.625000</td>\n",
       "      <td>109.173180</td>\n",
       "      <td>16</td>\n",
       "    </tr>\n",
       "    <tr>\n",
       "      <th>5+ years, I'm a veteran!</th>\n",
       "      <td>508.833333</td>\n",
       "      <td>116.940013</td>\n",
       "      <td>6</td>\n",
       "    </tr>\n",
       "    <tr>\n",
       "      <th>&lt; 2 years, I'm fresh!</th>\n",
       "      <td>523.363636</td>\n",
       "      <td>123.707237</td>\n",
       "      <td>22</td>\n",
       "    </tr>\n",
       "    <tr>\n",
       "      <th>None, I just finished my undergrad!</th>\n",
       "      <td>482.000000</td>\n",
       "      <td>101.664928</td>\n",
       "      <td>34</td>\n",
       "    </tr>\n",
       "  </tbody>\n",
       "</table>\n",
       "</div>"
      ],
      "text/plain": [
       "                                           len_answer                  \n",
       "                                                 mean         std count\n",
       "experience                                                             \n",
       "2-5 years, I'm getting good at what I do!  546.625000  109.173180    16\n",
       "5+ years, I'm a veteran!                   508.833333  116.940013     6\n",
       "< 2 years, I'm fresh!                      523.363636  123.707237    22\n",
       "None, I just finished my undergrad!        482.000000  101.664928    34"
      ]
     },
     "execution_count": 30,
     "metadata": {},
     "output_type": "execute_result"
    }
   ],
   "source": [
    "survey_filtered_grouped = survey_filtered[['len_answer', 'experience']].groupby(['experience']).agg({\"len_answer\" : ['mean', 'std', 'count']})\n",
    "survey_filtered_grouped"
   ]
  },
  {
   "cell_type": "markdown",
   "metadata": {},
   "source": [
    "### Testing Guesses \n",
    "\n",
    "Visually, we can see a potential split between the [0, 2] year experience range and the [2+] experience range. \n",
    "\n",
    "We can perform a permuation test to check the statistical significance of the difference in answer length."
   ]
  },
  {
   "cell_type": "code",
   "execution_count": 50,
   "metadata": {},
   "outputs": [
    {
     "data": {
      "text/html": [
       "<div>\n",
       "<style scoped>\n",
       "    .dataframe tbody tr th:only-of-type {\n",
       "        vertical-align: middle;\n",
       "    }\n",
       "\n",
       "    .dataframe tbody tr th {\n",
       "        vertical-align: top;\n",
       "    }\n",
       "\n",
       "    .dataframe thead tr th {\n",
       "        text-align: left;\n",
       "    }\n",
       "\n",
       "    .dataframe thead tr:last-of-type th {\n",
       "        text-align: right;\n",
       "    }\n",
       "</style>\n",
       "<table border=\"1\" class=\"dataframe\">\n",
       "  <thead>\n",
       "    <tr>\n",
       "      <th></th>\n",
       "      <th>len_answer</th>\n",
       "    </tr>\n",
       "    <tr>\n",
       "      <th></th>\n",
       "      <th>mean</th>\n",
       "    </tr>\n",
       "    <tr>\n",
       "      <th>experience_two_years</th>\n",
       "      <th></th>\n",
       "    </tr>\n",
       "  </thead>\n",
       "  <tbody>\n",
       "    <tr>\n",
       "      <th>0</th>\n",
       "      <td>486.025000</td>\n",
       "    </tr>\n",
       "    <tr>\n",
       "      <th>1</th>\n",
       "      <td>533.157895</td>\n",
       "    </tr>\n",
       "  </tbody>\n",
       "</table>\n",
       "</div>"
      ],
      "text/plain": [
       "                      len_answer\n",
       "                            mean\n",
       "experience_two_years            \n",
       "0                     486.025000\n",
       "1                     533.157895"
      ]
     },
     "execution_count": 50,
     "metadata": {},
     "output_type": "execute_result"
    }
   ],
   "source": [
    "survey_filtered[\"experience_two_years\"] = (survey_filtered[\"experience_encoded\"] > 1).astype(int)\n",
    "\n",
    "survey_filtered.groupby(['experience_two_years']).agg({\"len_answer\" : ['mean']})"
   ]
  },
  {
   "cell_type": "code",
   "execution_count": 48,
   "metadata": {},
   "outputs": [],
   "source": [
    "replications = 1000\n",
    "\n",
    "test_statistics = []\n",
    "for replication in range(replications):\n",
    "    shuffled = survey_filtered[\"experience_two_years\"].sample(frac = 1, replace = True)\n",
    "    survey_filtered[\"shuffled\"] = shuffled.values\n",
    "    means = survey_filtered.groupby(['shuffled']).agg({\"len_answer\" : ['mean']})\n",
    "    test_statistics.append(means.values[1,0] - means.values[0,0])"
   ]
  }
 ],
 "metadata": {
  "anaconda-cloud": {},
  "kernelspec": {
   "display_name": "Python 3",
   "language": "python",
   "name": "python3"
  },
  "language_info": {
   "codemirror_mode": {
    "name": "ipython",
    "version": 3
   },
   "file_extension": ".py",
   "mimetype": "text/x-python",
   "name": "python",
   "nbconvert_exporter": "python",
   "pygments_lexer": "ipython3",
   "version": "3.7.3"
  }
 },
 "nbformat": 4,
 "nbformat_minor": 2
}

{
 "cells": [
  {
   "cell_type": "markdown",
   "metadata": {
    "colab_type": "text",
    "id": "GTwDFnjHMk25"
   },
   "source": [
    "## Lab 4\n",
    "\n",
    "In this lab, we will get practice with Spark. We will focus on Spark SQL which allows us to store data in Spark DataFrames. We will learn that the operations on tables in Spark resemble the operations on table in Python and SQL.  "
   ]
  },
  {
   "cell_type": "code",
   "execution_count": 2,
   "metadata": {
    "scrolled": true
   },
   "outputs": [],
   "source": [
    "# import some packages \n",
    "\n",
    "import numpy as np\n",
    "import pandas as pd\n",
    "import matplotlib.pyplot as plt\n",
    "import os\n",
    "\n",
    "# change some settings\n",
    "\n",
    "pd.set_option('display.max_rows', 10)\n",
    "pd.set_option('display.max_columns', 8)\n",
    "plt.rcParams['figure.figsize'] = (15,7)"
   ]
  },
  {
   "cell_type": "markdown",
   "metadata": {},
   "source": [
    "#### Connect to Spark\n",
    "\n",
    "Remember that Spark has support for multiple programming languages. Here we will connect to Spark through Python with the `pyspark` package. "
   ]
  },
  {
   "cell_type": "code",
   "execution_count": 3,
   "metadata": {
    "colab": {},
    "colab_type": "code",
    "id": "xgQaRx6rSaf9"
   },
   "outputs": [],
   "source": [
    "# import packages for Spark\n",
    "\n",
    "import pyspark\n",
    "from pyspark.sql import functions as F"
   ]
  },
  {
   "cell_type": "markdown",
   "metadata": {},
   "source": [
    "While Spark has several components, we will be working with Spark SQL. We access Spark SQL through Python with the module `pyspark.sql`."
   ]
  },
  {
   "cell_type": "code",
   "execution_count": 4,
   "metadata": {
    "colab": {},
    "colab_type": "code",
    "id": "7ft3VivrSagB"
   },
   "outputs": [],
   "source": [
    "spark = pyspark.sql.SparkSession.builder.master(\"local\").getOrCreate()"
   ]
  },
  {
   "cell_type": "markdown",
   "metadata": {
    "colab_type": "text",
    "id": "-n20ixkgSagD"
   },
   "source": [
    "We need to start a Spark session. Here we can configure the scheduler node and worker nodes. Since we will not work on a cluster like NYU Dumbo cluster, we can specify `local` to indicate our local computers."
   ]
  },
  {
   "cell_type": "markdown",
   "metadata": {
    "colab_type": "text",
    "id": "skjUv84VSagJ"
   },
   "source": [
    "#### Load Data\n",
    "\n",
    "We will be working with data about the Vietnam War. The Vietnam War was a conflict in Vietnam, Laos, and Cambodia fought between North Vietnam and South Vietnam from November 1, 1955 to April 30, 1975. Following the war, governmental and non-govermental organizations have worked to provide [relief to war-torn areas](https://www.reuters.com/article/us-laos-obama-uxo/u-s-gives-laos-extra-90-million-to-help-clear-unexploded-ordnance-idUSKCN11C0GV).\n",
    "\n",
    "The datasets come from a database about the [United States Air Force](https://www.kaggle.com/usaf/vietnam-war-bombing-operations). Records of combat missions in the database have allowed researchers to locate unexploded bombs throughout Southeast Asia. Organizations have defused unexploded bombs in their relief efforts. \n",
    "\n",
    "Determing the location of unexploded bombs involves mining the data for information\n",
    "\n",
    "- Which combat missions involved bombings?\n",
    "- Which months had many combat missions?\n",
    "- What aircrafts participated in the combat missions?\n",
    "\n",
    "We will work with two datasets."
   ]
  },
  {
   "cell_type": "code",
   "execution_count": 5,
   "metadata": {},
   "outputs": [],
   "source": [
    "home = os.environ[\"HOME\"]\n",
    "path_folder = f\"{home}/shared/lab-4/\" \n",
    "\n",
    "path_Bombing_Operations = path_folder + \"Bombing_Operations.json.gz\"\n",
    "path_Aircraft_Glossary = path_folder + \"Aircraft_Glossary.json.gz\""
   ]
  },
  {
   "cell_type": "markdown",
   "metadata": {
    "colab_type": "text",
    "id": "skjUv84VSagJ"
   },
   "source": [
    "The dataset `Bombing_Operations` has 4400775 rows and 9 columns\n",
    "\n",
    "- AirCraft: _Aircraft model_\n",
    "- ContryFlyingMission: _Country_\n",
    "- MissionDate: _Date of the mission_\n",
    "- OperationSupported: _Supported War operation_ \n",
    "- PeriodOfDay: _Day or night_\n",
    "- TakeoffLocation: _Take off airport_\n",
    "- TimeOnTarget: _Time of bombing_\n",
    "- WeaponType: _Type of weapon_\n",
    "- WeaponsLoadedWeight: _Weight of weapon_\n",
    "\n",
    "The dataset `Aircraft_Glossary` has 104 rows and 3 columns\n",
    "\n",
    "- AirCraft: _Aircraft model_\n",
    "- AirCraftName: _Name of Aircraft_\n",
    "- AirCraftType: _Type of Aircraft_"
   ]
  },
  {
   "cell_type": "code",
   "execution_count": 6,
   "metadata": {
    "colab": {},
    "colab_type": "code",
    "id": "XLyVPuLXSagK"
   },
   "outputs": [],
   "source": [
    "Bombing_Operations = spark.read.json(path_Bombing_Operations)\n",
    "Aircraft_Glossary = spark.read.json(path_Aircraft_Glossary)"
   ]
  },
  {
   "cell_type": "markdown",
   "metadata": {
    "colab_type": "text",
    "id": "MP2JmCeoSagM"
   },
   "source": [
    "We have stored the datasets as files in the `shared/` folder\n",
    "\n",
    "- The file extension `gz` means that the files are compressed. Here `gz` stands for the gunzip compression format\n",
    "- The file extension `json` means the files have a semi-structured format. Remember that `json` stands for Javascript Object Notation. The format consists of key-value pairs that resemble dictionaries in Python.\n",
    "\n",
    "We can check the schema with the function `printSchema`."
   ]
  },
  {
   "cell_type": "code",
   "execution_count": 7,
   "metadata": {
    "colab": {},
    "colab_type": "code",
    "id": "KpUT8viNSagM"
   },
   "outputs": [
    {
     "name": "stdout",
     "output_type": "stream",
     "text": [
      "root\n",
      " |-- AirCraft: string (nullable = true)\n",
      " |-- ContryFlyingMission: string (nullable = true)\n",
      " |-- MissionDate: string (nullable = true)\n",
      " |-- OperationSupported: string (nullable = true)\n",
      " |-- PeriodOfDay: string (nullable = true)\n",
      " |-- TakeoffLocation: string (nullable = true)\n",
      " |-- TargetCountry: string (nullable = true)\n",
      " |-- TimeOnTarget: double (nullable = true)\n",
      " |-- WeaponType: string (nullable = true)\n",
      " |-- WeaponsLoadedWeight: long (nullable = true)\n",
      "\n"
     ]
    }
   ],
   "source": [
    "Bombing_Operations.printSchema()"
   ]
  },
  {
   "cell_type": "code",
   "execution_count": 8,
   "metadata": {
    "colab": {},
    "colab_type": "code",
    "id": "6LJsbmlxSagO"
   },
   "outputs": [
    {
     "name": "stdout",
     "output_type": "stream",
     "text": [
      "root\n",
      " |-- AirCraft: string (nullable = true)\n",
      " |-- AirCraftName: string (nullable = true)\n",
      " |-- AirCraftType: string (nullable = true)\n",
      "\n"
     ]
    }
   ],
   "source": [
    "Aircraft_Glossary.printSchema()"
   ]
  },
  {
   "cell_type": "markdown",
   "metadata": {
    "colab_type": "text",
    "id": "1jP5IBezSagQ"
   },
   "source": [
    "The schema indicate \n",
    "- name \n",
    "- data type \n",
    "- constraint about missing values\n",
    "\n",
    "for each column. We can access records with `take`."
   ]
  },
  {
   "cell_type": "code",
   "execution_count": 12,
   "metadata": {
    "colab": {},
    "colab_type": "code",
    "id": "jrJpiG5ISagQ"
   },
   "outputs": [
    {
     "data": {
      "text/plain": [
       "[Row(AirCraft='EC-47', ContryFlyingMission='UNITED STATES OF AMERICA', MissionDate='1971-06-05', OperationSupported=None, PeriodOfDay='D', TakeoffLocation='TAN SON NHUT', TargetCountry='CAMBODIA', TimeOnTarget=1005.0, WeaponType=None, WeaponsLoadedWeight=0),\n",
       " Row(AirCraft='EC-47', ContryFlyingMission='UNITED STATES OF AMERICA', MissionDate='1972-12-26', OperationSupported=None, PeriodOfDay='D', TakeoffLocation='NAKHON PHANOM', TargetCountry='SOUTH VIETNAM', TimeOnTarget=530.0, WeaponType=None, WeaponsLoadedWeight=0),\n",
       " Row(AirCraft='RF-4', ContryFlyingMission='UNITED STATES OF AMERICA', MissionDate='1973-07-28', OperationSupported=None, PeriodOfDay='D', TakeoffLocation='UDORN AB', TargetCountry='LAOS', TimeOnTarget=730.0, WeaponType=None, WeaponsLoadedWeight=0)]"
      ]
     },
     "execution_count": 12,
     "metadata": {},
     "output_type": "execute_result"
    }
   ],
   "source": [
    "Bombing_Operations.take(3)"
   ]
  },
  {
   "cell_type": "markdown",
   "metadata": {},
   "source": [
    "Note that we have a Spark DataFrame not a Spark RDD. The data appears in rows and columns. If we use the function `show` then we can view records in a tabular format."
   ]
  },
  {
   "cell_type": "code",
   "execution_count": 10,
   "metadata": {
    "colab": {},
    "colab_type": "code",
    "id": "nwYZrwanSagT"
   },
   "outputs": [
    {
     "name": "stdout",
     "output_type": "stream",
     "text": [
      "+--------+--------------------+--------------------+\n",
      "|AirCraft|        AirCraftName|        AirCraftType|\n",
      "+--------+--------------------+--------------------+\n",
      "|     A-1|Douglas A-1 Skyra...|         Fighter Jet|\n",
      "|    A-26|Douglas A-26 Invader|        Light Bomber|\n",
      "|    A-37|Cessna A-37 Drago...|Light ground-atta...|\n",
      "|     A-4|McDonnell Douglas...|         Fighter Jet|\n",
      "|     A-5|North American A-...|          Bomber Jet|\n",
      "+--------+--------------------+--------------------+\n",
      "only showing top 5 rows\n",
      "\n"
     ]
    }
   ],
   "source": [
    "Aircraft_Glossary.show(5)"
   ]
  },
  {
   "cell_type": "markdown",
   "metadata": {
    "colab_type": "text",
    "id": "hkKWEEcLSagW"
   },
   "source": [
    "#### Countries in Conflict\n",
    "\n",
    "While North Vietnam and South Vietnam fought in the Vietnam War, many countries including the United States participated in the conflict. We can determine the different countries.\n",
    "\n",
    "We can group the missions by `ContryFlyingMission` to count the number of records."
   ]
  },
  {
   "cell_type": "code",
   "execution_count": 11,
   "metadata": {
    "colab": {},
    "colab_type": "code",
    "id": "BWcMVcgwSagX"
   },
   "outputs": [
    {
     "name": "stdout",
     "output_type": "stream",
     "text": [
      "+--------------------+------------------+\n",
      "| ContryFlyingMission|count(MissionDate)|\n",
      "+--------------------+------------------+\n",
      "|     VIETNAM (SOUTH)|            622013|\n",
      "|       KOREA (SOUTH)|             24469|\n",
      "|UNITED STATES OF ...|           3708997|\n",
      "|           AUSTRALIA|             12519|\n",
      "|                LAOS|             32777|\n",
      "+--------------------+------------------+\n",
      "\n"
     ]
    }
   ],
   "source": [
    "missions_counts = Bombing_Operations.groupBy(\"ContryFlyingMission\").agg({\"MissionDate\" : \"count\"})\n",
    "\n",
    "missions_counts.show()"
   ]
  },
  {
   "cell_type": "markdown",
   "metadata": {},
   "source": [
    "Here we use the `agg` function to aggregate entries in the `MissionDate` column. \n",
    "\n",
    "We can rename columns using `withColumnRenamed`. We can sort the entries in columns with `orderBy`.\n"
   ]
  },
  {
   "cell_type": "code",
   "execution_count": 15,
   "metadata": {
    "colab": {},
    "colab_type": "code",
    "id": "BWcMVcgwSagX"
   },
   "outputs": [
    {
     "name": "stdout",
     "output_type": "stream",
     "text": [
      "+--------------------+------------+\n",
      "| ContryFlyingMission|MissionCount|\n",
      "+--------------------+------------+\n",
      "|UNITED STATES OF ...|     3708997|\n",
      "|     VIETNAM (SOUTH)|      622013|\n",
      "|                LAOS|       32777|\n",
      "|       KOREA (SOUTH)|       24469|\n",
      "|           AUSTRALIA|       12519|\n",
      "+--------------------+------------+\n",
      "\n"
     ]
    }
   ],
   "source": [
    "missions_counts = ( Bombing_Operations.groupBy(\"ContryFlyingMission\")\n",
    "                                    .agg({\"MissionDate\" : \"count\"})\n",
    "                                    .withColumnRenamed(\"count(MissionDate)\", \"MissionCount\")\n",
    "                                    .orderBy(\"MissionCount\", ascending = False)  )\n",
    "missions_counts.show()"
   ]
  },
  {
   "cell_type": "markdown",
   "metadata": {},
   "source": [
    "Note that parentheses allow us to spread the commands across several lines.\n",
    "\n",
    "\n",
    "The `agg` function is versatile. We can use different functions in `pyspark.sql.functions` to aggregate the data."
   ]
  },
  {
   "cell_type": "code",
   "execution_count": 16,
   "metadata": {
    "colab": {},
    "colab_type": "code",
    "id": "BWcMVcgwSagX"
   },
   "outputs": [
    {
     "name": "stdout",
     "output_type": "stream",
     "text": [
      "+--------------------+------------+\n",
      "| ContryFlyingMission|MissionCount|\n",
      "+--------------------+------------+\n",
      "|UNITED STATES OF ...|     3708997|\n",
      "|     VIETNAM (SOUTH)|      622013|\n",
      "|                LAOS|       32777|\n",
      "|       KOREA (SOUTH)|       24469|\n",
      "|           AUSTRALIA|       12519|\n",
      "+--------------------+------------+\n",
      "\n"
     ]
    }
   ],
   "source": [
    "missions_counts = ( Bombing_Operations.groupBy(\"ContryFlyingMission\")\n",
    "                                    .agg(F.count(\"*\").alias(\"MissionCount\"))\n",
    "                                    .orderBy(\"MissionCount\", ascending = False)  )\n",
    "missions_counts.show()"
   ]
  },
  {
   "cell_type": "markdown",
   "metadata": {
    "colab_type": "text",
    "id": "t5trEAkzSagY"
   },
   "source": [
    "If we want to use operations like SQL, then we need to register a table in the Spark session."
   ]
  },
  {
   "cell_type": "code",
   "execution_count": 12,
   "metadata": {
    "colab": {},
    "colab_type": "code",
    "id": "3slo-sXOSagZ"
   },
   "outputs": [],
   "source": [
    "Bombing_Operations.createOrReplaceTempView(\"Bombing_Operations\")"
   ]
  },
  {
   "cell_type": "markdown",
   "metadata": {},
   "source": [
    "Here we have added `Bombing_Operations` to the Spark session. Now we can execute a query indicating `Bombing_Operations`."
   ]
  },
  {
   "cell_type": "code",
   "execution_count": 13,
   "metadata": {
    "colab": {},
    "colab_type": "code",
    "id": "3slo-sXOSagZ"
   },
   "outputs": [
    {
     "name": "stdout",
     "output_type": "stream",
     "text": [
      "+--------------------+-------------+\n",
      "| ContryFlyingMission|MissionsCount|\n",
      "+--------------------+-------------+\n",
      "|UNITED STATES OF ...|      3708997|\n",
      "|     VIETNAM (SOUTH)|       622013|\n",
      "|                LAOS|        32777|\n",
      "|       KOREA (SOUTH)|        24469|\n",
      "|           AUSTRALIA|        12519|\n",
      "+--------------------+-------------+\n",
      "\n"
     ]
    }
   ],
   "source": [
    "query = \"\"\"\n",
    "SELECT ContryFlyingMission, COUNT(*) as MissionsCount\n",
    "FROM Bombing_Operations\n",
    "GROUP BY ContryFlyingMission\n",
    "ORDER BY MissionsCount DESC\n",
    "\"\"\"\n",
    "\n",
    "missions_counts = spark.sql(query)\n",
    "missions_counts.show()"
   ]
  },
  {
   "cell_type": "markdown",
   "metadata": {
    "colab_type": "text",
    "id": "5wQNXQnOSaga"
   },
   "source": [
    "Since the Spark Dataframe is small, we can generate a pandas DataFrame."
   ]
  },
  {
   "cell_type": "code",
   "execution_count": 14,
   "metadata": {
    "colab": {},
    "colab_type": "code",
    "id": "4nVJdPLDSagb"
   },
   "outputs": [
    {
     "data": {
      "text/html": [
       "<div>\n",
       "<style scoped>\n",
       "    .dataframe tbody tr th:only-of-type {\n",
       "        vertical-align: middle;\n",
       "    }\n",
       "\n",
       "    .dataframe tbody tr th {\n",
       "        vertical-align: top;\n",
       "    }\n",
       "\n",
       "    .dataframe thead th {\n",
       "        text-align: right;\n",
       "    }\n",
       "</style>\n",
       "<table border=\"1\" class=\"dataframe\">\n",
       "  <thead>\n",
       "    <tr style=\"text-align: right;\">\n",
       "      <th></th>\n",
       "      <th>ContryFlyingMission</th>\n",
       "      <th>MissionsCount</th>\n",
       "    </tr>\n",
       "  </thead>\n",
       "  <tbody>\n",
       "    <tr>\n",
       "      <th>0</th>\n",
       "      <td>UNITED STATES OF AMERICA</td>\n",
       "      <td>3708997</td>\n",
       "    </tr>\n",
       "    <tr>\n",
       "      <th>1</th>\n",
       "      <td>VIETNAM (SOUTH)</td>\n",
       "      <td>622013</td>\n",
       "    </tr>\n",
       "    <tr>\n",
       "      <th>2</th>\n",
       "      <td>LAOS</td>\n",
       "      <td>32777</td>\n",
       "    </tr>\n",
       "    <tr>\n",
       "      <th>3</th>\n",
       "      <td>KOREA (SOUTH)</td>\n",
       "      <td>24469</td>\n",
       "    </tr>\n",
       "    <tr>\n",
       "      <th>4</th>\n",
       "      <td>AUSTRALIA</td>\n",
       "      <td>12519</td>\n",
       "    </tr>\n",
       "  </tbody>\n",
       "</table>\n",
       "</div>"
      ],
      "text/plain": [
       "        ContryFlyingMission  MissionsCount\n",
       "0  UNITED STATES OF AMERICA        3708997\n",
       "1           VIETNAM (SOUTH)         622013\n",
       "2                      LAOS          32777\n",
       "3             KOREA (SOUTH)          24469\n",
       "4                 AUSTRALIA          12519"
      ]
     },
     "execution_count": 14,
     "metadata": {},
     "output_type": "execute_result"
    }
   ],
   "source": [
    "missions_count_pandas = missions_counts.toPandas()\n",
    "\n",
    "missions_count_pandas.head()"
   ]
  },
  {
   "cell_type": "markdown",
   "metadata": {
    "colab_type": "text",
    "id": "VQedtuQZSagc"
   },
   "source": [
    "Now that we have a pandas DataFrame, we can generate a barchart with the number of missions by country."
   ]
  },
  {
   "cell_type": "code",
   "execution_count": 22,
   "metadata": {},
   "outputs": [
    {
     "data": {
      "image/png": "[encoded data removed]",
      "text/plain": [
       "<Figure size 1080x504 with 1 Axes>"
      ]
     },
     "metadata": {
      "needs_background": "light"
     },
     "output_type": "display_data"
    }
   ],
   "source": [
    "plt.bar(missions_count_pandas[\"ContryFlyingMission\"], missions_count_pandas[\"MissionsCount\"], log = True)\n",
    "\n",
    "plt.xticks(rotation = 45)\n",
    "plt.xlabel(\"Country\")\n",
    "plt.ylabel(\"Number of Missions (Log scale)\")\n",
    "\n",
    "plt.title(\"Number of missions by Country\");"
   ]
  },
  {
   "cell_type": "markdown",
   "metadata": {},
   "source": [
    "Note that we use a logarithmic scale where the intervals differ by factors of 10."
   ]
  },
  {
   "cell_type": "markdown",
   "metadata": {
    "colab_type": "text",
    "id": "LLan66cXSagf"
   },
   "source": [
    "#### Number of Combat Missions\n",
    "\n",
    "Throughout the engagement, the US, Vietnam, Laos, Korea and Australia participated in many combat missions. We can count the number of combat missions over time by accessing `ContryFlyingMission` and `MissionDate` columns of the Spark DataFrame. "
   ]
  },
  {
   "cell_type": "code",
   "execution_count": 15,
   "metadata": {},
   "outputs": [],
   "source": [
    "mission_countries = Bombing_Operations.select([\"MissionDate\", \"ContryFlyingMission\"])"
   ]
  },
  {
   "cell_type": "markdown",
   "metadata": {},
   "source": [
    "We learn from the schema that the entries in the `MissionDate` column are strings."
   ]
  },
  {
   "cell_type": "code",
   "execution_count": 25,
   "metadata": {},
   "outputs": [
    {
     "name": "stdout",
     "output_type": "stream",
     "text": [
      "root\n",
      " |-- MissionDate: date (nullable = true)\n",
      " |-- ContryFlyingMission: string (nullable = true)\n",
      "\n"
     ]
    }
   ],
   "source": [
    "mission_countries.printSchema()"
   ]
  },
  {
   "cell_type": "markdown",
   "metadata": {},
   "source": [
    "We can convert to a date data type with the function `to_date`."
   ]
  },
  {
   "cell_type": "code",
   "execution_count": 16,
   "metadata": {},
   "outputs": [],
   "source": [
    "mission_countries = Bombing_Operations.select(F.to_date(Bombing_Operations.MissionDate).alias(\"MissionDate\"), Bombing_Operations.ContryFlyingMission)"
   ]
  },
  {
   "cell_type": "markdown",
   "metadata": {},
   "source": [
    "Now we find that the column has the appropriate data type."
   ]
  },
  {
   "cell_type": "code",
   "execution_count": 17,
   "metadata": {},
   "outputs": [
    {
     "name": "stdout",
     "output_type": "stream",
     "text": [
      "root\n",
      " |-- MissionDate: date (nullable = true)\n",
      " |-- ContryFlyingMission: string (nullable = true)\n",
      "\n"
     ]
    }
   ],
   "source": [
    "mission_countries.printSchema()"
   ]
  },
  {
   "cell_type": "markdown",
   "metadata": {
    "colab_type": "text",
    "id": "da9IeKntSagh"
   },
   "source": [
    "We can group by `MissionDate` and `ContryFlyingMission` to get the count over time."
   ]
  },
  {
   "cell_type": "code",
   "execution_count": 18,
   "metadata": {
    "colab": {},
    "colab_type": "code",
    "id": "TLza0bF9Sagh"
   },
   "outputs": [
    {
     "data": {
      "text/html": [
       "<div>\n",
       "<style scoped>\n",
       "    .dataframe tbody tr th:only-of-type {\n",
       "        vertical-align: middle;\n",
       "    }\n",
       "\n",
       "    .dataframe tbody tr th {\n",
       "        vertical-align: top;\n",
       "    }\n",
       "\n",
       "    .dataframe thead th {\n",
       "        text-align: right;\n",
       "    }\n",
       "</style>\n",
       "<table border=\"1\" class=\"dataframe\">\n",
       "  <thead>\n",
       "    <tr style=\"text-align: right;\">\n",
       "      <th></th>\n",
       "      <th>MissionDate</th>\n",
       "      <th>ContryFlyingMission</th>\n",
       "      <th>MissionsCount</th>\n",
       "    </tr>\n",
       "  </thead>\n",
       "  <tbody>\n",
       "    <tr>\n",
       "      <th>0</th>\n",
       "      <td>1975-06-30</td>\n",
       "      <td>UNITED STATES OF AMERICA</td>\n",
       "      <td>17</td>\n",
       "    </tr>\n",
       "    <tr>\n",
       "      <th>1</th>\n",
       "      <td>1975-06-29</td>\n",
       "      <td>UNITED STATES OF AMERICA</td>\n",
       "      <td>15</td>\n",
       "    </tr>\n",
       "    <tr>\n",
       "      <th>2</th>\n",
       "      <td>1975-06-28</td>\n",
       "      <td>UNITED STATES OF AMERICA</td>\n",
       "      <td>22</td>\n",
       "    </tr>\n",
       "    <tr>\n",
       "      <th>3</th>\n",
       "      <td>1975-06-27</td>\n",
       "      <td>UNITED STATES OF AMERICA</td>\n",
       "      <td>30</td>\n",
       "    </tr>\n",
       "    <tr>\n",
       "      <th>4</th>\n",
       "      <td>1975-06-26</td>\n",
       "      <td>UNITED STATES OF AMERICA</td>\n",
       "      <td>25</td>\n",
       "    </tr>\n",
       "    <tr>\n",
       "      <th>...</th>\n",
       "      <td>...</td>\n",
       "      <td>...</td>\n",
       "      <td>...</td>\n",
       "    </tr>\n",
       "    <tr>\n",
       "      <th>9698</th>\n",
       "      <td>1965-10-05</td>\n",
       "      <td>VIETNAM (SOUTH)</td>\n",
       "      <td>72</td>\n",
       "    </tr>\n",
       "    <tr>\n",
       "      <th>9699</th>\n",
       "      <td>1965-10-04</td>\n",
       "      <td>UNITED STATES OF AMERICA</td>\n",
       "      <td>532</td>\n",
       "    </tr>\n",
       "    <tr>\n",
       "      <th>9700</th>\n",
       "      <td>1965-10-03</td>\n",
       "      <td>UNITED STATES OF AMERICA</td>\n",
       "      <td>608</td>\n",
       "    </tr>\n",
       "    <tr>\n",
       "      <th>9701</th>\n",
       "      <td>1965-10-02</td>\n",
       "      <td>UNITED STATES OF AMERICA</td>\n",
       "      <td>652</td>\n",
       "    </tr>\n",
       "    <tr>\n",
       "      <th>9702</th>\n",
       "      <td>1965-10-01</td>\n",
       "      <td>UNITED STATES OF AMERICA</td>\n",
       "      <td>447</td>\n",
       "    </tr>\n",
       "  </tbody>\n",
       "</table>\n",
       "<p>9703 rows × 3 columns</p>\n",
       "</div>"
      ],
      "text/plain": [
       "     MissionDate       ContryFlyingMission  MissionsCount\n",
       "0     1975-06-30  UNITED STATES OF AMERICA             17\n",
       "1     1975-06-29  UNITED STATES OF AMERICA             15\n",
       "2     1975-06-28  UNITED STATES OF AMERICA             22\n",
       "3     1975-06-27  UNITED STATES OF AMERICA             30\n",
       "4     1975-06-26  UNITED STATES OF AMERICA             25\n",
       "...          ...                       ...            ...\n",
       "9698  1965-10-05           VIETNAM (SOUTH)             72\n",
       "9699  1965-10-04  UNITED STATES OF AMERICA            532\n",
       "9700  1965-10-03  UNITED STATES OF AMERICA            608\n",
       "9701  1965-10-02  UNITED STATES OF AMERICA            652\n",
       "9702  1965-10-01  UNITED STATES OF AMERICA            447\n",
       "\n",
       "[9703 rows x 3 columns]"
      ]
     },
     "execution_count": 18,
     "metadata": {},
     "output_type": "execute_result"
    }
   ],
   "source": [
    "missions_by_date = ( mission_countries\n",
    "                    .groupBy([\"MissionDate\", \"ContryFlyingMission\"])\n",
    "                    .agg(F.count(\"*\").alias(\"MissionsCount\"))\n",
    "                    .orderBy(\"MissionDate\", ascending = False)\n",
    "                    .toPandas() )\n",
    "\n",
    "missions_by_date"
   ]
  },
  {
   "cell_type": "markdown",
   "metadata": {
    "colab_type": "text",
    "id": "IAhOE55wSagj"
   },
   "source": [
    "Plotting the number of combat missions, we find differences between the five countries."
   ]
  },
  {
   "cell_type": "code",
   "execution_count": 19,
   "metadata": {
    "colab": {},
    "colab_type": "code",
    "id": "wLq6ulAySagl"
   },
   "outputs": [
    {
     "data": {
      "image/png": "[encoded data removed]",
      "text/plain": [
       "<Figure size 1080x504 with 1 Axes>"
      ]
     },
     "metadata": {
      "needs_background": "light"
     },
     "output_type": "display_data"
    }
   ],
   "source": [
    "for country, missions in missions_by_date.groupby(\"ContryFlyingMission\"): \n",
    "    plt.plot(missions[\"MissionDate\"], missions[\"MissionsCount\"], label=country)\n",
    "\n",
    "plt.yscale(\"log\")    \n",
    "plt.legend();"
   ]
  },
  {
   "cell_type": "markdown",
   "metadata": {
    "colab_type": "text",
    "id": "GEMzTwxGSagp"
   },
   "source": [
    "We can observe how South Vietnam increased its missions starting from 1970. The drop in 1973 is motivated by the [Paris Peace Accords](https://en.wikipedia.org/wiki/Paris_Peace_Accords) that took place on January 27th, 1973."
   ]
  },
  {
   "cell_type": "markdown",
   "metadata": {
    "colab_type": "text",
    "id": "uEwBspLySagp"
   },
   "source": [
    "#### Location of Conflict\n",
    "\n",
    "The United States Air Force attacked the Hanoi POL facility in North Vietnam on June 29, 1966. We can check the various departure of the aircraft on June 29, 1966."
   ]
  },
  {
   "cell_type": "code",
   "execution_count": 20,
   "metadata": {
    "colab": {},
    "colab_type": "code",
    "id": "uq6jqsgBSagq"
   },
   "outputs": [],
   "source": [
    "jun_29_operations = Bombing_Operations.where(\"MissionDate = '1966-06-29' AND TargetCountry='NORTH VIETNAM'\")"
   ]
  },
  {
   "cell_type": "markdown",
   "metadata": {},
   "source": [
    "Note that the function `where` allows us to filter the entries of a Spark DataFrame."
   ]
  },
  {
   "cell_type": "code",
   "execution_count": 22,
   "metadata": {
    "colab": {},
    "colab_type": "code",
    "id": "uoiVSE7NSags"
   },
   "outputs": [
    {
     "data": {
      "text/html": [
       "<div>\n",
       "<style scoped>\n",
       "    .dataframe tbody tr th:only-of-type {\n",
       "        vertical-align: middle;\n",
       "    }\n",
       "\n",
       "    .dataframe tbody tr th {\n",
       "        vertical-align: top;\n",
       "    }\n",
       "\n",
       "    .dataframe thead th {\n",
       "        text-align: right;\n",
       "    }\n",
       "</style>\n",
       "<table border=\"1\" class=\"dataframe\">\n",
       "  <thead>\n",
       "    <tr style=\"text-align: right;\">\n",
       "      <th></th>\n",
       "      <th>ContryFlyingMission</th>\n",
       "      <th>MissionsCount</th>\n",
       "    </tr>\n",
       "  </thead>\n",
       "  <tbody>\n",
       "    <tr>\n",
       "      <th>0</th>\n",
       "      <td>VIETNAM (SOUTH)</td>\n",
       "      <td>6</td>\n",
       "    </tr>\n",
       "    <tr>\n",
       "      <th>1</th>\n",
       "      <td>UNITED STATES OF AMERICA</td>\n",
       "      <td>389</td>\n",
       "    </tr>\n",
       "  </tbody>\n",
       "</table>\n",
       "</div>"
      ],
      "text/plain": [
       "        ContryFlyingMission  MissionsCount\n",
       "0           VIETNAM (SOUTH)              6\n",
       "1  UNITED STATES OF AMERICA            389"
      ]
     },
     "execution_count": 22,
     "metadata": {},
     "output_type": "execute_result"
    }
   ],
   "source": [
    "takeoff_mission_counts = (jun_29_operations.groupBy(\"ContryFlyingMission\")\n",
    "                                           .agg(F.count(\"*\").alias(\"MissionsCount\"))\n",
    "                                           .toPandas())\n",
    "\n",
    "takeoff_mission_counts"
   ]
  },
  {
   "cell_type": "markdown",
   "metadata": {
    "colab_type": "text",
    "id": "-0Q2bS4KSagt"
   },
   "source": [
    "Now that we have the relevant records, we can count the number of departures. Most of the operation that day were performed by US aircrafts.\n",
    "\n",
    "Before we calculate the locations of departure, we can cache the `jun_29_operations` Spark DataFrame in memory."
   ]
  },
  {
   "cell_type": "code",
   "execution_count": 23,
   "metadata": {
    "colab": {},
    "colab_type": "code",
    "id": "q45a-OYwSagw"
   },
   "outputs": [
    {
     "data": {
      "text/plain": [
       "DataFrame[AirCraft: string, ContryFlyingMission: string, MissionDate: string, OperationSupported: string, PeriodOfDay: string, TakeoffLocation: string, TargetCountry: string, TimeOnTarget: double, WeaponType: string, WeaponsLoadedWeight: bigint]"
      ]
     },
     "execution_count": 23,
     "metadata": {},
     "output_type": "execute_result"
    }
   ],
   "source": [
    "jun_29_operations.cache()"
   ]
  },
  {
   "cell_type": "markdown",
   "metadata": {
    "colab_type": "text",
    "id": "feWOqgKISagx"
   },
   "source": [
    "By caching the content in memory, we can quickly retrieve it for operations."
   ]
  },
  {
   "cell_type": "code",
   "execution_count": 24,
   "metadata": {
    "colab": {},
    "colab_type": "code",
    "id": "vIpLEQrlSagx"
   },
   "outputs": [
    {
     "name": "stdout",
     "output_type": "stream",
     "text": [
      "19.3 s ± 0 ns per loop (mean ± std. dev. of 1 run, 1 loop each)\n"
     ]
    }
   ],
   "source": [
    "%%timeit -n 1 -r 1 \n",
    "\n",
    "jun_29_operations.count()"
   ]
  },
  {
   "cell_type": "markdown",
   "metadata": {
    "colab_type": "text",
    "id": "uCTEq5LZSagz"
   },
   "source": [
    "Remember that Spark employs lazy evaluation. So Spark does not add `jun_29_operations` to the cache until we apply use an action. "
   ]
  },
  {
   "cell_type": "code",
   "execution_count": 25,
   "metadata": {
    "colab": {},
    "colab_type": "code",
    "id": "6oZtHYspSagz"
   },
   "outputs": [
    {
     "name": "stdout",
     "output_type": "stream",
     "text": [
      "87.9 ms ± 0 ns per loop (mean ± std. dev. of 1 run, 1 loop each)\n"
     ]
    }
   ],
   "source": [
    "%%timeit -n 1 -r 1 \n",
    " \n",
    "jun_29_operations.count()"
   ]
  },
  {
   "cell_type": "markdown",
   "metadata": {
    "colab_type": "text",
    "id": "_4Hzke2kSag1"
   },
   "source": [
    "After the content resides in memory, we find an improvement in performance. \n",
    "\n",
    "If we want to store the data on disk instead of memory, then we can save it to a file."
   ]
  },
  {
   "cell_type": "code",
   "execution_count": 26,
   "metadata": {
    "colab": {},
    "colab_type": "code",
    "id": "4_2p0Ha9Sag1"
   },
   "outputs": [],
   "source": [
    "jun_29_operations.write.mode('overwrite').json(\"jun_29_operations.json\")"
   ]
  },
  {
   "cell_type": "markdown",
   "metadata": {
    "colab_type": "text",
    "id": "OJwG61TNSag3"
   },
   "source": [
    "Since we stored the data in the json format, we need to load it with `spark.read.json`."
   ]
  },
  {
   "cell_type": "code",
   "execution_count": 27,
   "metadata": {
    "colab": {},
    "colab_type": "code",
    "id": "JTe1l78_Sag4"
   },
   "outputs": [],
   "source": [
    "jun_29_operations = spark.read.json(\"jun_29_operations.json\")"
   ]
  },
  {
   "cell_type": "markdown",
   "metadata": {
    "colab_type": "text",
    "id": "DEW08u3_Sag6"
   },
   "source": [
    "Now we can determine the various departure locations of the aircrafts."
   ]
  },
  {
   "cell_type": "code",
   "execution_count": 28,
   "metadata": {
    "colab": {},
    "colab_type": "code",
    "id": "UYO-CuHISag8"
   },
   "outputs": [
    {
     "name": "stdout",
     "output_type": "stream",
     "text": [
      "+----------------+-------------+\n",
      "| TakeoffLocation|MissionsCount|\n",
      "+----------------+-------------+\n",
      "|   CONSTELLATION|           87|\n",
      "|          TAKHLI|           56|\n",
      "|           KORAT|           55|\n",
      "|        UDORN AB|           44|\n",
      "|         UBON AB|           44|\n",
      "|          DANANG|           35|\n",
      "|          RANGER|           35|\n",
      "|    TAN SON NHUT|           26|\n",
      "|HANCOCK (CVA-19)|           10|\n",
      "|    CAM RANH BAY|            2|\n",
      "|         CUBI PT|            1|\n",
      "+----------------+-------------+\n",
      "\n"
     ]
    }
   ],
   "source": [
    "takeoff_location_counts = ( jun_29_operations\n",
    "                            .groupBy(\"TakeoffLocation\")\n",
    "                            .agg(F.count(\"*\").alias(\"MissionsCount\"))\n",
    "                            .orderBy(\"MissionsCount\", ascending = False) )\n",
    "\n",
    "takeoff_location_counts.show()"
   ]
  },
  {
   "cell_type": "markdown",
   "metadata": {
    "colab_type": "text",
    "id": "2PHZStWQSag9"
   },
   "source": [
    "#### Spark Core\n",
    "\n",
    "Just like a pandas DataFrame has an underlying numpy array, a Spark DataFrame has an underlying Spark RDD. "
   ]
  },
  {
   "cell_type": "code",
   "execution_count": 29,
   "metadata": {},
   "outputs": [],
   "source": [
    "jun_29_operations_rdd = jun_29_operations.rdd"
   ]
  },
  {
   "cell_type": "markdown",
   "metadata": {},
   "source": [
    "Now we can perform the calculation with map-reduce on the Spark RDD."
   ]
  },
  {
   "cell_type": "code",
   "execution_count": 30,
   "metadata": {
    "colab": {},
    "colab_type": "code",
    "id": "OgEeKdtYSag9"
   },
   "outputs": [
    {
     "data": {
      "text/plain": [
       "[('TAKHLI', 1), ('DANANG', 1), ('CONSTELLATION', 1)]"
      ]
     },
     "execution_count": 30,
     "metadata": {},
     "output_type": "execute_result"
    }
   ],
   "source": [
    "jun_29_operations_rdd_mapped = jun_29_operations_rdd.map(lambda row : (row.TakeoffLocation, 1))\n",
    "\n",
    "jun_29_operations_rdd_mapped.take(3)"
   ]
  },
  {
   "cell_type": "markdown",
   "metadata": {
    "colab_type": "text",
    "id": "Akm81xVxSag_"
   },
   "source": [
    "Having performed the map step, we can sum the values in the reduce step. Note that Spark will perform the shuffling for us."
   ]
  },
  {
   "cell_type": "code",
   "execution_count": 32,
   "metadata": {
    "colab": {},
    "colab_type": "code",
    "id": "_hVvIF_WSag_"
   },
   "outputs": [
    {
     "data": {
      "text/plain": [
       "[('TAKHLI', 56),\n",
       " ('DANANG', 35),\n",
       " ('CONSTELLATION', 87),\n",
       " ('UBON AB', 44),\n",
       " ('UDORN AB', 44),\n",
       " ('KORAT', 55),\n",
       " ('RANGER', 35),\n",
       " ('HANCOCK (CVA-19)', 10),\n",
       " ('TAN SON NHUT', 26),\n",
       " ('CUBI PT', 1),\n",
       " ('CAM RANH BAY', 2)]"
      ]
     },
     "execution_count": 32,
     "metadata": {},
     "output_type": "execute_result"
    }
   ],
   "source": [
    "jun_29_operations_rdd_reduced = jun_29_operations_rdd_mapped.reduceByKey(lambda a, b: a+b)\n",
    "\n",
    "jun_29_operations_rdd_reduced.collect()"
   ]
  },
  {
   "cell_type": "markdown",
   "metadata": {},
   "source": [
    "We can sort by the values. By default, sorting is ascending order."
   ]
  },
  {
   "cell_type": "code",
   "execution_count": 33,
   "metadata": {
    "colab": {},
    "colab_type": "code",
    "id": "_hVvIF_WSag_"
   },
   "outputs": [
    {
     "data": {
      "text/plain": [
       "[('CONSTELLATION', 87),\n",
       " ('TAKHLI', 56),\n",
       " ('KORAT', 55),\n",
       " ('UBON AB', 44),\n",
       " ('UDORN AB', 44),\n",
       " ('DANANG', 35),\n",
       " ('RANGER', 35),\n",
       " ('TAN SON NHUT', 26),\n",
       " ('HANCOCK (CVA-19)', 10),\n",
       " ('CAM RANH BAY', 2),\n",
       " ('CUBI PT', 1)]"
      ]
     },
     "execution_count": 33,
     "metadata": {},
     "output_type": "execute_result"
    }
   ],
   "source": [
    "jun_29_operations_rdd_reduced = (jun_29_operations_rdd_mapped.reduceByKey(lambda a, b: a+b)\n",
    "                                                             .sortBy(lambda entry: -entry[1]))\n",
    "\n",
    "jun_29_operations_rdd_reduced.collect()"
   ]
  },
  {
   "cell_type": "markdown",
   "metadata": {
    "colab_type": "text",
    "id": "od5h9c6qSahB"
   },
   "source": [
    "Just like we can convert a Spark DataFrame to a Spark RDD, we can convert a Spark RDD to a Spark dataframe by mapping the pairs to objects of type `Row`."
   ]
  },
  {
   "cell_type": "code",
   "execution_count": 35,
   "metadata": {
    "colab": {},
    "colab_type": "code",
    "id": "KNDn84R_SahB"
   },
   "outputs": [
    {
     "data": {
      "text/plain": [
       "[Row(MissionsCount=87, TakeoffLocation='CONSTELLATION'),\n",
       " Row(MissionsCount=56, TakeoffLocation='TAKHLI'),\n",
       " Row(MissionsCount=55, TakeoffLocation='KORAT'),\n",
       " Row(MissionsCount=44, TakeoffLocation='UBON AB'),\n",
       " Row(MissionsCount=44, TakeoffLocation='UDORN AB'),\n",
       " Row(MissionsCount=35, TakeoffLocation='DANANG'),\n",
       " Row(MissionsCount=35, TakeoffLocation='RANGER'),\n",
       " Row(MissionsCount=26, TakeoffLocation='TAN SON NHUT'),\n",
       " Row(MissionsCount=10, TakeoffLocation='HANCOCK (CVA-19)'),\n",
       " Row(MissionsCount=2, TakeoffLocation='CAM RANH BAY'),\n",
       " Row(MissionsCount=1, TakeoffLocation='CUBI PT')]"
      ]
     },
     "execution_count": 35,
     "metadata": {},
     "output_type": "execute_result"
    }
   ],
   "source": [
    "jun_29_operations_rdd_reduced_df = jun_29_operations_rdd_reduced.map(lambda r: pyspark.sql.Row(TakeoffLocation=r[0], MissionsCount=r[1]))\n",
    "\n",
    "jun_29_operations_rdd_reduced_df.collect()"
   ]
  },
  {
   "cell_type": "markdown",
   "metadata": {},
   "source": [
    "Since the Spark RDD consists of `Row` data type, we can convert it to a Spark DataFrame."
   ]
  },
  {
   "cell_type": "code",
   "execution_count": 36,
   "metadata": {
    "colab": {},
    "colab_type": "code",
    "id": "KNDn84R_SahB"
   },
   "outputs": [
    {
     "name": "stdout",
     "output_type": "stream",
     "text": [
      "+-------------+----------------+\n",
      "|MissionsCount| TakeoffLocation|\n",
      "+-------------+----------------+\n",
      "|           87|   CONSTELLATION|\n",
      "|           56|          TAKHLI|\n",
      "|           55|           KORAT|\n",
      "|           44|         UBON AB|\n",
      "|           44|        UDORN AB|\n",
      "|           35|          DANANG|\n",
      "|           35|          RANGER|\n",
      "|           26|    TAN SON NHUT|\n",
      "|           10|HANCOCK (CVA-19)|\n",
      "|            2|    CAM RANH BAY|\n",
      "|            1|         CUBI PT|\n",
      "+-------------+----------------+\n",
      "\n"
     ]
    }
   ],
   "source": [
    "jun_29_operations_rdd_reduced_df = spark.createDataFrame(jun_29_operations_rdd_reduced_df)\n",
    "\n",
    "jun_29_operations_rdd_reduced_df.show()"
   ]
  },
  {
   "cell_type": "markdown",
   "metadata": {
    "colab_type": "text",
    "id": "aaiVcdF8SahD"
   },
   "source": [
    "#### Determining Aircrafts\n",
    "\n",
    "We have just used the data in `Bombing_Operations`. We can link with the records in `Aircraft_Glossary` to determine the types of aircraft involved in combat missions."
   ]
  },
  {
   "cell_type": "code",
   "execution_count": 56,
   "metadata": {
    "colab": {},
    "colab_type": "code",
    "id": "yovhBV5sSahI"
   },
   "outputs": [
    {
     "name": "stdout",
     "output_type": "stream",
     "text": [
      "+--------+--------------------+--------------------+\n",
      "|AirCraft|        AirCraftName|        AirCraftType|\n",
      "+--------+--------------------+--------------------+\n",
      "|     A-1|Douglas A-1 Skyra...|         Fighter Jet|\n",
      "|    A-26|Douglas A-26 Invader|        Light Bomber|\n",
      "|    A-37|Cessna A-37 Drago...|Light ground-atta...|\n",
      "|     A-4|McDonnell Douglas...|         Fighter Jet|\n",
      "|     A-5|North American A-...|          Bomber Jet|\n",
      "+--------+--------------------+--------------------+\n",
      "only showing top 5 rows\n",
      "\n"
     ]
    }
   ],
   "source": [
    "Aircraft_Glossary.show(5)"
   ]
  },
  {
   "cell_type": "markdown",
   "metadata": {
    "colab_type": "text",
    "id": "yO0ExxRoSahJ"
   },
   "source": [
    "Note that we can join on the entries in `AirCraftType`."
   ]
  },
  {
   "cell_type": "code",
   "execution_count": 37,
   "metadata": {
    "colab": {},
    "colab_type": "code",
    "id": "Z4DnpCTmSahJ"
   },
   "outputs": [
    {
     "name": "stdout",
     "output_type": "stream",
     "text": [
      "+--------+\n",
      "|AirCraft|\n",
      "+--------+\n",
      "|   EC-47|\n",
      "|   EC-47|\n",
      "|    RF-4|\n",
      "|     A-1|\n",
      "|    A-37|\n",
      "+--------+\n",
      "only showing top 5 rows\n",
      "\n"
     ]
    }
   ],
   "source": [
    "Bombing_Operations.select(\"AirCraft\").show(5)"
   ]
  },
  {
   "cell_type": "markdown",
   "metadata": {
    "colab_type": "text",
    "id": "9txA3mx1SahL"
   },
   "source": [
    "The `join` function supports different join operations including inner join."
   ]
  },
  {
   "cell_type": "code",
   "execution_count": 38,
   "metadata": {
    "colab": {},
    "colab_type": "code",
    "id": "s3j3Fu8kSahL"
   },
   "outputs": [
    {
     "data": {
      "text/plain": [
       "DataFrame[AirCraft: string, ContryFlyingMission: string, MissionDate: string, OperationSupported: string, PeriodOfDay: string, TakeoffLocation: string, TargetCountry: string, TimeOnTarget: double, WeaponType: string, WeaponsLoadedWeight: bigint, AirCraft: string, AirCraftName: string, AirCraftType: string]"
      ]
     },
     "execution_count": 38,
     "metadata": {},
     "output_type": "execute_result"
    }
   ],
   "source": [
    "missions_joined = Bombing_Operations.join(Aircraft_Glossary, \n",
    "                                          Bombing_Operations.AirCraft == Aircraft_Glossary.AirCraft)\n",
    "\n",
    "missions_joined"
   ]
  },
  {
   "cell_type": "code",
   "execution_count": null,
   "metadata": {},
   "outputs": [],
   "source": [
    "Alternatively we could have specified the column name."
   ]
  },
  {
   "cell_type": "code",
   "execution_count": 39,
   "metadata": {
    "colab": {},
    "colab_type": "code",
    "id": "s3j3Fu8kSahL"
   },
   "outputs": [
    {
     "data": {
      "text/plain": [
       "DataFrame[AirCraft: string, ContryFlyingMission: string, MissionDate: string, OperationSupported: string, PeriodOfDay: string, TakeoffLocation: string, TargetCountry: string, TimeOnTarget: double, WeaponType: string, WeaponsLoadedWeight: bigint, AirCraftName: string, AirCraftType: string]"
      ]
     },
     "execution_count": 39,
     "metadata": {},
     "output_type": "execute_result"
    }
   ],
   "source": [
    "missions_joined = Bombing_Operations.join(Aircraft_Glossary, \n",
    "                                          on = \"AirCraft\")\n",
    "\n",
    "missions_joined"
   ]
  },
  {
   "cell_type": "markdown",
   "metadata": {
    "colab_type": "text",
    "id": "QhQbN8AOSahN"
   },
   "source": [
    "Now we can select the `AirCraftType` column to determine the type of Aircraft that appeared in combat."
   ]
  },
  {
   "cell_type": "code",
   "execution_count": 40,
   "metadata": {
    "colab": {},
    "colab_type": "code",
    "id": "s5KgFBXASahO"
   },
   "outputs": [
    {
     "name": "stdout",
     "output_type": "stream",
     "text": [
      "+--------------------+\n",
      "|        AirCraftType|\n",
      "+--------------------+\n",
      "|Military Transpor...|\n",
      "|Military Transpor...|\n",
      "|  Fighter bomber jet|\n",
      "|         Fighter Jet|\n",
      "|Light ground-atta...|\n",
      "+--------------------+\n",
      "only showing top 5 rows\n",
      "\n"
     ]
    }
   ],
   "source": [
    "missions_joined.select(\"AirCraftType\").show(5)"
   ]
  },
  {
   "cell_type": "markdown",
   "metadata": {
    "colab_type": "text",
    "id": "giUuCERTSahT"
   },
   "source": [
    "Lastly, we can group by `AirCraftType` and count the records."
   ]
  },
  {
   "cell_type": "code",
   "execution_count": 42,
   "metadata": {
    "colab": {},
    "colab_type": "code",
    "id": "S0QytpygSahU"
   },
   "outputs": [
    {
     "name": "stdout",
     "output_type": "stream",
     "text": [
      "+--------------------+-------------+\n",
      "|        AirCraftType|MissionsCount|\n",
      "+--------------------+-------------+\n",
      "|  Fighter Jet Bomber|      1073126|\n",
      "|         Fighter Jet|       882594|\n",
      "|  Jet Fighter Bomber|       451385|\n",
      "|     Attack Aircraft|       315246|\n",
      "|Light ground-atta...|       267457|\n",
      "|  Fighter bomber jet|       242231|\n",
      "|Military Transpor...|       228426|\n",
      "|  Utility Helicopter|       146653|\n",
      "|    Strategic bomber|        99100|\n",
      "|     Tactical Bomber|        82219|\n",
      "|Observation Aircraft|        81820|\n",
      "|Fixed wing ground...|        75058|\n",
      "|Ground attack air...|        73843|\n",
      "|Carrier-based Fig...|        58691|\n",
      "|   Training Aircraft|        48435|\n",
      "|       Light fighter|        39999|\n",
      "|        Light Bomber|        39262|\n",
      "|Light Tactical Bo...|        34738|\n",
      "| Light Utility Plane|        28582|\n",
      "|Observation/ Ligh...|        24491|\n",
      "+--------------------+-------------+\n",
      "only showing top 20 rows\n",
      "\n"
     ]
    }
   ],
   "source": [
    "( missions_joined.select(\"AirCraftType\")\n",
    "                 .groupBy(\"AirCraftType\")\n",
    "                 .agg(F.count(\"*\").alias(\"MissionsCount\"))\n",
    "                 .orderBy(\"MissionsCount\", ascending = False)\n",
    "                 .show() )"
   ]
  },
  {
   "cell_type": "markdown",
   "metadata": {
    "colab_type": "text",
    "id": "2Y1043GMSahV"
   },
   "source": [
    "Alternatively, we can use SQL."
   ]
  },
  {
   "cell_type": "code",
   "execution_count": 44,
   "metadata": {},
   "outputs": [],
   "source": [
    "Aircraft_Glossary.createOrReplaceTempView(\"Aircraft_Glossary\")"
   ]
  },
  {
   "cell_type": "markdown",
   "metadata": {},
   "source": [
    "Remember that we need to register a table in the Spark session."
   ]
  },
  {
   "cell_type": "code",
   "execution_count": 45,
   "metadata": {
    "colab": {},
    "colab_type": "code",
    "id": "980KMZCOSahV"
   },
   "outputs": [
    {
     "name": "stdout",
     "output_type": "stream",
     "text": [
      "+--------------------+-------------+\n",
      "|        AirCraftType|MissionsCount|\n",
      "+--------------------+-------------+\n",
      "|  Fighter Jet Bomber|      1073126|\n",
      "|         Fighter Jet|       882594|\n",
      "|  Jet Fighter Bomber|       451385|\n",
      "|     Attack Aircraft|       315246|\n",
      "|Light ground-atta...|       267457|\n",
      "|  Fighter bomber jet|       242231|\n",
      "|Military Transpor...|       228426|\n",
      "|  Utility Helicopter|       146653|\n",
      "|    Strategic bomber|        99100|\n",
      "|     Tactical Bomber|        82219|\n",
      "|Observation Aircraft|        81820|\n",
      "|Fixed wing ground...|        75058|\n",
      "|Ground attack air...|        73843|\n",
      "|Carrier-based Fig...|        58691|\n",
      "|   Training Aircraft|        48435|\n",
      "|       Light fighter|        39999|\n",
      "|        Light Bomber|        39262|\n",
      "|Light Tactical Bo...|        34738|\n",
      "| Light Utility Plane|        28582|\n",
      "|Observation/ Ligh...|        24491|\n",
      "+--------------------+-------------+\n",
      "only showing top 20 rows\n",
      "\n"
     ]
    }
   ],
   "source": [
    "query = \"\"\"\n",
    "SELECT AirCraftType, COUNT(*) AS MissionsCount\n",
    "FROM Bombing_Operations, Aircraft_Glossary \n",
    "WHERE Bombing_Operations.AirCraft = Aircraft_Glossary.AirCraft\n",
    "GROUP BY AirCraftType\n",
    "ORDER BY MissionsCount DESC\n",
    "\"\"\"\n",
    "\n",
    "spark.sql(query).show()"
   ]
  }
 ],
 "metadata": {
  "colab": {
   "collapsed_sections": [],
   "machine_shape": "hm",
   "name": "CS246 - Colab 0 (Spark Tutorial).ipynb",
   "provenance": [],
   "toc_visible": true
  },
  "kernelspec": {
   "display_name": "Python 3",
   "language": "python",
   "name": "python3"
  },
  "language_info": {
   "codemirror_mode": {
    "name": "ipython",
    "version": 3
   },
   "file_extension": ".py",
   "mimetype": "text/x-python",
   "name": "python",
   "nbconvert_exporter": "python",
   "pygments_lexer": "ipython3",
   "version": "3.7.3"
  }
 },
 "nbformat": 4,
 "nbformat_minor": 2
}

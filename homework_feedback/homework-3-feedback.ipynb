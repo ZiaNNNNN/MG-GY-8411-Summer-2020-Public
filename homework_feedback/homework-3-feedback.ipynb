{
 "cells": [
  {
   "cell_type": "markdown",
   "metadata": {
    "nbgrader": {
     "grade": false,
     "grade_id": "cell-80d2c074a80faa82",
     "locked": true,
     "schema_version": 3,
     "solution": false,
     "task": false
    }
   },
   "source": [
    "## Homework 3 : Databases\n",
    "\n",
    "#### Due Date: Thursday June 18, 2020 at 11:59PM EST\n",
    "\n",
    "We want to get practice with querying databases. We will study a dataset about donations throughout the United States presidential election in 2016. The data comes from the [Federal Election\n",
    "Commission](https://www.fec.gov/data/).  \n",
    "\n",
    "The questions guide you step-by-step through these steps of data processing. Please post to CampusWire with any questions. \n",
    "\n",
    "#### Collaboration Policy\n",
    "\n",
    "Data science is a collaborative activity. While you may discuss the homework with classmates, you should answer the questions by yourself. If you discuss the assignments with other students, the please **include their names** below."
   ]
  },
  {
   "cell_type": "markdown",
   "metadata": {},
   "source": [
    "**Name:** *list name here*"
   ]
  },
  {
   "cell_type": "markdown",
   "metadata": {},
   "source": [
    "**NetId:** *list netid here*"
   ]
  },
  {
   "cell_type": "markdown",
   "metadata": {},
   "source": [
    "**Collaborators:** *list names here*"
   ]
  },
  {
   "cell_type": "markdown",
   "metadata": {
    "nbgrader": {
     "grade": false,
     "grade_id": "cell-946f429ec7438c5b",
     "locked": true,
     "schema_version": 3,
     "solution": false,
     "task": false
    }
   },
   "source": [
    "### Rubric\n",
    "\n",
    "Question | Points\n",
    "--- | ---\n",
    "Question 1.1 | 1\n",
    "Question 1.2 | 1\n",
    "Question 1.3 | 1\n",
    "Question 2.1 | 1\n",
    "Question 2.2 | 1\n",
    "Question 2.3 | 1\n",
    "Question 2.4 | 2\n",
    "Question 3.1 | 1\n",
    "Question 3.2 | 2\n",
    "Total | 11"
   ]
  },
  {
   "cell_type": "code",
   "execution_count": 1,
   "metadata": {
    "nbgrader": {
     "grade": false,
     "grade_id": "imports",
     "locked": true,
     "schema_version": 3,
     "solution": false
    }
   },
   "outputs": [],
   "source": [
    "# importing packages \n",
    "\n",
    "import pandas as pd\n",
    "import numpy as np\n",
    "import os, sys\n",
    "\n",
    "import matplotlib\n",
    "import matplotlib.pyplot as plt\n",
    "\n",
    "import sqlalchemy\n",
    "\n",
    "# changing some settings\n",
    "\n",
    "pd.set_option('display.max_rows', 10)\n",
    "pd.set_option('display.max_columns', 8)\n",
    "\n",
    "%matplotlib inline\n",
    "plt.rcParams['figure.figsize'] = (9,7)"
   ]
  },
  {
   "cell_type": "code",
   "execution_count": 2,
   "metadata": {
    "nbgrader": {
     "grade": true,
     "grade_id": "cell-12dab67fc0c29141",
     "locked": true,
     "points": 0,
     "schema_version": 3,
     "solution": false,
     "task": false
    }
   },
   "outputs": [],
   "source": [
    "# test import of packages \n",
    "\n",
    "assert \"pandas\" in sys.modules and \"pd\" in locals()\n",
    "assert \"matplotlib\" in sys.modules and \"plt\" in locals()\n",
    "assert \"sqlalchemy\" in sys.modules "
   ]
  },
  {
   "cell_type": "markdown",
   "metadata": {
    "nbgrader": {
     "grade": false,
     "grade_id": "cell-2b286a230c7d8153",
     "locked": true,
     "schema_version": 3,
     "solution": false,
     "task": false
    }
   },
   "source": [
    "### Loading the Data\n",
    "\n",
    "We have three tables in the SQLite database. "
   ]
  },
  {
   "cell_type": "code",
   "execution_count": 3,
   "metadata": {
    "nbgrader": {
     "grade": false,
     "grade_id": "cell-5f223fdafc35e169",
     "locked": true,
     "schema_version": 3,
     "solution": false,
     "task": false
    }
   },
   "outputs": [],
   "source": [
    "home = os.environ['HOME']\n",
    "data_path = f\"{home}/shared/fec_nyc.sqlite\" \n",
    "\n",
    "engine = sqlalchemy.create_engine(f\"sqlite:///{data_path}\")"
   ]
  },
  {
   "cell_type": "markdown",
   "metadata": {
    "nbgrader": {
     "grade": false,
     "grade_id": "cell-39e5114e2bd1a5f1",
     "locked": true,
     "schema_version": 3,
     "solution": false,
     "task": false
    }
   },
   "source": [
    "The table `cand` contains names and party affiliations of candidates in the election."
   ]
  },
  {
   "cell_type": "code",
   "execution_count": 4,
   "metadata": {
    "nbgrader": {
     "grade": false,
     "grade_id": "cell-39b5778f2a20fb74",
     "locked": true,
     "schema_version": 3,
     "solution": false,
     "task": false
    }
   },
   "outputs": [
    {
     "data": {
      "text/html": [
       "<div>\n",
       "<style scoped>\n",
       "    .dataframe tbody tr th:only-of-type {\n",
       "        vertical-align: middle;\n",
       "    }\n",
       "\n",
       "    .dataframe tbody tr th {\n",
       "        vertical-align: top;\n",
       "    }\n",
       "\n",
       "    .dataframe thead th {\n",
       "        text-align: right;\n",
       "    }\n",
       "</style>\n",
       "<table border=\"1\" class=\"dataframe\">\n",
       "  <thead>\n",
       "    <tr style=\"text-align: right;\">\n",
       "      <th></th>\n",
       "      <th>cand_id</th>\n",
       "      <th>cand_name</th>\n",
       "      <th>cand_pty_affiliation</th>\n",
       "      <th>cand_election_yr</th>\n",
       "      <th>...</th>\n",
       "      <th>cand_st2</th>\n",
       "      <th>cand_city</th>\n",
       "      <th>cand_st</th>\n",
       "      <th>cand_zip</th>\n",
       "    </tr>\n",
       "  </thead>\n",
       "  <tbody>\n",
       "    <tr>\n",
       "      <th>0</th>\n",
       "      <td>H0AK00097</td>\n",
       "      <td>COX, JOHN R.</td>\n",
       "      <td>REP</td>\n",
       "      <td>2014</td>\n",
       "      <td>...</td>\n",
       "      <td></td>\n",
       "      <td>ANCHOR POINT</td>\n",
       "      <td>AK</td>\n",
       "      <td>99556</td>\n",
       "    </tr>\n",
       "    <tr>\n",
       "      <th>1</th>\n",
       "      <td>H0AL02087</td>\n",
       "      <td>ROBY, MARTHA</td>\n",
       "      <td>REP</td>\n",
       "      <td>2016</td>\n",
       "      <td>...</td>\n",
       "      <td></td>\n",
       "      <td>MONTGOMERY</td>\n",
       "      <td>AL</td>\n",
       "      <td>36101</td>\n",
       "    </tr>\n",
       "    <tr>\n",
       "      <th>2</th>\n",
       "      <td>H0AL02095</td>\n",
       "      <td>JOHN, ROBERT E JR</td>\n",
       "      <td>IND</td>\n",
       "      <td>2016</td>\n",
       "      <td>...</td>\n",
       "      <td></td>\n",
       "      <td>MILLBROOK</td>\n",
       "      <td>AL</td>\n",
       "      <td>36054</td>\n",
       "    </tr>\n",
       "    <tr>\n",
       "      <th>3</th>\n",
       "      <td>H0AL05049</td>\n",
       "      <td>CRAMER, ROBERT E \"BUD\" JR</td>\n",
       "      <td>DEM</td>\n",
       "      <td>2008</td>\n",
       "      <td>...</td>\n",
       "      <td></td>\n",
       "      <td>HUNTSVILLE</td>\n",
       "      <td>AL</td>\n",
       "      <td>35804</td>\n",
       "    </tr>\n",
       "    <tr>\n",
       "      <th>4</th>\n",
       "      <td>H0AL05163</td>\n",
       "      <td>BROOKS, MO</td>\n",
       "      <td>REP</td>\n",
       "      <td>2016</td>\n",
       "      <td>...</td>\n",
       "      <td></td>\n",
       "      <td>HUNTSVILLE</td>\n",
       "      <td>AL</td>\n",
       "      <td>35802</td>\n",
       "    </tr>\n",
       "  </tbody>\n",
       "</table>\n",
       "<p>5 rows × 15 columns</p>\n",
       "</div>"
      ],
      "text/plain": [
       "     cand_id                  cand_name cand_pty_affiliation  \\\n",
       "0  H0AK00097               COX, JOHN R.                  REP   \n",
       "1  H0AL02087               ROBY, MARTHA                  REP   \n",
       "2  H0AL02095          JOHN, ROBERT E JR                  IND   \n",
       "3  H0AL05049  CRAMER, ROBERT E \"BUD\" JR                  DEM   \n",
       "4  H0AL05163                 BROOKS, MO                  REP   \n",
       "\n",
       "   cand_election_yr  ... cand_st2     cand_city  cand_st cand_zip  \n",
       "0              2014  ...           ANCHOR POINT       AK    99556  \n",
       "1              2016  ...             MONTGOMERY       AL    36101  \n",
       "2              2016  ...              MILLBROOK       AL    36054  \n",
       "3              2008  ...             HUNTSVILLE       AL    35804  \n",
       "4              2016  ...             HUNTSVILLE       AL    35802  \n",
       "\n",
       "[5 rows x 15 columns]"
      ]
     },
     "execution_count": 4,
     "metadata": {},
     "output_type": "execute_result"
    }
   ],
   "source": [
    "pd.read_sql(\"select * from cand limit 5;\", con = engine)"
   ]
  },
  {
   "cell_type": "markdown",
   "metadata": {
    "nbgrader": {
     "grade": false,
     "grade_id": "cell-8e939fe9b7bbd144",
     "locked": true,
     "schema_version": 3,
     "solution": false,
     "task": false
    }
   },
   "source": [
    "The table `comm` contains names and types of fundraising committees."
   ]
  },
  {
   "cell_type": "code",
   "execution_count": 5,
   "metadata": {
    "nbgrader": {
     "grade": false,
     "grade_id": "cell-449f19c93c1da433",
     "locked": true,
     "schema_version": 3,
     "solution": false,
     "task": false
    }
   },
   "outputs": [
    {
     "data": {
      "text/html": [
       "<div>\n",
       "<style scoped>\n",
       "    .dataframe tbody tr th:only-of-type {\n",
       "        vertical-align: middle;\n",
       "    }\n",
       "\n",
       "    .dataframe tbody tr th {\n",
       "        vertical-align: top;\n",
       "    }\n",
       "\n",
       "    .dataframe thead th {\n",
       "        text-align: right;\n",
       "    }\n",
       "</style>\n",
       "<table border=\"1\" class=\"dataframe\">\n",
       "  <thead>\n",
       "    <tr style=\"text-align: right;\">\n",
       "      <th></th>\n",
       "      <th>cmte_id</th>\n",
       "      <th>cmte_nm</th>\n",
       "      <th>tres_nm</th>\n",
       "      <th>cmte_st1</th>\n",
       "      <th>...</th>\n",
       "      <th>cmte_filing_freq</th>\n",
       "      <th>org_tp</th>\n",
       "      <th>connected_org_nm</th>\n",
       "      <th>cand_id</th>\n",
       "    </tr>\n",
       "  </thead>\n",
       "  <tbody>\n",
       "    <tr>\n",
       "      <th>0</th>\n",
       "      <td>C00000059</td>\n",
       "      <td>HALLMARK CARDS PAC</td>\n",
       "      <td>ERIN BROWER</td>\n",
       "      <td>2501 MCGEE</td>\n",
       "      <td>...</td>\n",
       "      <td>M</td>\n",
       "      <td>C</td>\n",
       "      <td></td>\n",
       "      <td></td>\n",
       "    </tr>\n",
       "    <tr>\n",
       "      <th>1</th>\n",
       "      <td>C00000422</td>\n",
       "      <td>AMERICAN MEDICAL ASSOCIATION POLITICAL ACTION ...</td>\n",
       "      <td>WALKER, KEVIN</td>\n",
       "      <td>25 MASSACHUSETTS AVE, NW</td>\n",
       "      <td>...</td>\n",
       "      <td>M</td>\n",
       "      <td>M</td>\n",
       "      <td>AMERICAN MEDICAL ASSOCIATION</td>\n",
       "      <td></td>\n",
       "    </tr>\n",
       "    <tr>\n",
       "      <th>2</th>\n",
       "      <td>C00000489</td>\n",
       "      <td>D R I V E POLITICAL FUND CHAPTER 886</td>\n",
       "      <td>TOM RITTER</td>\n",
       "      <td>3528 W RENO</td>\n",
       "      <td>...</td>\n",
       "      <td>Q</td>\n",
       "      <td>L</td>\n",
       "      <td>TEAMSTERS LOCAL UNION 886</td>\n",
       "      <td></td>\n",
       "    </tr>\n",
       "    <tr>\n",
       "      <th>3</th>\n",
       "      <td>C00000547</td>\n",
       "      <td>KANSAS MEDICAL SOCIETY POLITICAL ACTION COMMITTEE</td>\n",
       "      <td>C. RICHARD BONEBRAKE, M.D.</td>\n",
       "      <td>623 SW 10TH AVE</td>\n",
       "      <td>...</td>\n",
       "      <td>Q</td>\n",
       "      <td>T</td>\n",
       "      <td></td>\n",
       "      <td></td>\n",
       "    </tr>\n",
       "    <tr>\n",
       "      <th>4</th>\n",
       "      <td>C00000638</td>\n",
       "      <td>INDIANA STATE MEDICAL ASSOCIATION POLITICAL AC...</td>\n",
       "      <td>VIDYA KORA, M.D.</td>\n",
       "      <td>322 CANAL WALK, CANAL LEVEL</td>\n",
       "      <td>...</td>\n",
       "      <td>Q</td>\n",
       "      <td>M</td>\n",
       "      <td></td>\n",
       "      <td></td>\n",
       "    </tr>\n",
       "  </tbody>\n",
       "</table>\n",
       "<p>5 rows × 15 columns</p>\n",
       "</div>"
      ],
      "text/plain": [
       "     cmte_id                                            cmte_nm  \\\n",
       "0  C00000059                                 HALLMARK CARDS PAC   \n",
       "1  C00000422  AMERICAN MEDICAL ASSOCIATION POLITICAL ACTION ...   \n",
       "2  C00000489               D R I V E POLITICAL FUND CHAPTER 886   \n",
       "3  C00000547  KANSAS MEDICAL SOCIETY POLITICAL ACTION COMMITTEE   \n",
       "4  C00000638  INDIANA STATE MEDICAL ASSOCIATION POLITICAL AC...   \n",
       "\n",
       "                      tres_nm                     cmte_st1  ...  \\\n",
       "0                 ERIN BROWER                   2501 MCGEE  ...   \n",
       "1               WALKER, KEVIN     25 MASSACHUSETTS AVE, NW  ...   \n",
       "2                  TOM RITTER                  3528 W RENO  ...   \n",
       "3  C. RICHARD BONEBRAKE, M.D.              623 SW 10TH AVE  ...   \n",
       "4            VIDYA KORA, M.D.  322 CANAL WALK, CANAL LEVEL  ...   \n",
       "\n",
       "  cmte_filing_freq org_tp              connected_org_nm cand_id  \n",
       "0                M      C                                        \n",
       "1                M      M  AMERICAN MEDICAL ASSOCIATION          \n",
       "2                Q      L     TEAMSTERS LOCAL UNION 886          \n",
       "3                Q      T                                        \n",
       "4                Q      M                                        \n",
       "\n",
       "[5 rows x 15 columns]"
      ]
     },
     "execution_count": 5,
     "metadata": {},
     "output_type": "execute_result"
    }
   ],
   "source": [
    "pd.read_sql(\"select * from comm limit 5;\", con = engine)"
   ]
  },
  {
   "cell_type": "markdown",
   "metadata": {
    "nbgrader": {
     "grade": false,
     "grade_id": "cell-1564d5122939a924",
     "locked": true,
     "schema_version": 3,
     "solution": false,
     "task": false
    }
   },
   "source": [
    "The table `indiv_sample_nyc` contains donations from individual who reside in New York City"
   ]
  },
  {
   "cell_type": "code",
   "execution_count": 6,
   "metadata": {
    "nbgrader": {
     "grade": false,
     "grade_id": "cell-c019ba26e8d78429",
     "locked": true,
     "schema_version": 3,
     "solution": false,
     "task": false
    }
   },
   "outputs": [
    {
     "data": {
      "text/html": [
       "<div>\n",
       "<style scoped>\n",
       "    .dataframe tbody tr th:only-of-type {\n",
       "        vertical-align: middle;\n",
       "    }\n",
       "\n",
       "    .dataframe tbody tr th {\n",
       "        vertical-align: top;\n",
       "    }\n",
       "\n",
       "    .dataframe thead th {\n",
       "        text-align: right;\n",
       "    }\n",
       "</style>\n",
       "<table border=\"1\" class=\"dataframe\">\n",
       "  <thead>\n",
       "    <tr style=\"text-align: right;\">\n",
       "      <th></th>\n",
       "      <th>cmte_id</th>\n",
       "      <th>amndt_ind</th>\n",
       "      <th>rpt_tp</th>\n",
       "      <th>transaction_pgi</th>\n",
       "      <th>...</th>\n",
       "      <th>file_num</th>\n",
       "      <th>memo_cd</th>\n",
       "      <th>memo_text</th>\n",
       "      <th>sub_id</th>\n",
       "    </tr>\n",
       "  </thead>\n",
       "  <tbody>\n",
       "    <tr>\n",
       "      <th>0</th>\n",
       "      <td>C00445015</td>\n",
       "      <td>N</td>\n",
       "      <td>Q1</td>\n",
       "      <td>P</td>\n",
       "      <td>...</td>\n",
       "      <td>1002485</td>\n",
       "      <td></td>\n",
       "      <td></td>\n",
       "      <td>4041420151241812398</td>\n",
       "    </tr>\n",
       "    <tr>\n",
       "      <th>1</th>\n",
       "      <td>C00510461</td>\n",
       "      <td>N</td>\n",
       "      <td>Q1</td>\n",
       "      <td>P</td>\n",
       "      <td>...</td>\n",
       "      <td>1002590</td>\n",
       "      <td></td>\n",
       "      <td>* EARMARKED CONTRIBUTION: SEE BELOW</td>\n",
       "      <td>4041420151241813640</td>\n",
       "    </tr>\n",
       "    <tr>\n",
       "      <th>2</th>\n",
       "      <td>C00422410</td>\n",
       "      <td>N</td>\n",
       "      <td>Q1</td>\n",
       "      <td>P</td>\n",
       "      <td>...</td>\n",
       "      <td>1003643</td>\n",
       "      <td></td>\n",
       "      <td></td>\n",
       "      <td>4041620151241914560</td>\n",
       "    </tr>\n",
       "    <tr>\n",
       "      <th>3</th>\n",
       "      <td>C00510461</td>\n",
       "      <td>N</td>\n",
       "      <td>Q1</td>\n",
       "      <td>P</td>\n",
       "      <td>...</td>\n",
       "      <td>1002590</td>\n",
       "      <td></td>\n",
       "      <td>* EARMARKED CONTRIBUTION: SEE BELOW</td>\n",
       "      <td>4041420151241813630</td>\n",
       "    </tr>\n",
       "    <tr>\n",
       "      <th>4</th>\n",
       "      <td>C00510461</td>\n",
       "      <td>N</td>\n",
       "      <td>Q1</td>\n",
       "      <td>P</td>\n",
       "      <td>...</td>\n",
       "      <td>1002590</td>\n",
       "      <td></td>\n",
       "      <td>* EARMARKED CONTRIBUTION: SEE BELOW</td>\n",
       "      <td>4041420151241813632</td>\n",
       "    </tr>\n",
       "  </tbody>\n",
       "</table>\n",
       "<p>5 rows × 21 columns</p>\n",
       "</div>"
      ],
      "text/plain": [
       "     cmte_id amndt_ind rpt_tp transaction_pgi  ...  file_num memo_cd  \\\n",
       "0  C00445015         N     Q1           P      ...   1002485           \n",
       "1  C00510461         N     Q1           P      ...   1002590           \n",
       "2  C00422410         N     Q1           P      ...   1003643           \n",
       "3  C00510461         N     Q1           P      ...   1002590           \n",
       "4  C00510461         N     Q1           P      ...   1002590           \n",
       "\n",
       "                             memo_text               sub_id  \n",
       "0                                       4041420151241812398  \n",
       "1  * EARMARKED CONTRIBUTION: SEE BELOW  4041420151241813640  \n",
       "2                                       4041620151241914560  \n",
       "3  * EARMARKED CONTRIBUTION: SEE BELOW  4041420151241813630  \n",
       "4  * EARMARKED CONTRIBUTION: SEE BELOW  4041420151241813632  \n",
       "\n",
       "[5 rows x 21 columns]"
      ]
     },
     "execution_count": 6,
     "metadata": {},
     "output_type": "execute_result"
    }
   ],
   "source": [
    "pd.read_sql(\"select * from indiv_sample_nyc limit 5;\", con = engine)"
   ]
  },
  {
   "cell_type": "markdown",
   "metadata": {
    "nbgrader": {
     "grade": false,
     "grade_id": "cell-9bf173416e0e1232",
     "locked": true,
     "schema_version": 3,
     "solution": false,
     "task": false
    }
   },
   "source": [
    "### Question 1: Selecting Records\n",
    "\n",
    "We want to select records from the three tables. Each query will require the records to satisfy some conditions.\n",
    "\n",
    "#### Question 1.1\n",
    "\n",
    "Note that `cand_id` is the primary key in the table `cand`. So the entries in the column `cand_id` are distinct. \n",
    "\n",
    "Complete the `SELECT` command to determine the number of records in the `cand_id` column with `cand_pty_affiliation` equal to `DEM`. \n"
   ]
  },
  {
   "cell_type": "code",
   "execution_count": 7,
   "metadata": {
    "nbgrader": {
     "grade": false,
     "grade_id": "cell-27cd567269050264",
     "locked": false,
     "schema_version": 3,
     "solution": true,
     "task": false
    }
   },
   "outputs": [
    {
     "data": {
      "text/html": [
       "<div>\n",
       "<style scoped>\n",
       "    .dataframe tbody tr th:only-of-type {\n",
       "        vertical-align: middle;\n",
       "    }\n",
       "\n",
       "    .dataframe tbody tr th {\n",
       "        vertical-align: top;\n",
       "    }\n",
       "\n",
       "    .dataframe thead th {\n",
       "        text-align: right;\n",
       "    }\n",
       "</style>\n",
       "<table border=\"1\" class=\"dataframe\">\n",
       "  <thead>\n",
       "    <tr style=\"text-align: right;\">\n",
       "      <th></th>\n",
       "      <th>COUNT(cand_id)</th>\n",
       "    </tr>\n",
       "  </thead>\n",
       "  <tbody>\n",
       "    <tr>\n",
       "      <th>0</th>\n",
       "      <td>2261</td>\n",
       "    </tr>\n",
       "  </tbody>\n",
       "</table>\n",
       "</div>"
      ],
      "text/plain": [
       "   COUNT(cand_id)\n",
       "0            2261"
      ]
     },
     "execution_count": 7,
     "metadata": {},
     "output_type": "execute_result"
    }
   ],
   "source": [
    "query1_1 = '''\n",
    "SELECT ... \n",
    "FROM cand\n",
    "WHERE cand_pty_affiliation = 'DEM'\n",
    "'''\n",
    "\n",
    "### BEGIN SOLUTION \n",
    "query1_1 = '''\n",
    "SELECT COUNT(cand_id)\n",
    "FROM cand\n",
    "WHERE cand_pty_affiliation = 'DEM'\n",
    "'''\n",
    "### END SOLUTION\n",
    "\n",
    "pd.read_sql(query1_1, engine)"
   ]
  },
  {
   "cell_type": "markdown",
   "metadata": {},
   "source": [
    "<font color='red' size=\"4\">The COUNT() function returns the number of records returned by a select query.\n",
    "\n",
    "Note: NULL values are not counted.</font>"
   ]
  },
  {
   "cell_type": "markdown",
   "metadata": {
    "nbgrader": {
     "grade": false,
     "grade_id": "cell-c5a21c871aeeb4d0",
     "locked": true,
     "schema_version": 3,
     "solution": false,
     "task": false
    }
   },
   "source": [
    "How many candidates were Democrats?  "
   ]
  },
  {
   "cell_type": "code",
   "execution_count": 8,
   "metadata": {
    "nbgrader": {
     "grade": false,
     "grade_id": "cell-a518969d33e0bfcf",
     "locked": false,
     "schema_version": 3,
     "solution": true,
     "task": false
    },
    "tags": [
     "q01a",
     "test"
    ]
   },
   "outputs": [],
   "source": [
    "q1_1 = ... \n",
    "\n",
    "### BEGIN SOLUTION \n",
    "q1_1 = 2261\n",
    "### END SOLUTION"
   ]
  },
  {
   "cell_type": "code",
   "execution_count": 9,
   "metadata": {
    "nbgrader": {
     "grade": true,
     "grade_id": "cell-b32ce33e2bd295b9",
     "locked": true,
     "points": 1,
     "schema_version": 3,
     "solution": false,
     "task": false
    },
    "tags": [
     "q01a",
     "test"
    ]
   },
   "outputs": [],
   "source": [
    "# TEST \n",
    "\n",
    "assert 2000 < q1_1 < 3000\n",
    "\n",
    "### BEGIN HIDDEN TESTS\n",
    "assert q1_1 == 2261\n",
    "### END HIDDEN TESTS"
   ]
  },
  {
   "cell_type": "markdown",
   "metadata": {
    "nbgrader": {
     "grade": false,
     "grade_id": "q1a",
     "locked": true,
     "schema_version": 3,
     "solution": false
    }
   },
   "source": [
    "#### Question 1.2\n",
    "\n",
    "We want to determine the number of donors with a contribution exceeding \\$5,000,000. Note that the `transaction_amt` column of the table `indiv_sample_nyc` contains the contribution in dollars.\n",
    "\n",
    "Complete the `WHERE` command to limit the values of `transaction_amt`."
   ]
  },
  {
   "cell_type": "code",
   "execution_count": 10,
   "metadata": {
    "for_assignment_type": "student",
    "nbgrader": {
     "grade": false,
     "grade_id": "q1a-answer",
     "locked": false,
     "schema_version": 3,
     "solution": true
    },
    "tags": [
     "student"
    ]
   },
   "outputs": [
    {
     "data": {
      "text/html": [
       "<div>\n",
       "<style scoped>\n",
       "    .dataframe tbody tr th:only-of-type {\n",
       "        vertical-align: middle;\n",
       "    }\n",
       "\n",
       "    .dataframe tbody tr th {\n",
       "        vertical-align: top;\n",
       "    }\n",
       "\n",
       "    .dataframe thead th {\n",
       "        text-align: right;\n",
       "    }\n",
       "</style>\n",
       "<table border=\"1\" class=\"dataframe\">\n",
       "  <thead>\n",
       "    <tr style=\"text-align: right;\">\n",
       "      <th></th>\n",
       "      <th>Large_Donations</th>\n",
       "    </tr>\n",
       "  </thead>\n",
       "  <tbody>\n",
       "    <tr>\n",
       "      <th>0</th>\n",
       "      <td>6</td>\n",
       "    </tr>\n",
       "  </tbody>\n",
       "</table>\n",
       "</div>"
      ],
      "text/plain": [
       "   Large_Donations\n",
       "0                6"
      ]
     },
     "execution_count": 10,
     "metadata": {},
     "output_type": "execute_result"
    }
   ],
   "source": [
    "query1_2 = \"\"\"\n",
    "SELECT COUNT(*) as Large_Donations\n",
    "FROM indiv_sample_nyc\n",
    "WHERE ...\n",
    "\"\"\"\n",
    "\n",
    "### BEGIN SOLUTION\n",
    "query1_2 = '''\n",
    "SELECT count(*) as Large_Donations\n",
    "FROM indiv_sample_nyc\n",
    "WHERE transaction_amt > 5000000\n",
    "'''\n",
    "### END SOLUTION\n",
    "\n",
    "pd.read_sql(query1_2, engine)"
   ]
  },
  {
   "cell_type": "markdown",
   "metadata": {
    "nbgrader": {
     "grade": false,
     "grade_id": "cell-529dba236fe82262",
     "locked": true,
     "schema_version": 3,
     "solution": false,
     "task": false
    }
   },
   "source": [
    "How many donors had a contribution exceeding \\$5,000,000?"
   ]
  },
  {
   "cell_type": "code",
   "execution_count": 11,
   "metadata": {
    "nbgrader": {
     "grade": false,
     "grade_id": "cell-00771af2d983f909",
     "locked": false,
     "schema_version": 3,
     "solution": true,
     "task": false
    },
    "tags": [
     "q01a",
     "test"
    ]
   },
   "outputs": [],
   "source": [
    "q1_2 = ... \n",
    "\n",
    "### BEGIN SOLUTION \n",
    "q1_2 = 6\n",
    "### END SOLUTION"
   ]
  },
  {
   "cell_type": "code",
   "execution_count": 12,
   "metadata": {
    "nbgrader": {
     "grade": true,
     "grade_id": "cell-440f0fc987564436",
     "locked": true,
     "points": 1,
     "schema_version": 3,
     "solution": false,
     "task": false
    },
    "tags": [
     "q01a",
     "test"
    ]
   },
   "outputs": [],
   "source": [
    "# TEST \n",
    "\n",
    "assert 0 < q1_2 < 100\n",
    "\n",
    "### BEGIN HIDDEN TESTS\n",
    "assert q1_2 == 6\n",
    "### END HIDDEN TESTS"
   ]
  },
  {
   "cell_type": "markdown",
   "metadata": {
    "nbgrader": {
     "grade": false,
     "grade_id": "q1c",
     "locked": true,
     "schema_version": 3,
     "solution": false
    }
   },
   "source": [
    "#### Question 1.3\n",
    "\n",
    "We can use the keyword `LIKE` in the `WHERE` command to filter by a pattern of characters. For example, if we had the command \n",
    "\n",
    "> WHERE cmte_nm LIKE '%%HILARY%%'\n",
    "\n",
    "in a query to the `comm` table, then the committee name of each record contains the word `HILARY`. Note that `%%` is a wildcard character.\n",
    "\n",
    "Complete the `WHERE` command so that each record contains the word `BERNIE`."
   ]
  },
  {
   "cell_type": "code",
   "execution_count": 13,
   "metadata": {
    "nbgrader": {
     "grade": false,
     "grade_id": "cell-604a1783ed5be194",
     "locked": false,
     "schema_version": 3,
     "solution": true,
     "task": false
    }
   },
   "outputs": [
    {
     "data": {
      "text/html": [
       "<div>\n",
       "<style scoped>\n",
       "    .dataframe tbody tr th:only-of-type {\n",
       "        vertical-align: middle;\n",
       "    }\n",
       "\n",
       "    .dataframe tbody tr th {\n",
       "        vertical-align: top;\n",
       "    }\n",
       "\n",
       "    .dataframe thead th {\n",
       "        text-align: right;\n",
       "    }\n",
       "</style>\n",
       "<table border=\"1\" class=\"dataframe\">\n",
       "  <thead>\n",
       "    <tr style=\"text-align: right;\">\n",
       "      <th></th>\n",
       "      <th>Committee_Name</th>\n",
       "    </tr>\n",
       "  </thead>\n",
       "  <tbody>\n",
       "    <tr>\n",
       "      <th>0</th>\n",
       "      <td>FRIENDS OF BERNIE SANDERS</td>\n",
       "    </tr>\n",
       "    <tr>\n",
       "      <th>1</th>\n",
       "      <td>BERNIER FOR CONGRESS</td>\n",
       "    </tr>\n",
       "    <tr>\n",
       "      <th>2</th>\n",
       "      <td>BERNIE REEVES FOR CONGRESS</td>\n",
       "    </tr>\n",
       "    <tr>\n",
       "      <th>3</th>\n",
       "      <td>BERNIE 2016</td>\n",
       "    </tr>\n",
       "    <tr>\n",
       "      <th>4</th>\n",
       "      <td>NORTHERN MICHIGAN FOR BERNIE SANDERS</td>\n",
       "    </tr>\n",
       "    <tr>\n",
       "      <th>...</th>\n",
       "      <td>...</td>\n",
       "    </tr>\n",
       "    <tr>\n",
       "      <th>18</th>\n",
       "      <td>BUFFALO FOR BERNIE SANDERS</td>\n",
       "    </tr>\n",
       "    <tr>\n",
       "      <th>19</th>\n",
       "      <td>IDAHO PROGRESSIVE BERNIECRATS</td>\n",
       "    </tr>\n",
       "    <tr>\n",
       "      <th>20</th>\n",
       "      <td>BLACK MEN FOR BERNIE</td>\n",
       "    </tr>\n",
       "    <tr>\n",
       "      <th>21</th>\n",
       "      <td>PITTSBURGH DELEGATES FOR BERNIE</td>\n",
       "    </tr>\n",
       "    <tr>\n",
       "      <th>22</th>\n",
       "      <td>BERNIECRATS OF CALIFORNIA</td>\n",
       "    </tr>\n",
       "  </tbody>\n",
       "</table>\n",
       "<p>23 rows × 1 columns</p>\n",
       "</div>"
      ],
      "text/plain": [
       "                          Committee_Name\n",
       "0              FRIENDS OF BERNIE SANDERS\n",
       "1                   BERNIER FOR CONGRESS\n",
       "2             BERNIE REEVES FOR CONGRESS\n",
       "3                            BERNIE 2016\n",
       "4   NORTHERN MICHIGAN FOR BERNIE SANDERS\n",
       "..                                   ...\n",
       "18            BUFFALO FOR BERNIE SANDERS\n",
       "19         IDAHO PROGRESSIVE BERNIECRATS\n",
       "20                  BLACK MEN FOR BERNIE\n",
       "21       PITTSBURGH DELEGATES FOR BERNIE\n",
       "22             BERNIECRATS OF CALIFORNIA\n",
       "\n",
       "[23 rows x 1 columns]"
      ]
     },
     "execution_count": 13,
     "metadata": {},
     "output_type": "execute_result"
    }
   ],
   "source": [
    "query1_3 = \"\"\" \n",
    "SELECT cmte_nm AS Committee_Name\n",
    "FROM comm\n",
    "WHERE cmte_nm LIKE '%%BERNIE%%';\n",
    "\"\"\"\n",
    "\n",
    "### BEGIN SOLUTION\n",
    "query1_3 = \"\"\" \n",
    "SELECT cmte_nm AS Committee_Name\n",
    "FROM comm\n",
    "WHERE cmte_nm LIKE '%%BERNIE%%';\n",
    "\"\"\"\n",
    "### END SOLUTION\n",
    "\n",
    "pd.read_sql(query1_3,engine)"
   ]
  },
  {
   "cell_type": "markdown",
   "metadata": {},
   "source": [
    "<font color='red' size=\"4\">A wildcard character is used to substitute one or more characters in a string.\n",
    "\n",
    "Wildcard characters are used with the SQL LIKE operator. The LIKE operator is used in a WHERE clause to search for a specified pattern in a column.\n",
    " \n",
    "'%' represents zero or more characters. For example, bl% finds bl, black, blue, and blob.</font>"
   ]
  },
  {
   "cell_type": "markdown",
   "metadata": {
    "nbgrader": {
     "grade": false,
     "grade_id": "cell-a8e6a1aae84485d2",
     "locked": true,
     "schema_version": 3,
     "solution": false,
     "task": false
    }
   },
   "source": [
    "How many records have a committee name containing the word `BERNIE`? "
   ]
  },
  {
   "cell_type": "code",
   "execution_count": 14,
   "metadata": {
    "nbgrader": {
     "grade": false,
     "grade_id": "cell-642d75191a93e4d2",
     "locked": false,
     "schema_version": 3,
     "solution": true,
     "task": false
    },
    "tags": [
     "q01a",
     "test"
    ]
   },
   "outputs": [],
   "source": [
    "q1_3 = ... \n",
    "\n",
    "### BEGIN SOLUTION \n",
    "q1_3 = 23\n",
    "### END SOLUTION"
   ]
  },
  {
   "cell_type": "code",
   "execution_count": 15,
   "metadata": {
    "nbgrader": {
     "grade": true,
     "grade_id": "cell-bda8ba0641568aa6",
     "locked": true,
     "points": 1,
     "schema_version": 3,
     "solution": false,
     "task": false
    },
    "tags": [
     "q01a",
     "test"
    ]
   },
   "outputs": [],
   "source": [
    "# TEST \n",
    "\n",
    "assert 0 < q1_3 < 50\n",
    "\n",
    "### BEGIN HIDDEN TESTS\n",
    "assert q1_3 == 23\n",
    "### END HIDDEN TESTS"
   ]
  },
  {
   "cell_type": "markdown",
   "metadata": {
    "nbgrader": {
     "grade": false,
     "grade_id": "cell-90e2881746abc771",
     "locked": true,
     "schema_version": 3,
     "solution": false,
     "task": false
    }
   },
   "source": [
    "### Question 2: Aggregating Records\n",
    "\n",
    "We want to explore the donations across different occupations.\n",
    "\n",
    "#### Question 2.1\n",
    "\n",
    "Complete the `SELECT` command with the keyword `DISTINCT` to determine the number of unique entries in the `occupation` column."
   ]
  },
  {
   "cell_type": "code",
   "execution_count": 16,
   "metadata": {
    "nbgrader": {
     "grade": false,
     "grade_id": "cell-64be1be64cfc0add",
     "locked": false,
     "schema_version": 3,
     "solution": true,
     "task": false
    }
   },
   "outputs": [
    {
     "data": {
      "text/html": [
       "<div>\n",
       "<style scoped>\n",
       "    .dataframe tbody tr th:only-of-type {\n",
       "        vertical-align: middle;\n",
       "    }\n",
       "\n",
       "    .dataframe tbody tr th {\n",
       "        vertical-align: top;\n",
       "    }\n",
       "\n",
       "    .dataframe thead th {\n",
       "        text-align: right;\n",
       "    }\n",
       "</style>\n",
       "<table border=\"1\" class=\"dataframe\">\n",
       "  <thead>\n",
       "    <tr style=\"text-align: right;\">\n",
       "      <th></th>\n",
       "      <th>COUNT(DISTINCT occupation)</th>\n",
       "    </tr>\n",
       "  </thead>\n",
       "  <tbody>\n",
       "    <tr>\n",
       "      <th>0</th>\n",
       "      <td>14089</td>\n",
       "    </tr>\n",
       "  </tbody>\n",
       "</table>\n",
       "</div>"
      ],
      "text/plain": [
       "   COUNT(DISTINCT occupation)\n",
       "0                       14089"
      ]
     },
     "execution_count": 16,
     "metadata": {},
     "output_type": "execute_result"
    }
   ],
   "source": [
    "query2_1 = '''\n",
    "SELECT COUNT(...)\n",
    "FROM indiv_sample_nyc \n",
    "'''\n",
    "### BEGIN SOLUTION\n",
    "query2_1 = '''\n",
    "SELECT COUNT(DISTINCT occupation)\n",
    "FROM indiv_sample_nyc\n",
    "'''\n",
    "### END SOLUTION\n",
    "\n",
    "pd.read_sql(query2_1,engine)"
   ]
  },
  {
   "cell_type": "markdown",
   "metadata": {
    "nbgrader": {
     "grade": false,
     "grade_id": "cell-2962983cc4524d53",
     "locked": true,
     "schema_version": 3,
     "solution": false,
     "task": false
    }
   },
   "source": [
    "How many distinct occupations? "
   ]
  },
  {
   "cell_type": "code",
   "execution_count": 17,
   "metadata": {
    "nbgrader": {
     "grade": false,
     "grade_id": "cell-78297e62585ff298",
     "locked": false,
     "schema_version": 3,
     "solution": true,
     "task": false
    },
    "tags": [
     "q01a",
     "test"
    ]
   },
   "outputs": [],
   "source": [
    "q2_1 = ... \n",
    "\n",
    "### BEGIN SOLUTION \n",
    "q2_1 = 14089\n",
    "### END SOLUTION"
   ]
  },
  {
   "cell_type": "code",
   "execution_count": 18,
   "metadata": {
    "nbgrader": {
     "grade": true,
     "grade_id": "cell-427eb3a7dc69fd39",
     "locked": true,
     "points": 1,
     "schema_version": 3,
     "solution": false,
     "task": false
    },
    "tags": [
     "q01a",
     "test"
    ]
   },
   "outputs": [],
   "source": [
    "# TEST \n",
    "\n",
    "assert 10000 < q2_1 < 20000\n",
    "\n",
    "### BEGIN HIDDEN TESTS\n",
    "assert q2_1 == 14089\n",
    "### END HIDDEN TESTS"
   ]
  },
  {
   "cell_type": "markdown",
   "metadata": {
    "nbgrader": {
     "grade": false,
     "grade_id": "q2b",
     "locked": true,
     "schema_version": 3,
     "solution": false
    }
   },
   "source": [
    "#### Question 2.2\n",
    "\n",
    "We can count the number of donors for each occupation."
   ]
  },
  {
   "cell_type": "code",
   "execution_count": 19,
   "metadata": {
    "nbgrader": {
     "grade": false,
     "grade_id": "cell-ca150c4765b634de",
     "locked": true,
     "schema_version": 3,
     "solution": false,
     "task": false
    }
   },
   "outputs": [
    {
     "data": {
      "text/html": [
       "<div>\n",
       "<style scoped>\n",
       "    .dataframe tbody tr th:only-of-type {\n",
       "        vertical-align: middle;\n",
       "    }\n",
       "\n",
       "    .dataframe tbody tr th {\n",
       "        vertical-align: top;\n",
       "    }\n",
       "\n",
       "    .dataframe thead th {\n",
       "        text-align: right;\n",
       "    }\n",
       "</style>\n",
       "<table border=\"1\" class=\"dataframe\">\n",
       "  <thead>\n",
       "    <tr style=\"text-align: right;\">\n",
       "      <th></th>\n",
       "      <th>occupation</th>\n",
       "      <th>count</th>\n",
       "    </tr>\n",
       "  </thead>\n",
       "  <tbody>\n",
       "    <tr>\n",
       "      <th>0</th>\n",
       "      <td>NOT EMPLOYED</td>\n",
       "      <td>56006</td>\n",
       "    </tr>\n",
       "    <tr>\n",
       "      <th>1</th>\n",
       "      <td>RETIRED</td>\n",
       "      <td>48481</td>\n",
       "    </tr>\n",
       "    <tr>\n",
       "      <th>2</th>\n",
       "      <td>ATTORNEY</td>\n",
       "      <td>29537</td>\n",
       "    </tr>\n",
       "    <tr>\n",
       "      <th>3</th>\n",
       "      <td></td>\n",
       "      <td>21212</td>\n",
       "    </tr>\n",
       "    <tr>\n",
       "      <th>4</th>\n",
       "      <td>MANAGING DIRECTOR</td>\n",
       "      <td>12540</td>\n",
       "    </tr>\n",
       "    <tr>\n",
       "      <th>5</th>\n",
       "      <td>WRITER</td>\n",
       "      <td>9445</td>\n",
       "    </tr>\n",
       "    <tr>\n",
       "      <th>6</th>\n",
       "      <td>PHYSICIAN</td>\n",
       "      <td>9430</td>\n",
       "    </tr>\n",
       "    <tr>\n",
       "      <th>7</th>\n",
       "      <td>PROFESSOR</td>\n",
       "      <td>9309</td>\n",
       "    </tr>\n",
       "    <tr>\n",
       "      <th>8</th>\n",
       "      <td>LAWYER</td>\n",
       "      <td>9048</td>\n",
       "    </tr>\n",
       "    <tr>\n",
       "      <th>9</th>\n",
       "      <td>EXECUTIVE</td>\n",
       "      <td>8376</td>\n",
       "    </tr>\n",
       "  </tbody>\n",
       "</table>\n",
       "</div>"
      ],
      "text/plain": [
       "          occupation  count\n",
       "0       NOT EMPLOYED  56006\n",
       "1            RETIRED  48481\n",
       "2           ATTORNEY  29537\n",
       "3                     21212\n",
       "4  MANAGING DIRECTOR  12540\n",
       "5             WRITER   9445\n",
       "6          PHYSICIAN   9430\n",
       "7          PROFESSOR   9309\n",
       "8             LAWYER   9048\n",
       "9          EXECUTIVE   8376"
      ]
     },
     "execution_count": 19,
     "metadata": {},
     "output_type": "execute_result"
    }
   ],
   "source": [
    "query2_2 = '''\n",
    "SELECT \n",
    "    occupation AS occupation, \n",
    "    count(*) AS count\n",
    "FROM indiv_sample_nyc\n",
    "GROUP BY occupation \n",
    "ORDER BY count DESC\n",
    "LIMIT 10\n",
    "'''\n",
    "\n",
    "pd.read_sql(query2_2, engine)"
   ]
  },
  {
   "cell_type": "markdown",
   "metadata": {
    "nbgrader": {
     "grade": false,
     "grade_id": "cell-a7ce0b6e7ced419e",
     "locked": true,
     "schema_version": 3,
     "solution": false,
     "task": false
    }
   },
   "source": [
    "Modify the query to compute another column called `average_amount`. The column should contain the average value of the donations in `transaction_amt`."
   ]
  },
  {
   "cell_type": "code",
   "execution_count": 20,
   "metadata": {
    "nbgrader": {
     "grade": false,
     "grade_id": "q2c-answer",
     "locked": false,
     "schema_version": 3,
     "solution": true
    },
    "tags": [
     "student"
    ]
   },
   "outputs": [
    {
     "data": {
      "text/html": [
       "<div>\n",
       "<style scoped>\n",
       "    .dataframe tbody tr th:only-of-type {\n",
       "        vertical-align: middle;\n",
       "    }\n",
       "\n",
       "    .dataframe tbody tr th {\n",
       "        vertical-align: top;\n",
       "    }\n",
       "\n",
       "    .dataframe thead th {\n",
       "        text-align: right;\n",
       "    }\n",
       "</style>\n",
       "<table border=\"1\" class=\"dataframe\">\n",
       "  <thead>\n",
       "    <tr style=\"text-align: right;\">\n",
       "      <th></th>\n",
       "      <th>occupation</th>\n",
       "      <th>count</th>\n",
       "      <th>average_amount</th>\n",
       "    </tr>\n",
       "  </thead>\n",
       "  <tbody>\n",
       "    <tr>\n",
       "      <th>0</th>\n",
       "      <td>NOT EMPLOYED</td>\n",
       "      <td>56006</td>\n",
       "      <td>143.546602</td>\n",
       "    </tr>\n",
       "    <tr>\n",
       "      <th>1</th>\n",
       "      <td>RETIRED</td>\n",
       "      <td>48481</td>\n",
       "      <td>448.048266</td>\n",
       "    </tr>\n",
       "    <tr>\n",
       "      <th>2</th>\n",
       "      <td>ATTORNEY</td>\n",
       "      <td>29537</td>\n",
       "      <td>597.655551</td>\n",
       "    </tr>\n",
       "    <tr>\n",
       "      <th>3</th>\n",
       "      <td></td>\n",
       "      <td>21212</td>\n",
       "      <td>4350.852772</td>\n",
       "    </tr>\n",
       "    <tr>\n",
       "      <th>4</th>\n",
       "      <td>MANAGING DIRECTOR</td>\n",
       "      <td>12540</td>\n",
       "      <td>383.655104</td>\n",
       "    </tr>\n",
       "    <tr>\n",
       "      <th>5</th>\n",
       "      <td>WRITER</td>\n",
       "      <td>9445</td>\n",
       "      <td>366.103017</td>\n",
       "    </tr>\n",
       "    <tr>\n",
       "      <th>6</th>\n",
       "      <td>PHYSICIAN</td>\n",
       "      <td>9430</td>\n",
       "      <td>217.805832</td>\n",
       "    </tr>\n",
       "    <tr>\n",
       "      <th>7</th>\n",
       "      <td>PROFESSOR</td>\n",
       "      <td>9309</td>\n",
       "      <td>179.527876</td>\n",
       "    </tr>\n",
       "    <tr>\n",
       "      <th>8</th>\n",
       "      <td>LAWYER</td>\n",
       "      <td>9048</td>\n",
       "      <td>558.407493</td>\n",
       "    </tr>\n",
       "    <tr>\n",
       "      <th>9</th>\n",
       "      <td>EXECUTIVE</td>\n",
       "      <td>8376</td>\n",
       "      <td>3991.275072</td>\n",
       "    </tr>\n",
       "  </tbody>\n",
       "</table>\n",
       "</div>"
      ],
      "text/plain": [
       "          occupation  count  average_amount\n",
       "0       NOT EMPLOYED  56006      143.546602\n",
       "1            RETIRED  48481      448.048266\n",
       "2           ATTORNEY  29537      597.655551\n",
       "3                     21212     4350.852772\n",
       "4  MANAGING DIRECTOR  12540      383.655104\n",
       "5             WRITER   9445      366.103017\n",
       "6          PHYSICIAN   9430      217.805832\n",
       "7          PROFESSOR   9309      179.527876\n",
       "8             LAWYER   9048      558.407493\n",
       "9          EXECUTIVE   8376     3991.275072"
      ]
     },
     "execution_count": 20,
     "metadata": {},
     "output_type": "execute_result"
    }
   ],
   "source": [
    "query2_2 = '''\n",
    "SELECT \n",
    "    occupation AS occupation, \n",
    "    count(*) AS count,\n",
    "    ...\n",
    "FROM indiv_sample_nyc\n",
    "GROUP BY occupation \n",
    "ORDER BY count DESC\n",
    "LIMIT 10\n",
    "'''\n",
    "\n",
    "### BEGIN SOLUTION\n",
    "query2_2 = '''\n",
    "SELECT \n",
    "    occupation AS occupation, \n",
    "    count(*) AS count,\n",
    "    avg(transaction_amt) as average_amount\n",
    "FROM indiv_sample_nyc\n",
    "GROUP BY occupation \n",
    "ORDER BY count DESC\n",
    "LIMIT 10\n",
    "'''\n",
    "### END SOLUTION\n",
    "\n",
    "pd.read_sql(query2_2, engine)"
   ]
  },
  {
   "cell_type": "markdown",
   "metadata": {},
   "source": [
    "<font color='red' size=\"4\">The GROUP BY statement groups rows that have the same values into summary rows, like \"find the count and average_amount in each occupation\".\n",
    "\n",
    "The GROUP BY statement is often used with aggregate functions (COUNT, MAX, MIN, SUM, AVG) to group the result-set by one or more columns.</font>"
   ]
  },
  {
   "cell_type": "markdown",
   "metadata": {
    "nbgrader": {
     "grade": false,
     "grade_id": "cell-0c7836cab5767c89",
     "locked": true,
     "schema_version": 3,
     "solution": false,
     "task": false
    }
   },
   "source": [
    "What is the average amount of donations among lawyers? "
   ]
  },
  {
   "cell_type": "code",
   "execution_count": 21,
   "metadata": {
    "nbgrader": {
     "grade": false,
     "grade_id": "cell-2902054b62b2a395",
     "locked": false,
     "schema_version": 3,
     "solution": true,
     "task": false
    },
    "tags": [
     "q01a",
     "test"
    ]
   },
   "outputs": [],
   "source": [
    "q2_2 = ... \n",
    "\n",
    "### BEGIN SOLUTION \n",
    "q2_2 = 558\n",
    "### END SOLUTION"
   ]
  },
  {
   "cell_type": "code",
   "execution_count": 22,
   "metadata": {
    "nbgrader": {
     "grade": true,
     "grade_id": "cell-1ce1b1c136cacade",
     "locked": true,
     "points": 1,
     "schema_version": 3,
     "solution": false,
     "task": false
    },
    "tags": [
     "q01a",
     "test"
    ]
   },
   "outputs": [],
   "source": [
    "# TEST \n",
    "\n",
    "assert 0 < q2_2 < 1000\n",
    "\n",
    "### BEGIN HIDDEN TESTS\n",
    "assert np.abs(q2_2 - 558) < 1\n",
    "### END HIDDEN TESTS"
   ]
  },
  {
   "cell_type": "markdown",
   "metadata": {
    "nbgrader": {
     "grade": false,
     "grade_id": "q2d",
     "locked": true,
     "schema_version": 3,
     "solution": false
    }
   },
   "source": [
    "#### Question 2.3\n",
    "\n",
    "Note that some of the occupations have few donors.\n"
   ]
  },
  {
   "cell_type": "code",
   "execution_count": 23,
   "metadata": {
    "nbgrader": {
     "grade": false,
     "grade_id": "cell-3558dc9b09aa027a",
     "locked": true,
     "schema_version": 3,
     "solution": false,
     "task": false
    }
   },
   "outputs": [
    {
     "data": {
      "text/html": [
       "<div>\n",
       "<style scoped>\n",
       "    .dataframe tbody tr th:only-of-type {\n",
       "        vertical-align: middle;\n",
       "    }\n",
       "\n",
       "    .dataframe tbody tr th {\n",
       "        vertical-align: top;\n",
       "    }\n",
       "\n",
       "    .dataframe thead th {\n",
       "        text-align: right;\n",
       "    }\n",
       "</style>\n",
       "<table border=\"1\" class=\"dataframe\">\n",
       "  <thead>\n",
       "    <tr style=\"text-align: right;\">\n",
       "      <th></th>\n",
       "      <th>occupation</th>\n",
       "      <th>count</th>\n",
       "    </tr>\n",
       "  </thead>\n",
       "  <tbody>\n",
       "    <tr>\n",
       "      <th>0</th>\n",
       "      <td>&amp; PROFFESSOR</td>\n",
       "      <td>1</td>\n",
       "    </tr>\n",
       "    <tr>\n",
       "      <th>1</th>\n",
       "      <td>109059</td>\n",
       "      <td>1</td>\n",
       "    </tr>\n",
       "    <tr>\n",
       "      <th>2</th>\n",
       "      <td>1ST VP DEVELOPMENT</td>\n",
       "      <td>1</td>\n",
       "    </tr>\n",
       "    <tr>\n",
       "      <th>3</th>\n",
       "      <td>2ND VICE PRESIDENT</td>\n",
       "      <td>1</td>\n",
       "    </tr>\n",
       "    <tr>\n",
       "      <th>4</th>\n",
       "      <td>4C ADVISOR</td>\n",
       "      <td>1</td>\n",
       "    </tr>\n",
       "    <tr>\n",
       "      <th>5</th>\n",
       "      <td>68644</td>\n",
       "      <td>1</td>\n",
       "    </tr>\n",
       "    <tr>\n",
       "      <th>6</th>\n",
       "      <td>9-11 RESPONDER</td>\n",
       "      <td>1</td>\n",
       "    </tr>\n",
       "    <tr>\n",
       "      <th>7</th>\n",
       "      <td>AAG</td>\n",
       "      <td>1</td>\n",
       "    </tr>\n",
       "    <tr>\n",
       "      <th>8</th>\n",
       "      <td>ABC</td>\n",
       "      <td>1</td>\n",
       "    </tr>\n",
       "    <tr>\n",
       "      <th>9</th>\n",
       "      <td>ABSOLUTE ELECTRICAL CONTRACTING</td>\n",
       "      <td>1</td>\n",
       "    </tr>\n",
       "  </tbody>\n",
       "</table>\n",
       "</div>"
      ],
      "text/plain": [
       "                        occupation  count\n",
       "0                     & PROFFESSOR      1\n",
       "1                           109059      1\n",
       "2               1ST VP DEVELOPMENT      1\n",
       "3               2ND VICE PRESIDENT      1\n",
       "4                       4C ADVISOR      1\n",
       "5                            68644      1\n",
       "6                   9-11 RESPONDER      1\n",
       "7                              AAG      1\n",
       "8                              ABC      1\n",
       "9  ABSOLUTE ELECTRICAL CONTRACTING      1"
      ]
     },
     "execution_count": 23,
     "metadata": {},
     "output_type": "execute_result"
    }
   ],
   "source": [
    "query2_3 = '''\n",
    "SELECT \n",
    "    occupation AS occupation, \n",
    "    count(*) AS count\n",
    "FROM indiv_sample_nyc\n",
    "GROUP BY occupation \n",
    "ORDER BY count ASC\n",
    "LIMIT 10\n",
    "'''\n",
    "\n",
    "pd.read_sql(query2_3, engine)"
   ]
  },
  {
   "cell_type": "markdown",
   "metadata": {
    "nbgrader": {
     "grade": false,
     "grade_id": "cell-bb20a76e329e4625",
     "locked": true,
     "schema_version": 3,
     "solution": false,
     "task": false
    }
   },
   "source": [
    "Modify the query from Question 2.2:\n",
    "\n",
    "- Add the `HAVING` command to remove any group with `count` less than or equal to 10.\n",
    "- Change the `ORDER BY` command to sort in descending order by the value in the `average_amount` column. "
   ]
  },
  {
   "cell_type": "code",
   "execution_count": 23,
   "metadata": {
    "nbgrader": {
     "grade": false,
     "grade_id": "q2d-answer",
     "locked": false,
     "schema_version": 3,
     "solution": true
    },
    "tags": [
     "student"
    ]
   },
   "outputs": [
    {
     "data": {
      "text/html": [
       "<div>\n",
       "<style scoped>\n",
       "    .dataframe tbody tr th:only-of-type {\n",
       "        vertical-align: middle;\n",
       "    }\n",
       "\n",
       "    .dataframe tbody tr th {\n",
       "        vertical-align: top;\n",
       "    }\n",
       "\n",
       "    .dataframe thead th {\n",
       "        text-align: right;\n",
       "    }\n",
       "</style>\n",
       "<table border=\"1\" class=\"dataframe\">\n",
       "  <thead>\n",
       "    <tr style=\"text-align: right;\">\n",
       "      <th></th>\n",
       "      <th>occupation</th>\n",
       "      <th>count</th>\n",
       "      <th>average_amount</th>\n",
       "    </tr>\n",
       "  </thead>\n",
       "  <tbody>\n",
       "    <tr>\n",
       "      <th>0</th>\n",
       "      <td>C.E.O.</td>\n",
       "      <td>53</td>\n",
       "      <td>185271.886792</td>\n",
       "    </tr>\n",
       "    <tr>\n",
       "      <th>1</th>\n",
       "      <td>BIOMEDICAL RESEARCH</td>\n",
       "      <td>40</td>\n",
       "      <td>110563.750000</td>\n",
       "    </tr>\n",
       "    <tr>\n",
       "      <th>2</th>\n",
       "      <td>PRESIDENT/CEO</td>\n",
       "      <td>205</td>\n",
       "      <td>92551.541463</td>\n",
       "    </tr>\n",
       "    <tr>\n",
       "      <th>3</th>\n",
       "      <td>FOUNDER &amp; CEO</td>\n",
       "      <td>91</td>\n",
       "      <td>68304.626374</td>\n",
       "    </tr>\n",
       "    <tr>\n",
       "      <th>4</th>\n",
       "      <td>PHILANTHROPIST</td>\n",
       "      <td>257</td>\n",
       "      <td>51764.404669</td>\n",
       "    </tr>\n",
       "    <tr>\n",
       "      <th>5</th>\n",
       "      <td>FOUNDER AND PRINCIPAL</td>\n",
       "      <td>11</td>\n",
       "      <td>43490.909091</td>\n",
       "    </tr>\n",
       "    <tr>\n",
       "      <th>6</th>\n",
       "      <td>CEO &amp; FOUNDER</td>\n",
       "      <td>15</td>\n",
       "      <td>37795.266667</td>\n",
       "    </tr>\n",
       "    <tr>\n",
       "      <th>7</th>\n",
       "      <td>GROUP PRESIDENT</td>\n",
       "      <td>19</td>\n",
       "      <td>29775.000000</td>\n",
       "    </tr>\n",
       "    <tr>\n",
       "      <th>8</th>\n",
       "      <td>FUND MANAGER</td>\n",
       "      <td>67</td>\n",
       "      <td>29151.119403</td>\n",
       "    </tr>\n",
       "    <tr>\n",
       "      <th>9</th>\n",
       "      <td>CHIEF INVESTMENT OFFICER</td>\n",
       "      <td>42</td>\n",
       "      <td>26616.666667</td>\n",
       "    </tr>\n",
       "  </tbody>\n",
       "</table>\n",
       "</div>"
      ],
      "text/plain": [
       "                 occupation  count  average_amount\n",
       "0                    C.E.O.     53   185271.886792\n",
       "1       BIOMEDICAL RESEARCH     40   110563.750000\n",
       "2             PRESIDENT/CEO    205    92551.541463\n",
       "3             FOUNDER & CEO     91    68304.626374\n",
       "4            PHILANTHROPIST    257    51764.404669\n",
       "5     FOUNDER AND PRINCIPAL     11    43490.909091\n",
       "6             CEO & FOUNDER     15    37795.266667\n",
       "7           GROUP PRESIDENT     19    29775.000000\n",
       "8              FUND MANAGER     67    29151.119403\n",
       "9  CHIEF INVESTMENT OFFICER     42    26616.666667"
      ]
     },
     "execution_count": 23,
     "metadata": {},
     "output_type": "execute_result"
    }
   ],
   "source": [
    "query2_3 = '''\n",
    "SELECT \n",
    "    occupation AS occupation, \n",
    "    count(*) AS count,\n",
    "    ...\n",
    "FROM indiv_sample_nyc\n",
    "GROUP BY occupation \n",
    "HAVING count ...\n",
    "ORDER BY ...\n",
    "LIMIT 10\n",
    "'''\n",
    "\n",
    "### BEGIN SOLUTION\n",
    "query2_3 = '''\n",
    "SELECT \n",
    "    occupation AS occupation, \n",
    "    count(*) AS count,\n",
    "    avg(transaction_amt) as average_amount\n",
    "FROM indiv_sample_nyc\n",
    "GROUP BY occupation\n",
    "HAVING count > 10\n",
    "ORDER BY average_amount DESC\n",
    "LIMIT 10\n",
    "'''\n",
    "### END SOLUTION\n",
    "\n",
    "pd.read_sql(query2_3, engine)"
   ]
  },
  {
   "cell_type": "markdown",
   "metadata": {
    "nbgrader": {
     "grade": false,
     "grade_id": "cell-2934d759747d952e",
     "locked": true,
     "schema_version": 3,
     "solution": false,
     "task": false
    }
   },
   "source": [
    "What is the average amout of a donation for the occupation `C.E.O.`? "
   ]
  },
  {
   "cell_type": "code",
   "execution_count": 25,
   "metadata": {
    "nbgrader": {
     "grade": false,
     "grade_id": "cell-9b6c1c30c55fc6a0",
     "locked": false,
     "schema_version": 3,
     "solution": true,
     "task": false
    },
    "tags": [
     "q01a",
     "test"
    ]
   },
   "outputs": [],
   "source": [
    "q2_3 = ... \n",
    "\n",
    "### BEGIN SOLUTION \n",
    "q2_3 = 185271\n",
    "### END SOLUTION"
   ]
  },
  {
   "cell_type": "code",
   "execution_count": 26,
   "metadata": {
    "nbgrader": {
     "grade": true,
     "grade_id": "cell-5f6e304be17d4eab",
     "locked": true,
     "points": 1,
     "schema_version": 3,
     "solution": false,
     "task": false
    },
    "tags": [
     "q01a",
     "test"
    ]
   },
   "outputs": [],
   "source": [
    "# TEST \n",
    "\n",
    "assert 100000 < q2_3 < 200000\n",
    "\n",
    "### BEGIN HIDDEN TESTS\n",
    "assert np.abs(q2_3 - 185271) < 1\n",
    "### END HIDDEN TESTS"
   ]
  },
  {
   "cell_type": "markdown",
   "metadata": {
    "nbgrader": {
     "grade": false,
     "grade_id": "cell-90942835d6d1552d",
     "locked": true,
     "schema_version": 3,
     "solution": false,
     "task": false
    }
   },
   "source": [
    "#### Questions 2.4\n",
    "\n",
    "We can change the granularity of the groups by grouping records on occupation and name. \n",
    "\n",
    "Complete the `GROUP BY` command in the query to group by `occupation`, `name`. "
   ]
  },
  {
   "cell_type": "code",
   "execution_count": 24,
   "metadata": {
    "nbgrader": {
     "grade": false,
     "grade_id": "q2e-answer",
     "locked": false,
     "schema_version": 3,
     "solution": true
    },
    "tags": [
     "student"
    ]
   },
   "outputs": [
    {
     "data": {
      "text/html": [
       "<div>\n",
       "<style scoped>\n",
       "    .dataframe tbody tr th:only-of-type {\n",
       "        vertical-align: middle;\n",
       "    }\n",
       "\n",
       "    .dataframe tbody tr th {\n",
       "        vertical-align: top;\n",
       "    }\n",
       "\n",
       "    .dataframe thead th {\n",
       "        text-align: right;\n",
       "    }\n",
       "</style>\n",
       "<table border=\"1\" class=\"dataframe\">\n",
       "  <thead>\n",
       "    <tr style=\"text-align: right;\">\n",
       "      <th></th>\n",
       "      <th>occupation</th>\n",
       "      <th>name</th>\n",
       "      <th>total_amount</th>\n",
       "    </tr>\n",
       "  </thead>\n",
       "  <tbody>\n",
       "    <tr>\n",
       "      <th>0</th>\n",
       "      <td></td>\n",
       "      <td>HILLARY VICTORY FUND</td>\n",
       "      <td>35379700</td>\n",
       "    </tr>\n",
       "    <tr>\n",
       "      <th>1</th>\n",
       "      <td>EXECUTIVE</td>\n",
       "      <td>BLOOMBERG, MICHAEL R.</td>\n",
       "      <td>21665124</td>\n",
       "    </tr>\n",
       "    <tr>\n",
       "      <th>2</th>\n",
       "      <td>PRESIDENT/CEO</td>\n",
       "      <td>TRUMP, DONALD J.</td>\n",
       "      <td>18633157</td>\n",
       "    </tr>\n",
       "    <tr>\n",
       "      <th>3</th>\n",
       "      <td>CHAIRMAN</td>\n",
       "      <td>SOROS, GEORGE</td>\n",
       "      <td>17281093</td>\n",
       "    </tr>\n",
       "    <tr>\n",
       "      <th>4</th>\n",
       "      <td>PHILANTHROPIST</td>\n",
       "      <td>SIMONS, JAMES</td>\n",
       "      <td>11032000</td>\n",
       "    </tr>\n",
       "    <tr>\n",
       "      <th>5</th>\n",
       "      <td>PRESIDENT</td>\n",
       "      <td>SIMONS, JAMES H.</td>\n",
       "      <td>10525000</td>\n",
       "    </tr>\n",
       "    <tr>\n",
       "      <th>6</th>\n",
       "      <td></td>\n",
       "      <td>C.V. STARR &amp; CO INC</td>\n",
       "      <td>10000000</td>\n",
       "    </tr>\n",
       "    <tr>\n",
       "      <th>7</th>\n",
       "      <td>C.E.O.</td>\n",
       "      <td>SINGER, PAUL ELLIOT</td>\n",
       "      <td>5000000</td>\n",
       "    </tr>\n",
       "    <tr>\n",
       "      <th>8</th>\n",
       "      <td></td>\n",
       "      <td>HILLARY ACTION FUND</td>\n",
       "      <td>4950000</td>\n",
       "    </tr>\n",
       "    <tr>\n",
       "      <th>9</th>\n",
       "      <td>C.E.O.</td>\n",
       "      <td>SINGER, PAUL</td>\n",
       "      <td>4500000</td>\n",
       "    </tr>\n",
       "  </tbody>\n",
       "</table>\n",
       "</div>"
      ],
      "text/plain": [
       "       occupation                   name  total_amount\n",
       "0                   HILLARY VICTORY FUND      35379700\n",
       "1       EXECUTIVE  BLOOMBERG, MICHAEL R.      21665124\n",
       "2   PRESIDENT/CEO       TRUMP, DONALD J.      18633157\n",
       "3        CHAIRMAN          SOROS, GEORGE      17281093\n",
       "4  PHILANTHROPIST          SIMONS, JAMES      11032000\n",
       "5       PRESIDENT       SIMONS, JAMES H.      10525000\n",
       "6                    C.V. STARR & CO INC      10000000\n",
       "7          C.E.O.    SINGER, PAUL ELLIOT       5000000\n",
       "8                    HILLARY ACTION FUND       4950000\n",
       "9          C.E.O.           SINGER, PAUL       4500000"
      ]
     },
     "execution_count": 24,
     "metadata": {},
     "output_type": "execute_result"
    }
   ],
   "source": [
    "query2_4 = '''\n",
    "SELECT \n",
    "    occupation AS occupation,\n",
    "    name AS name,\n",
    "    sum(transaction_amt) AS total_amount\n",
    "FROM indiv_sample_nyc\n",
    "GROUP BY ...\n",
    "ORDER BY total_amount DESC\n",
    "LIMIT 10'''\n",
    "\n",
    "### BEGIN SOLUTION\n",
    "query2_4 = '''\n",
    "SELECT \n",
    "    occupation AS occupation,\n",
    "    name AS name,\n",
    "    sum(transaction_amt) AS total_amount\n",
    "FROM indiv_sample_nyc\n",
    "GROUP BY occupation,name\n",
    "ORDER BY total_amount DESC\n",
    "LIMIT 10\n",
    "'''\n",
    "### END SOLUTION\n",
    "\n",
    "pd.read_sql(query2_4, engine)"
   ]
  },
  {
   "cell_type": "markdown",
   "metadata": {
    "nbgrader": {
     "grade": false,
     "grade_id": "cell-ddb748a37c4e43c3",
     "locked": true,
     "schema_version": 3,
     "solution": false,
     "task": false
    }
   },
   "source": [
    "__Multiple Choice:__ Which individual contributed the most donations? \n",
    "\n",
    "1. Soros\n",
    "1. Trump\n",
    "1. Simons \n",
    "1. Bloomberg"
   ]
  },
  {
   "cell_type": "code",
   "execution_count": 28,
   "metadata": {
    "nbgrader": {
     "grade": false,
     "grade_id": "cell-6cc72238001df252",
     "locked": false,
     "schema_version": 3,
     "solution": true,
     "task": false
    },
    "tags": [
     "q01a",
     "test"
    ]
   },
   "outputs": [],
   "source": [
    "q2_4 = ... \n",
    "\n",
    "### BEGIN SOLUTION \n",
    "q2_4 = \"Bloomberg\"\n",
    "### END SOLUTION"
   ]
  },
  {
   "cell_type": "code",
   "execution_count": 29,
   "metadata": {
    "nbgrader": {
     "grade": true,
     "grade_id": "cell-0408d13daa3adee6",
     "locked": true,
     "points": 1,
     "schema_version": 3,
     "solution": false,
     "task": false
    },
    "tags": [
     "q01a",
     "test"
    ]
   },
   "outputs": [],
   "source": [
    "# TEST \n",
    "\n",
    "assert q2_4 in [\"Soros\", \"Trump\", \"Simons\", \"Bloomberg\"]\n",
    "\n",
    "### BEGIN HIDDEN TESTS\n",
    "assert q2_4 == \"Bloomberg\"\n",
    "### END HIDDEN TESTS"
   ]
  },
  {
   "cell_type": "markdown",
   "metadata": {
    "nbgrader": {
     "grade": false,
     "grade_id": "q2f",
     "locked": true,
     "schema_version": 3,
     "solution": false
    }
   },
   "source": [
    "We calculated the average amount of a donation for each occupation in Question 2.3. Here we computed the average over the donations. We did not compute the average over donations grouped by names. Since some donors make multiple donations, we might obtain larger average grouping by name. "
   ]
  },
  {
   "cell_type": "code",
   "execution_count": 25,
   "metadata": {
    "nbgrader": {
     "grade": false,
     "grade_id": "q2f-answer",
     "locked": false,
     "schema_version": 3,
     "solution": true
    },
    "tags": [
     "student"
    ]
   },
   "outputs": [
    {
     "data": {
      "text/html": [
       "<div>\n",
       "<style scoped>\n",
       "    .dataframe tbody tr th:only-of-type {\n",
       "        vertical-align: middle;\n",
       "    }\n",
       "\n",
       "    .dataframe tbody tr th {\n",
       "        vertical-align: top;\n",
       "    }\n",
       "\n",
       "    .dataframe thead th {\n",
       "        text-align: right;\n",
       "    }\n",
       "</style>\n",
       "<table border=\"1\" class=\"dataframe\">\n",
       "  <thead>\n",
       "    <tr style=\"text-align: right;\">\n",
       "      <th></th>\n",
       "      <th>occupation</th>\n",
       "      <th>amount</th>\n",
       "      <th>count</th>\n",
       "    </tr>\n",
       "  </thead>\n",
       "  <tbody>\n",
       "    <tr>\n",
       "      <th>0</th>\n",
       "      <td>CHAIRMAN CEO &amp; FOUNDER</td>\n",
       "      <td>1.023333e+06</td>\n",
       "      <td>3</td>\n",
       "    </tr>\n",
       "    <tr>\n",
       "      <th>1</th>\n",
       "      <td>BIOMEDICAL RESEARCHER</td>\n",
       "      <td>1.000000e+06</td>\n",
       "      <td>1</td>\n",
       "    </tr>\n",
       "    <tr>\n",
       "      <th>2</th>\n",
       "      <td>BIOMEDICAL RESEARCH</td>\n",
       "      <td>7.370917e+05</td>\n",
       "      <td>6</td>\n",
       "    </tr>\n",
       "    <tr>\n",
       "      <th>3</th>\n",
       "      <td>PRESIDENT/CEO</td>\n",
       "      <td>6.776095e+05</td>\n",
       "      <td>28</td>\n",
       "    </tr>\n",
       "    <tr>\n",
       "      <th>4</th>\n",
       "      <td>OWNER, CHAIRMAN, CEO</td>\n",
       "      <td>6.000000e+05</td>\n",
       "      <td>1</td>\n",
       "    </tr>\n",
       "    <tr>\n",
       "      <th>5</th>\n",
       "      <td>FOUNDING AND MANAGING PRINCIPAL</td>\n",
       "      <td>4.500000e+05</td>\n",
       "      <td>2</td>\n",
       "    </tr>\n",
       "    <tr>\n",
       "      <th>6</th>\n",
       "      <td>CHAIRMAN &amp; SENIOR EXECUTIVE</td>\n",
       "      <td>4.267480e+05</td>\n",
       "      <td>1</td>\n",
       "    </tr>\n",
       "    <tr>\n",
       "      <th>7</th>\n",
       "      <td>DIRECTOR OF CURRICULUM</td>\n",
       "      <td>4.227330e+05</td>\n",
       "      <td>1</td>\n",
       "    </tr>\n",
       "    <tr>\n",
       "      <th>8</th>\n",
       "      <td>CHAIRMAN AND SENIOR EXECUTIVE</td>\n",
       "      <td>4.000000e+05</td>\n",
       "      <td>1</td>\n",
       "    </tr>\n",
       "    <tr>\n",
       "      <th>9</th>\n",
       "      <td>C.E.O.</td>\n",
       "      <td>3.927764e+05</td>\n",
       "      <td>25</td>\n",
       "    </tr>\n",
       "  </tbody>\n",
       "</table>\n",
       "</div>"
      ],
      "text/plain": [
       "                        occupation        amount  count\n",
       "0           CHAIRMAN CEO & FOUNDER  1.023333e+06      3\n",
       "1            BIOMEDICAL RESEARCHER  1.000000e+06      1\n",
       "2              BIOMEDICAL RESEARCH  7.370917e+05      6\n",
       "3                    PRESIDENT/CEO  6.776095e+05     28\n",
       "4             OWNER, CHAIRMAN, CEO  6.000000e+05      1\n",
       "5  FOUNDING AND MANAGING PRINCIPAL  4.500000e+05      2\n",
       "6      CHAIRMAN & SENIOR EXECUTIVE  4.267480e+05      1\n",
       "7           DIRECTOR OF CURRICULUM  4.227330e+05      1\n",
       "8    CHAIRMAN AND SENIOR EXECUTIVE  4.000000e+05      1\n",
       "9                           C.E.O.  3.927764e+05     25"
      ]
     },
     "execution_count": 25,
     "metadata": {},
     "output_type": "execute_result"
    }
   ],
   "source": [
    "query2_4_2 = '''\n",
    "SELECT occupation, avg(total_amount) AS amount, count(*) AS count\n",
    "FROM (\n",
    "    SELECT name, occupation, sum(transaction_amt) AS total_amount\n",
    "    FROM indiv_sample_nyc \n",
    "    GROUP BY occupation, name\n",
    ") AS total_contributions\n",
    "GROUP BY occupation\n",
    "ORDER BY amount DESC\n",
    "LIMIT 10\n",
    "'''\n",
    "\n",
    "pd.read_sql(query2_4_2, engine)"
   ]
  },
  {
   "cell_type": "markdown",
   "metadata": {},
   "source": [
    "<font color='red' size=\"4\">A Subquery or Inner query or a Nested query is a query within another SQL query and embedded within the WHERE clause.\n",
    "\n",
    "A subquery is used to return data that will be used in the main query as a condition to further restrict the data to be retrieved.\n",
    "\n",
    "Subqueries can be used with the SELECT, INSERT, UPDATE, and DELETE statements along with the operators like =, <, >, >=, <=, IN, BETWEEN, etc.\n",
    "\n",
    "There are a few rules that subqueries must follow −\n",
    "\n",
    "Subqueries must be enclosed within parentheses.\n",
    "\n",
    "A subquery can have only one column in the SELECT clause, unless multiple columns are in the main query for the subquery to compare its selected columns.\n",
    "\n",
    "An ORDER BY command cannot be used in a subquery, although the main query can use an ORDER BY. The GROUP BY command can be used to perform the same function as the ORDER BY in a subquery.\n",
    "\n",
    "Subqueries that return more than one row can only be used with multiple value operators such as the IN operator.\n",
    "\n",
    "The SELECT list cannot include any references to values that evaluate to a BLOB, ARRAY, CLOB, or NCLOB.\n",
    "\n",
    "A subquery cannot be immediately enclosed in a set function.\n",
    "\n",
    "The BETWEEN operator cannot be used with a subquery. However, the BETWEEN operator can be used within the subquery.</font>"
   ]
  },
  {
   "cell_type": "markdown",
   "metadata": {
    "nbgrader": {
     "grade": false,
     "grade_id": "cell-967ddd07976c7419",
     "locked": true,
     "schema_version": 3,
     "solution": false,
     "task": false
    }
   },
   "source": [
    "Note that the above query has two steps:\n",
    "\n",
    "- Step 1: We group the records by `occupation` and `name` to compute the sum of the donations in `transaction_amt`\n",
    "- Step 2: We group the records from Step 1 by `occupation` to compute the average of `total_amount`.\n",
    "\n",
    "Note that the amount for the occupation `C.E.O.` is \\$392776. \n",
    "\n",
    "__True or False:__ Is \\$392776 larger than the amount from Question 2.3?"
   ]
  },
  {
   "cell_type": "code",
   "execution_count": 26,
   "metadata": {
    "nbgrader": {
     "grade": false,
     "grade_id": "cell-4b40e53909ad48e3",
     "locked": false,
     "schema_version": 3,
     "solution": true,
     "task": false
    },
    "tags": [
     "q01a",
     "test"
    ]
   },
   "outputs": [],
   "source": [
    "q2_4_2 = ... \n",
    "\n",
    "### BEGIN SOLUTION \n",
    "q2_4_2 = True\n",
    "### END SOLUTION"
   ]
  },
  {
   "cell_type": "code",
   "execution_count": 27,
   "metadata": {
    "nbgrader": {
     "grade": true,
     "grade_id": "cell-cc41aeb5ad629182",
     "locked": true,
     "points": 1,
     "schema_version": 3,
     "solution": false,
     "task": false
    },
    "tags": [
     "q01a",
     "test"
    ]
   },
   "outputs": [],
   "source": [
    "# TEST \n",
    "\n",
    "assert q2_4_2 in [True, False]\n",
    "\n",
    "### BEGIN HIDDEN TESTS\n",
    "assert q2_4_2 == True\n",
    "### END HIDDEN TESTS"
   ]
  },
  {
   "cell_type": "markdown",
   "metadata": {
    "nbgrader": {
     "grade": false,
     "grade_id": "q3",
     "locked": true,
     "schema_version": 3,
     "solution": false
    }
   },
   "source": [
    "### Question 3: Linking Records \n",
    "\n",
    "The campaign of Bernie Sanders received small contributions from many donors. We can nickname these contributors as small-donors. An  \n",
    "[article](http://www.politifact.com/nbc/statements/2016/mar/21/hillary-clinton/hillary-clinton-says-her-campaign-depends-small-do/) argued that the campaign of Hillary Clinton lacked small-donors. We can check the difference in small-donors amongst residents of New York City. \n",
    "\n",
    "The contributions of donors in `indiv_sample_nyc` are linked to committees in `comm` through `cmte_id`.\n",
    "The many committee in support of the Hillary Clinton campaign was \n",
    "`HILLARY FOR AMERICA`. The many committee in support of the Bernie Sanders campaign was `BERNIE 2016`.\n",
    "\n",
    "\n",
    "#### Questions 3.1\n",
    "\n",
    "Complete the query to calculate the total amount of donations to these committees\n",
    "\n",
    "1. Complete the `WHERE` command. The query takes the cross join of `indiv_sample_nyc` and `comm`. So we need to require that `indiv_sample_nyc.cmte_id` equals `comm.cmte_id`.\n",
    "1. Complete the `HAVING` command. Indicate `HILLARY FOR AMERICA` or `BERNIE 2016` for `comm.cmte_nm`."
   ]
  },
  {
   "cell_type": "code",
   "execution_count": 28,
   "metadata": {
    "for_assignment_type": "solution",
    "nbgrader": {
     "grade": false,
     "grade_id": "cell-339e0f865566a485",
     "locked": false,
     "schema_version": 3,
     "solution": true,
     "task": false
    }
   },
   "outputs": [
    {
     "data": {
      "text/html": [
       "<div>\n",
       "<style scoped>\n",
       "    .dataframe tbody tr th:only-of-type {\n",
       "        vertical-align: middle;\n",
       "    }\n",
       "\n",
       "    .dataframe tbody tr th {\n",
       "        vertical-align: top;\n",
       "    }\n",
       "\n",
       "    .dataframe thead th {\n",
       "        text-align: right;\n",
       "    }\n",
       "</style>\n",
       "<table border=\"1\" class=\"dataframe\">\n",
       "  <thead>\n",
       "    <tr style=\"text-align: right;\">\n",
       "      <th></th>\n",
       "      <th>cmte_nm</th>\n",
       "      <th>total_transaction_amt</th>\n",
       "    </tr>\n",
       "  </thead>\n",
       "  <tbody>\n",
       "    <tr>\n",
       "      <th>0</th>\n",
       "      <td>BERNIE 2016</td>\n",
       "      <td>2361892</td>\n",
       "    </tr>\n",
       "    <tr>\n",
       "      <th>1</th>\n",
       "      <td>HILLARY FOR AMERICA</td>\n",
       "      <td>25099091</td>\n",
       "    </tr>\n",
       "  </tbody>\n",
       "</table>\n",
       "</div>"
      ],
      "text/plain": [
       "               cmte_nm  total_transaction_amt\n",
       "0          BERNIE 2016                2361892\n",
       "1  HILLARY FOR AMERICA               25099091"
      ]
     },
     "execution_count": 28,
     "metadata": {},
     "output_type": "execute_result"
    }
   ],
   "source": [
    "query3_1 = '''\n",
    "SELECT \n",
    "    comm.cmte_nm AS cmte_nm, \n",
    "    sum(indiv_sample_nyc.transaction_amt) AS total_transaction_amt\n",
    "FROM indiv_sample_nyc, comm \n",
    "WHERE ...\n",
    "GROUP BY comm.cmte_nm\n",
    "HAVING\n",
    "    cmte_nm = ... OR\n",
    "    cmte_nm = ...\n",
    "'''\n",
    "\n",
    "### BEGIN SOLUTION\n",
    "query3_1 = '''\n",
    "SELECT \n",
    "    comm.cmte_nm AS cmte_nm, \n",
    "    sum(indiv_sample_nyc.transaction_amt) AS total_transaction_amt\n",
    "FROM indiv_sample_nyc, comm \n",
    "WHERE indiv_sample_nyc.cmte_id = comm.cmte_id\n",
    "GROUP BY comm.cmte_nm\n",
    "HAVING\n",
    "    cmte_nm = 'HILLARY FOR AMERICA' OR\n",
    "    cmte_nm = 'BERNIE 2016' \n",
    "'''\n",
    "### END SOLUTION\n",
    "\n",
    "pd.read_sql(query3_1, engine)"
   ]
  },
  {
   "cell_type": "markdown",
   "metadata": {
    "nbgrader": {
     "grade": false,
     "grade_id": "cell-763536a952acc937",
     "locked": true,
     "schema_version": 3,
     "solution": false,
     "task": false
    }
   },
   "source": [
    "How much did contributors give to `BERNIE 2016`?"
   ]
  },
  {
   "cell_type": "code",
   "execution_count": 29,
   "metadata": {
    "nbgrader": {
     "grade": false,
     "grade_id": "cell-4708a84e4c579524",
     "locked": false,
     "schema_version": 3,
     "solution": true,
     "task": false
    },
    "tags": [
     "q01a",
     "test"
    ]
   },
   "outputs": [],
   "source": [
    "q3_1 = ... \n",
    "\n",
    "### BEGIN SOLUTION \n",
    "q3_1 = 2361892\n",
    "### END SOLUTION"
   ]
  },
  {
   "cell_type": "code",
   "execution_count": 30,
   "metadata": {
    "nbgrader": {
     "grade": true,
     "grade_id": "cell-ae993592234a5e91",
     "locked": true,
     "points": 1,
     "schema_version": 3,
     "solution": false,
     "task": false
    },
    "tags": [
     "q01a",
     "test"
    ]
   },
   "outputs": [],
   "source": [
    "# TEST \n",
    "\n",
    "assert 2000000 < q3_1 < 3000000\n",
    "\n",
    "### BEGIN HIDDEN TESTS\n",
    "assert q3_1 == 2361892\n",
    "### END HIDDEN TESTS"
   ]
  },
  {
   "cell_type": "markdown",
   "metadata": {
    "nbgrader": {
     "grade": false,
     "grade_id": "cell-bddcc501734aabbf",
     "locked": true,
     "schema_version": 3,
     "solution": false,
     "task": false
    }
   },
   "source": [
    "#### Question 3.2\n",
    "\n",
    "We can think of small-donors as contributors giving less than \\$200. We can calculate the funding for the committee `HILARY FOR AMERICA` owing to small-donors. "
   ]
  },
  {
   "cell_type": "code",
   "execution_count": 31,
   "metadata": {
    "for_assignment_type": "solution",
    "nbgrader": {
     "grade": false,
     "grade_id": "cell-519f30748920eb05",
     "locked": true,
     "schema_version": 3,
     "solution": false,
     "task": false
    }
   },
   "outputs": [
    {
     "data": {
      "text/html": [
       "<div>\n",
       "<style scoped>\n",
       "    .dataframe tbody tr th:only-of-type {\n",
       "        vertical-align: middle;\n",
       "    }\n",
       "\n",
       "    .dataframe tbody tr th {\n",
       "        vertical-align: top;\n",
       "    }\n",
       "\n",
       "    .dataframe thead th {\n",
       "        text-align: right;\n",
       "    }\n",
       "</style>\n",
       "<table border=\"1\" class=\"dataframe\">\n",
       "  <thead>\n",
       "    <tr style=\"text-align: right;\">\n",
       "      <th></th>\n",
       "      <th>SUM(transaction_amt)</th>\n",
       "    </tr>\n",
       "  </thead>\n",
       "  <tbody>\n",
       "    <tr>\n",
       "      <th>0</th>\n",
       "      <td>3539367</td>\n",
       "    </tr>\n",
       "  </tbody>\n",
       "</table>\n",
       "</div>"
      ],
      "text/plain": [
       "   SUM(transaction_amt)\n",
       "0               3539367"
      ]
     },
     "execution_count": 31,
     "metadata": {},
     "output_type": "execute_result"
    }
   ],
   "source": [
    "query3_2_1 = \"\"\"\n",
    "SELECT SUM(transaction_amt)  \n",
    "FROM indiv_sample_nyc, comm\n",
    "WHERE indiv_sample_nyc.cmte_id = comm.cmte_id\n",
    "    AND comm.cmte_nm = 'HILLARY FOR AMERICA'\n",
    "    AND transaction_amt < 200\n",
    "\"\"\"\n",
    "\n",
    "pd.read_sql(query3_2_1, engine)"
   ]
  },
  {
   "cell_type": "markdown",
   "metadata": {
    "nbgrader": {
     "grade": false,
     "grade_id": "cell-070e901a02ca524b",
     "locked": true,
     "schema_version": 3,
     "solution": false,
     "task": false
    }
   },
   "source": [
    "We learned from Question 3.1 that `HILARY FOR AMERICA` received \\$25099091 from all donors. So 14\\% of donors for Hilary Clinton are small-donors."
   ]
  },
  {
   "cell_type": "code",
   "execution_count": 37,
   "metadata": {
    "nbgrader": {
     "grade": false,
     "grade_id": "cell-11e7d0a86b81b835",
     "locked": true,
     "schema_version": 3,
     "solution": false,
     "task": false
    }
   },
   "outputs": [
    {
     "data": {
      "text/plain": [
       "0.14101574435504458"
      ]
     },
     "execution_count": 37,
     "metadata": {},
     "output_type": "execute_result"
    }
   ],
   "source": [
    "3539367 / 25099091"
   ]
  },
  {
   "cell_type": "markdown",
   "metadata": {
    "nbgrader": {
     "grade": false,
     "grade_id": "cell-47df8815ebb9190e",
     "locked": true,
     "schema_version": 3,
     "solution": false,
     "task": false
    }
   },
   "source": [
    "Calculate the funding for the committee `BERNIE 2016` owing to small-donors. "
   ]
  },
  {
   "cell_type": "code",
   "execution_count": 38,
   "metadata": {
    "for_assignment_type": "solution",
    "nbgrader": {
     "grade": false,
     "grade_id": "cell-33af2c3939012e90",
     "locked": false,
     "schema_version": 3,
     "solution": true,
     "task": false
    }
   },
   "outputs": [
    {
     "data": {
      "text/html": [
       "<div>\n",
       "<style scoped>\n",
       "    .dataframe tbody tr th:only-of-type {\n",
       "        vertical-align: middle;\n",
       "    }\n",
       "\n",
       "    .dataframe tbody tr th {\n",
       "        vertical-align: top;\n",
       "    }\n",
       "\n",
       "    .dataframe thead th {\n",
       "        text-align: right;\n",
       "    }\n",
       "</style>\n",
       "<table border=\"1\" class=\"dataframe\">\n",
       "  <thead>\n",
       "    <tr style=\"text-align: right;\">\n",
       "      <th></th>\n",
       "      <th>SUM(transaction_amt)</th>\n",
       "    </tr>\n",
       "  </thead>\n",
       "  <tbody>\n",
       "    <tr>\n",
       "      <th>0</th>\n",
       "      <td>1014885</td>\n",
       "    </tr>\n",
       "  </tbody>\n",
       "</table>\n",
       "</div>"
      ],
      "text/plain": [
       "   SUM(transaction_amt)\n",
       "0               1014885"
      ]
     },
     "execution_count": 38,
     "metadata": {},
     "output_type": "execute_result"
    }
   ],
   "source": [
    "query3_2_2 = ...\n",
    "\n",
    "### BEGIN SOLUTION \n",
    "query3_2_2 = \"\"\"\n",
    "SELECT SUM(transaction_amt)  \n",
    "FROM indiv_sample_nyc, comm\n",
    "WHERE indiv_sample_nyc.cmte_id = comm.cmte_id\n",
    "    AND comm.cmte_nm = 'BERNIE 2016'\n",
    "    AND transaction_amt < 200\n",
    "\"\"\"\n",
    "### END SOLUTION\n",
    "\n",
    "pd.read_sql(query3_2_2, engine)"
   ]
  },
  {
   "cell_type": "markdown",
   "metadata": {
    "nbgrader": {
     "grade": false,
     "grade_id": "cell-c9156573fecf9003",
     "locked": true,
     "schema_version": 3,
     "solution": false,
     "task": false
    }
   },
   "source": [
    "Calculate the percentage of contributions from small donors for Bernie Sanders."
   ]
  },
  {
   "cell_type": "code",
   "execution_count": 39,
   "metadata": {
    "nbgrader": {
     "grade": false,
     "grade_id": "cell-72e2379f1a7b839f",
     "locked": false,
     "schema_version": 3,
     "solution": true,
     "task": false
    }
   },
   "outputs": [],
   "source": [
    "q3_2 = ...\n",
    "\n",
    "### BEGIN SOLUTION \n",
    "q3_2 = 1014885/2361892\n",
    "### END SOLUTION "
   ]
  },
  {
   "cell_type": "code",
   "execution_count": 40,
   "metadata": {
    "nbgrader": {
     "grade": true,
     "grade_id": "cell-84cb5d8311350871",
     "locked": true,
     "points": 1,
     "schema_version": 3,
     "solution": false,
     "task": false
    },
    "tags": [
     "q01a",
     "test"
    ]
   },
   "outputs": [],
   "source": [
    "# TEST \n",
    "\n",
    "assert 0 < q3_2 < 1\n",
    "\n",
    "### BEGIN HIDDEN TESTS\n",
    "assert 0.4 < q3_2 < 0.5\n",
    "### END HIDDEN TESTS"
   ]
  },
  {
   "cell_type": "markdown",
   "metadata": {
    "nbgrader": {
     "grade": false,
     "grade_id": "cell-91f1232fdd6217cf",
     "locked": true,
     "schema_version": 3,
     "solution": false,
     "task": false
    }
   },
   "source": [
    "__True or False:__ The percentage of contributions from small for Bernie Sanders is greater than 14\\%. "
   ]
  },
  {
   "cell_type": "code",
   "execution_count": 41,
   "metadata": {
    "nbgrader": {
     "grade": false,
     "grade_id": "cell-ec6d832010604561",
     "locked": false,
     "schema_version": 3,
     "solution": true,
     "task": false
    },
    "tags": [
     "q01a",
     "test"
    ]
   },
   "outputs": [],
   "source": [
    "q3_2_2 = ... \n",
    "\n",
    "### BEGIN SOLUTION \n",
    "q3_2_2 = True\n",
    "### END SOLUTION"
   ]
  },
  {
   "cell_type": "code",
   "execution_count": 42,
   "metadata": {
    "nbgrader": {
     "grade": true,
     "grade_id": "cell-752bb4dae5397630",
     "locked": true,
     "points": 1,
     "schema_version": 3,
     "solution": false,
     "task": false
    },
    "tags": [
     "q01a",
     "test"
    ]
   },
   "outputs": [],
   "source": [
    "# TEST \n",
    "\n",
    "assert q3_2_2 in [True, False]\n",
    "\n",
    "### BEGIN HIDDEN TESTS\n",
    "assert q3_2_2 == True\n",
    "### END HIDDEN TESTS"
   ]
  }
 ],
 "metadata": {
  "anaconda-cloud": {},
  "celltoolbar": "Create Assignment",
  "kernelspec": {
   "display_name": "Python 3",
   "language": "python",
   "name": "python3"
  },
  "language_info": {
   "codemirror_mode": {
    "name": "ipython",
    "version": 3
   },
   "file_extension": ".py",
   "mimetype": "text/x-python",
   "name": "python",
   "nbconvert_exporter": "python",
   "pygments_lexer": "ipython3",
   "version": "3.7.6"
  },
  "timetravel": {
   "allowedContentTypes": [
    "text/plain"
   ],
   "enabled": false,
   "version": "1.0"
  }
 },
 "nbformat": 4,
 "nbformat_minor": 2
}
